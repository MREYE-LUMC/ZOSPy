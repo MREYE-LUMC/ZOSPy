{
 "cells": [
  {
   "cell_type": "markdown",
   "metadata": {},
   "source": [
    "# Modelling of a Shack-Hartmann Sensor for eye aberration evaluation - updated example\n",
    "\n",
    "This example is an updated version of the knowledge base example [Modelling of a Shack-Hartmann Sensor for eye aberration evaluation](https://support.zemax.com/hc/en-us/articles/4406838460819-Modelling-of-a-Shack-Hartmann-Sensor-for-eye-aberration-evaluation). In specific, it uses an improved gradient for the reversed crystalline lens. It uses `ZOSPy` to control the API. \n",
    "\n",
    "### Included functionalities\n",
    "\n",
    "* _Sequential mode_:\n",
    "  - System design:\n",
    "    - Usage of `zospy.functions.lde.surface_change_type()` to change the surface type, including the use of user defined surfaces\n",
    "    - Usage of `zospy.functions.lde.surface_change_aperturetype()` to change the aperture type of a specific surface.\n",
    "    - Usage of `zospy.solvers.material_model()` to change the material of a surface.\n",
    "    - Usage of the `PhysicalOpticsData` attribute of a surface to alter specific physical optics settings\n",
    "    - Usage of the `CoatingData` attribute of a surface to alter specific coating settings\n",
    "    - Usage of `oss.MCE` to access the multiple configurations editor and specify various configurations of the same model.\n",
    "    - Usage of `oss.SystemData` to adjust specific system settings \n",
    "  - Analysis:\n",
    "    - Usage of `zospy.analyses.wavefront.zernike_standard_coefficients()` to perform a Zernike standard coefficients analysis.\n",
    "    - Usage of `zospy.analyses.wavefront.wavefront_map()` to perform a wavefront map analysis.  \n",
    "    - Usage of `zospy.analyses.extendedscene.geometric_image_analysis()` to perform a geometric image analysis.\n",
    "    - Usage of `zospy.analyses.physicaloptics.pop_create_beam_parameter_dict()` to obtain and alter the default beam parameters for a specific physical optics propagation beam type.\n",
    "    - Usage of `zospy.analyses.physicaloptics.physical_optics_propagation()` to perform a physical optics propagation analysis.\n",
    "\n",
    "\n",
    "### Warranty and liability\n",
    "\n",
    "The examples are provided 'as is'. There is no warranty and rights cannot be derived from them, as is also stated in the general license of this repository."
   ]
  },
  {
   "cell_type": "markdown",
   "metadata": {},
   "source": [
    "## Import dependencies"
   ]
  },
  {
   "cell_type": "code",
   "execution_count": 1,
   "metadata": {},
   "outputs": [],
   "source": [
    "import matplotlib.pyplot as plt\n",
    "\n",
    "import zospy as zp\n",
    "from zospy.solvers import material_model\n",
    "from zospy.functions.lde import surface_change_type, surface_change_aperturetype"
   ]
  },
  {
   "cell_type": "markdown",
   "metadata": {},
   "source": [
    "## Initialize OpticStudio\n",
    "\n",
    "Establishing a connection with OpticStudio through the `ZOSPy` library.\n",
    "\n",
    "In this example we connect with OpticStudio in extension mode. "
   ]
  },
  {
   "cell_type": "code",
   "execution_count": 2,
   "metadata": {},
   "outputs": [],
   "source": [
    "zos = zp.ZOS()\n",
    "oss = zos.connect(mode=\"extension\")"
   ]
  },
  {
   "cell_type": "markdown",
   "metadata": {},
   "source": [
    "A new system is directly created and it is ensured that it is in sequential mode."
   ]
  },
  {
   "cell_type": "code",
   "execution_count": 3,
   "metadata": {},
   "outputs": [
    {
     "data": {
      "text/plain": [
       "True"
      ]
     },
     "execution_count": 3,
     "metadata": {},
     "output_type": "execute_result"
    }
   ],
   "source": [
    "oss.new()\n",
    "oss.make_sequential()"
   ]
  },
  {
   "cell_type": "markdown",
   "metadata": {},
   "source": [
    "## Create eye\n",
    "\n",
    "In this section, we create the reversed eye model. Note that the gradient parameters passed to *lens back* and *lens front* are different from the parameters in the knowledgebase example. \n",
    "\n",
    "To keep track of the amount of surfaces we have implemented, we utilize a constant called `n_surf`."
   ]
  },
  {
   "cell_type": "code",
   "execution_count": 4,
   "metadata": {},
   "outputs": [],
   "source": [
    "n_surf = 0  # Make sure we start at surface 0.\n",
    "\n",
    "# Object\n",
    "s_object = oss.LDE.GetSurfaceAt(n_surf)\n",
    "n_surf += 1\n",
    "s_object.Thickness = 0\n",
    "\n",
    "# Retina\n",
    "s_eye_retina = oss.LDE.InsertNewSurfaceAt(n_surf)\n",
    "n_surf += 1\n",
    "s_eye_retina.Comment = \"Eye Retina Vitreous\"\n",
    "s_eye_retina.Radius = 12.0\n",
    "s_eye_retina.Thickness = 17.928551\n",
    "material_model(s_eye_retina.MaterialCell, refractive_index=1.336, abbe_number=50.23)\n",
    "s_eye_retina.Conic = 0.0\n",
    "s_eye_retina.SemiDiameter = 12\n",
    "\n",
    "# Lens back\n",
    "s_eye_lensback = oss.LDE.InsertNewSurfaceAt(n_surf)\n",
    "n_surf += 1\n",
    "surface_change_type(s_eye_lensback, zp.constants.Editors.LDE.SurfaceType.Gradient3)\n",
    "s_eye_lensback.Comment = \"Eye Lens Back\"\n",
    "s_eye_lensback.Radius = 8.1\n",
    "s_eye_lensback.Thickness = 2.430\n",
    "s_eye_lensback.Conic = 0.960\n",
    "s_eye_lensback.SemiDiameter = 5\n",
    "s_eye_lensback.SurfaceData.DeltaT = 1.0\n",
    "s_eye_lensback.SurfaceData.n0 = 1.36799814\n",
    "s_eye_lensback.SurfaceData.Nr2 = -1.978e-03\n",
    "s_eye_lensback.SurfaceData.Nz1 = 0.03210030\n",
    "s_eye_lensback.SurfaceData.Nz2 = -6.605e-03\n",
    "\n",
    "s_eye_lensback.PhysicalOpticsData.UseRaysToPropagateToNextSurface = True\n",
    "\n",
    "# Lens front\n",
    "s_eye_lensfront = oss.LDE.InsertNewSurfaceAt(n_surf)\n",
    "n_surf += 1\n",
    "surface_change_type(s_eye_lensfront, zp.constants.Editors.LDE.SurfaceType.Gradient3)\n",
    "s_eye_lensfront.Comment = \"Eye Lens Front\"\n",
    "s_eye_lensfront.Radius = 0.0\n",
    "s_eye_lensfront.Thickness = 1.590\n",
    "s_eye_lensfront.Conic = 0.0\n",
    "s_eye_lensfront.SemiDiameter = 5\n",
    "s_eye_lensfront.SurfaceData.DeltaT = 1.0\n",
    "s_eye_lensfront.SurfaceData.n0 = 1.40699963\n",
    "s_eye_lensfront.SurfaceData.Nr2 = -1.978e-03\n",
    "s_eye_lensfront.SurfaceData.Nz1 = 8.6000e-07\n",
    "s_eye_lensfront.SurfaceData.Nz2 = -0.015427\n",
    "\n",
    "s_eye_lensfront.PhysicalOpticsData.UseRaysToPropagateToNextSurface = True\n",
    "\n",
    "# Posterior chamber\n",
    "s_eye_posteriorchamber = oss.LDE.InsertNewSurfaceAt(n_surf)\n",
    "n_surf += 1\n",
    "s_eye_posteriorchamber.Comment = \"Posterior chamber\"\n",
    "s_eye_posteriorchamber.Radius = -12.40\n",
    "s_eye_posteriorchamber.Thickness = 0.0\n",
    "material_model(s_eye_posteriorchamber.MaterialCell, refractive_index=1.336, abbe_number=50.23)\n",
    "s_eye_posteriorchamber.Conic = 0.0\n",
    "s_eye_posteriorchamber.SemiDiameter = 5.0\n",
    "\n",
    "s_eye_posteriorchamber.PhysicalOpticsData.UseRaysToPropagateToNextSurface = True\n",
    "\n",
    "# Pupil\n",
    "s_eye_pupil = oss.LDE.GetSurfaceAt(n_surf)\n",
    "n_surf += 1\n",
    "s_eye_pupil.Comment = \"Pupil\"\n",
    "s_eye_pupil.Radius = 0.0  # Check\n",
    "s_eye_pupil.Thickness = 3.160  # Check for oblique rays, if possible remove next surface\n",
    "material_model(s_eye_pupil.MaterialCell, refractive_index=1.336, abbe_number=50.23)\n",
    "s_eye_pupil.Conic = 0.0\n",
    "s_eye_pupil.SemiDiameter = 2.0\n",
    "\n",
    "surface_change_aperturetype(s_eye_pupil, zp.constants.Editors.LDE.SurfaceApertureTypes.FloatingAperture)\n",
    "\n",
    "# Cornea back\n",
    "s_eye_corneaback = oss.LDE.InsertNewSurfaceAt(n_surf)\n",
    "n_surf += 1\n",
    "s_eye_corneaback.Comment = \"Cornea Back\"\n",
    "s_eye_corneaback.Radius = -6.40\n",
    "s_eye_corneaback.Thickness = 0.550\n",
    "material_model(s_eye_corneaback.MaterialCell, refractive_index=1.376, abbe_number=50.23)\n",
    "s_eye_corneaback.Conic = -0.60\n",
    "s_eye_corneaback.SemiDiameter = 5.0\n",
    "\n",
    "# Cornea front\n",
    "s_eye_corneafront = oss.LDE.InsertNewSurfaceAt(n_surf)\n",
    "n_surf += 1\n",
    "s_eye_corneafront.Comment = \"Cornea Front\"\n",
    "s_eye_corneafront.Radius = -7.770\n",
    "s_eye_corneafrontThickness = 0.0\n",
    "s_eye_corneafront.Conic = -0.18\n",
    "s_eye_corneafront.SemiDiameter = 5.0"
   ]
  },
  {
   "cell_type": "markdown",
   "metadata": {},
   "source": [
    "## MCE\n",
    "\n",
    "Now that we created a reversed eye model, we use the multi configuration editor to ensure that we can switch between several variants of the same system and analyze them."
   ]
  },
  {
   "cell_type": "code",
   "execution_count": 5,
   "metadata": {},
   "outputs": [
    {
     "data": {
      "text/plain": [
       "True"
      ]
     },
     "execution_count": 5,
     "metadata": {},
     "output_type": "execute_result"
    }
   ],
   "source": [
    "oss.MCE.ShowEditor()\n",
    "\n",
    "# Insert extra configurations\n",
    "oss.MCE.InsertConfiguration(2, False)\n",
    "oss.MCE.InsertConfiguration(3, False)"
   ]
  },
  {
   "cell_type": "markdown",
   "metadata": {},
   "source": [
    "The first two rows in the MCE are of the 'IGNM' operand type, allowing you to ignore a (range of) surface(s) in a specific configuration. While these two rows are not used in the knowledgebase example, we keep them for consistency."
   ]
  },
  {
   "cell_type": "code",
   "execution_count": 6,
   "metadata": {},
   "outputs": [],
   "source": [
    "mce_1 = oss.MCE.GetOperandAt(1)\n",
    "mce_1.ChangeType(zp.constants.Editors.MCE.MultiConfigOperandType.IGNM)\n",
    "mce_1.GetOperandCell(1).IntegerValue = 0\n",
    "mce_1.GetOperandCell(2).IntegerValue = 0\n",
    "mce_1.GetOperandCell(3).IntegerValue = 0\n",
    "mce_1.Param1 = s_eye_retina.SurfaceNumber - 1  # minus 1 as param 1 omits object in list\n",
    "mce_1.Param2 = s_eye_posteriorchamber.SurfaceNumber\n",
    "\n",
    "mce_2 = oss.MCE.InsertNewOperandAt(2)\n",
    "mce_2.ChangeType(zp.constants.Editors.MCE.MultiConfigOperandType.IGNM)\n",
    "mce_2.GetOperandCell(1).IntegerValue = 0\n",
    "mce_2.GetOperandCell(2).IntegerValue = 0\n",
    "mce_2.GetOperandCell(3).IntegerValue = 0\n",
    "# mce_2 gets updated later as it requires the HS sensor"
   ]
  },
  {
   "cell_type": "markdown",
   "metadata": {},
   "source": [
    "The third row of the MCE uses the 'MOFF' operand, which can be used for comments. It is used to describe the three variations of the eye model (Normal, Myopic, Hypermetropic)."
   ]
  },
  {
   "cell_type": "code",
   "execution_count": 7,
   "metadata": {},
   "outputs": [],
   "source": [
    "mce_3 = oss.MCE.InsertNewOperandAt(3)\n",
    "mce_3.ChangeType(zp.constants.Editors.MCE.MultiConfigOperandType.MOFF)\n",
    "mce_3.GetOperandCell(1).Value = \"Normal\"\n",
    "mce_3.GetOperandCell(2).Value = \"Myopia\"\n",
    "mce_3.GetOperandCell(3).Value = \"Hyperopia\""
   ]
  },
  {
   "cell_type": "markdown",
   "metadata": {},
   "source": [
    "The fourth row of the MCE uses the 'THIC' operand, which can be used to change the thickness of a specific surface. It is used to variate the length of the vitreous between the three states of the eye model (Normal, Myopic, Hypermetropic)."
   ]
  },
  {
   "cell_type": "code",
   "execution_count": 8,
   "metadata": {},
   "outputs": [],
   "source": [
    "mce_4 = oss.MCE.InsertNewOperandAt(4)\n",
    "mce_4.ChangeType(zp.constants.Editors.MCE.MultiConfigOperandType.THIC)\n",
    "mce_4.Param1 = s_eye_retina.SurfaceNumber\n",
    "mce_4.GetOperandCell(1).DoubleValue = 17.928551048789998\n",
    "mce_4.GetOperandCell(2).DoubleValue = 25.000  # 27.000\n",
    "mce_4.GetOperandCell(3).DoubleValue = 11.000  # 13.000"
   ]
  },
  {
   "cell_type": "markdown",
   "metadata": {},
   "source": [
    "## System settings\n",
    "\n",
    "Now we adjust some system settings to ensure we have the same settings as the knowledge base example."
   ]
  },
  {
   "cell_type": "code",
   "execution_count": 9,
   "metadata": {},
   "outputs": [],
   "source": [
    "# Aperture\n",
    "oss.SystemData.Aperture.ApertureType = (\n",
    "    zp.constants.SystemData.ZemaxApertureType\n",
    ") = zp.constants.SystemData.ZemaxApertureType.FloatByStopSize\n",
    "oss.SystemData.Aperture.ApodizationType = zp.constants.SystemData.ZemaxApodizationType.Gaussian\n",
    "oss.SystemData.Aperture.ApodizationFactor = 1.0\n",
    "\n",
    "oss.SystemData.Aperture.AFocalImageSpace = False  # True <- file of example does not have afocal image space\n",
    "\n",
    "# Rayaiming\n",
    "oss.SystemData.RayAiming.RayAiming = zp.constants.SystemData.RayAimingMethod.Paraxial\n",
    "\n",
    "# Advanced\n",
    "oss.SystemData.Advanced.ReferenceOPD = zp.constants.SystemData.ReferenceOPDSetting.Absolute\n",
    "oss.SystemData.Advanced.HuygensIntegralMethod = zp.constants.SystemData.HuygensIntegralSettings.Planar\n",
    "\n",
    "# Wavelength\n",
    "wl1 = oss.SystemData.Wavelengths.GetWavelength(1)\n",
    "wl1.Wavelength = 0.830"
   ]
  },
  {
   "cell_type": "markdown",
   "metadata": {},
   "source": [
    "## Telescopes\n",
    "\n",
    "In this section, we define the two telescopes between the eye and the Shack-Hartmann sensor.\n",
    "\n",
    "### Telescope 1\n",
    "\n",
    "Telescope 1 consists of 6 surfaces, some with a different surface aperture type or coating."
   ]
  },
  {
   "cell_type": "code",
   "execution_count": 10,
   "metadata": {},
   "outputs": [],
   "source": [
    "# Telescope 1 - surface 1\n",
    "s_tel1_1 = oss.LDE.InsertNewSurfaceAt(n_surf)\n",
    "n_surf += 1\n",
    "s_tel1_1.Radius = 0.0\n",
    "s_tel1_1.Thickness = 95.200\n",
    "s_tel1_1.SemiDiameter = 10\n",
    "\n",
    "# Telescope 1 - surface 2\n",
    "s_tel1_2 = oss.LDE.InsertNewSurfaceAt(n_surf)\n",
    "n_surf += 1\n",
    "s_tel1_2.Radius = 102.5\n",
    "s_tel1_2.Thickness = 5.0\n",
    "s_tel1_2.Material = \"N-BK7\"\n",
    "s_tel1_2.SemiDiameter = 14.5\n",
    "s_tel1_2.ChipZone = 0.5\n",
    "\n",
    "surface_change_aperturetype(\n",
    "    s_tel1_2, zp.constants.Editors.LDE.SurfaceApertureTypes.CircularAperture, maximum_radius=14.5\n",
    ")\n",
    "\n",
    "s_tel1_2.CoatingData.Coating = \"THORB\"\n",
    "\n",
    "# Telescope 1 - surface 3\n",
    "s_tel1_3 = oss.LDE.InsertNewSurfaceAt(n_surf)\n",
    "n_surf += 1\n",
    "s_tel1_3.Radius = -102.5\n",
    "s_tel1_3.Thickness = 199.0\n",
    "s_tel1_3.SemiDiameter = 14.5\n",
    "s_tel1_3.ChipZone = 0.5\n",
    "\n",
    "s_tel1_3.CoatingData.Coating = \"THORB\"\n",
    "\n",
    "# Telescope 1 - surface 4\n",
    "s_tel1_4 = oss.LDE.InsertNewSurfaceAt(n_surf)\n",
    "n_surf += 1\n",
    "s_tel1_4.Radius = 102.5\n",
    "s_tel1_4.Thickness = 5.0\n",
    "s_tel1_4.Material = \"N-BK7\"\n",
    "s_tel1_4.SemiDiameter = 14.5\n",
    "s_tel1_4.ChipZone = 0.5\n",
    "\n",
    "surface_change_aperturetype(\n",
    "    s_tel1_4, zp.constants.Editors.LDE.SurfaceApertureTypes.CircularAperture, maximum_radius=14.5\n",
    ")\n",
    "\n",
    "s_tel1_4.CoatingData.Coating = \"THORB\"\n",
    "\n",
    "# Telescope 1 - surface 5\n",
    "s_tel1_5 = oss.LDE.InsertNewSurfaceAt(n_surf)\n",
    "n_surf += 1\n",
    "s_tel1_5.Radius = -102.5\n",
    "s_tel1_5.Thickness = 99.5\n",
    "s_tel1_5.SemiDiameter = 14.5\n",
    "s_tel1_5.ChipZone = 0.5\n",
    "\n",
    "s_tel1_5.CoatingData.Coating = \"THORB\"\n",
    "\n",
    "# Telescope 1 - surface 6\n",
    "s_tel1_6 = oss.LDE.InsertNewSurfaceAt(n_surf)\n",
    "n_surf += 1\n",
    "s_tel1_6.Comment = \"ph\"\n",
    "s_tel1_6.Radius = 0.0\n",
    "s_tel1_6.Thickness = 0.0\n",
    "s_tel1_6.SemiDiameter = 6.0\n",
    "\n",
    "surface_change_aperturetype(\n",
    "    s_tel1_6, zp.constants.Editors.LDE.SurfaceApertureTypes.CircularObscuration, minimum_radius=6, maximum_radius=12\n",
    ")"
   ]
  },
  {
   "cell_type": "markdown",
   "metadata": {},
   "source": [
    "We also make surface 6 of telescope 1 the global coordinate reference."
   ]
  },
  {
   "cell_type": "code",
   "execution_count": 11,
   "metadata": {},
   "outputs": [],
   "source": [
    "s_tel1_6.TypeData.IsGlobalCoordinateReference = True"
   ]
  },
  {
   "cell_type": "markdown",
   "metadata": {},
   "source": [
    "### Telescope 2\n",
    "\n",
    "Telescope 2 consists of 9 surfaces, some with a different surface aperture type or coating."
   ]
  },
  {
   "cell_type": "code",
   "execution_count": 12,
   "metadata": {},
   "outputs": [],
   "source": [
    "# Telescope 2 - surface 1\n",
    "s_tel2_1 = oss.LDE.InsertNewSurfaceAt(n_surf)\n",
    "n_surf += 1\n",
    "s_tel2_1.Radius = 0.0\n",
    "s_tel2_1.Thickness = 99.5\n",
    "s_tel2_1.SemiDiameter = 6.0\n",
    "s_tel2_1.MechanicalSemiDiameter = 12.0\n",
    "\n",
    "# Telescope 2 - surface 2\n",
    "s_tel2_2 = oss.LDE.InsertNewSurfaceAt(n_surf)\n",
    "n_surf += 1\n",
    "s_tel2_2.Radius = 102.5\n",
    "s_tel2_2.Thickness = 5.0\n",
    "s_tel2_2.Material = \"N-BK7\"\n",
    "s_tel2_2.SemiDiameter = 14.5\n",
    "s_tel2_2.ChipZone = 0.5\n",
    "\n",
    "surface_change_aperturetype(\n",
    "    s_tel2_2, zp.constants.Editors.LDE.SurfaceApertureTypes.CircularAperture, maximum_radius=14.5\n",
    ")\n",
    "\n",
    "s_tel2_2.CoatingData.Coating = \"THORB\"\n",
    "\n",
    "# Telescope 2 - surface 3\n",
    "s_tel2_3 = oss.LDE.InsertNewSurfaceAt(n_surf)\n",
    "n_surf += 1\n",
    "s_tel2_3.Radius = -102.5\n",
    "s_tel2_3.Thickness = 99.5\n",
    "s_tel2_3.SemiDiameter = 14.5\n",
    "s_tel2_3.ChipZone = 0.5\n",
    "\n",
    "s_tel2_3.CoatingData.Coating = \"THORB\"\n",
    "\n",
    "# Telescope 2 - surface 4\n",
    "s_tel2_4 = oss.LDE.InsertNewSurfaceAt(n_surf)\n",
    "n_surf += 1\n",
    "s_tel2_4.Comment = \"ph\"\n",
    "s_tel2_4.Radius = 0.0\n",
    "s_tel2_4.Thickness = 0.0\n",
    "s_tel2_4.SemiDiameter = 3.0\n",
    "\n",
    "surface_change_aperturetype(\n",
    "    s_tel2_4, zp.constants.Editors.LDE.SurfaceApertureTypes.CircularObscuration, minimum_radius=20, maximum_radius=20\n",
    ")\n",
    "\n",
    "# Telescope 2 - surface 5\n",
    "s_tel2_5 = oss.LDE.InsertNewSurfaceAt(n_surf)\n",
    "n_surf += 1\n",
    "s_tel2_5.Radius = 0.0\n",
    "s_tel2_5.Thickness = 99.5\n",
    "s_tel2_5.SemiDiameter = 14.5\n",
    "\n",
    "# Telescope 2 - surface 6\n",
    "s_tel2_6 = oss.LDE.InsertNewSurfaceAt(n_surf)\n",
    "n_surf += 1\n",
    "s_tel2_6.Radius = 102.5\n",
    "s_tel2_6.Thickness = 5.0\n",
    "s_tel2_6.Material = \"N-BK7\"\n",
    "s_tel2_6.SemiDiameter = 14.5\n",
    "s_tel2_6.ChipZone = 0.5\n",
    "\n",
    "surface_change_aperturetype(\n",
    "    s_tel2_6, zp.constants.Editors.LDE.SurfaceApertureTypes.CircularAperture, maximum_radius=14.5\n",
    ")\n",
    "\n",
    "s_tel2_6.CoatingData.Coating = \"THORB\"\n",
    "\n",
    "# Telescope 2 - surface 7\n",
    "s_tel2_7 = oss.LDE.InsertNewSurfaceAt(n_surf)\n",
    "n_surf += 1\n",
    "s_tel2_7.Radius = -102.5\n",
    "s_tel2_7.Thickness = 0.0\n",
    "s_tel2_7.SemiDiameter = 14.5\n",
    "s_tel2_7.ChipZone = 0.5\n",
    "\n",
    "s_tel2_7.CoatingData.Coating = \"THORB\"\n",
    "\n",
    "# Telescope 2 - surface 8\n",
    "s_tel2_8 = oss.LDE.InsertNewSurfaceAt(n_surf)\n",
    "n_surf += 1\n",
    "s_tel2_8.Radius = 0.0\n",
    "s_tel2_8.Thickness = 99.5\n",
    "s_tel2_8.SemiDiameter = 6\n",
    "\n",
    "# Telescope 2 - surface 9\n",
    "s_tel2_9 = oss.LDE.InsertNewSurfaceAt(n_surf)\n",
    "n_surf += 1\n",
    "s_tel2_9.Radius = 0.0\n",
    "s_tel2_9.Thickness = 0.0"
   ]
  },
  {
   "cell_type": "markdown",
   "metadata": {},
   "source": [
    "## Shack-Hartmann Sensor\n",
    "\n",
    "Now, we create the Shack-Hartmann Sensor. It consists of three surfaces. Note that on surface 1, we make sure `ResampleAfterRefraction` is on and configured. We also use a user defined surface with specific settings for surface 2."
   ]
  },
  {
   "cell_type": "code",
   "execution_count": 13,
   "metadata": {},
   "outputs": [],
   "source": [
    "# Shack-Hartmann sensor - surface 1\n",
    "s_hs_1 = oss.LDE.InsertNewSurfaceAt(n_surf)\n",
    "n_surf += 1\n",
    "s_hs_1.Radius = 0.0\n",
    "s_hs_1.Thickness = 1.200\n",
    "s_hs_1.Material = \"LITHOSIL-Q\"\n",
    "s_hs_1.SemiDiameter = 6.000\n",
    "\n",
    "s_hs_1.PhysicalOpticsData.ResampleAfterRefraction = True\n",
    "s_hs_1.PhysicalOpticsData.XSampling = zp.constants.Editors.LDE.XYSampling.S1024\n",
    "s_hs_1.PhysicalOpticsData.YSampling = zp.constants.Editors.LDE.XYSampling.S1024\n",
    "s_hs_1.PhysicalOpticsData.XWidth = 10\n",
    "s_hs_1.PhysicalOpticsData.YWidth = 10\n",
    "\n",
    "surface_change_aperturetype(\n",
    "    s_hs_1, zp.constants.Editors.LDE.SurfaceApertureTypes.RectangularAperture, x_half_width=6, y_half_width=6\n",
    ")\n",
    "\n",
    "# Shack-Hartmann sensor - surface 2\n",
    "s_hs_2 = oss.LDE.InsertNewSurfaceAt(n_surf)\n",
    "n_surf += 1\n",
    "surface_change_type(s_hs_2, zp.constants.Editors.LDE.SurfaceType.UserDefined, filename=\"us_array.dll\")\n",
    "s_hs_2.Radius = -2.00\n",
    "s_hs_2.Thickness = 5.600\n",
    "s_hs_2.SemiDiameter = 6.000\n",
    "s_hs_2.GetSurfaceCell(zp.constants.Editors.LDE.SurfaceColumn.Par1).DoubleValue = 35.000\n",
    "s_hs_2.GetSurfaceCell(zp.constants.Editors.LDE.SurfaceColumn.Par2).DoubleValue = 35.000\n",
    "s_hs_2.GetSurfaceCell(zp.constants.Editors.LDE.SurfaceColumn.Par3).DoubleValue = 0.150\n",
    "s_hs_2.GetSurfaceCell(zp.constants.Editors.LDE.SurfaceColumn.Par4).DoubleValue = 0.150\n",
    "\n",
    "s_hs_2.PhysicalOpticsData.OutputPilotRadius = zp.constants.Editors.LDE.PilotRadiusMode.Plane\n",
    "\n",
    "apd = s_hs_2.ApertureData.CreateApertureTypeSettings(zp.constants.Editors.LDE.SurfaceApertureTypes.RectangularAperture)\n",
    "apd.XHalfWidth = 6\n",
    "apd.YHalfWidth = 6\n",
    "s_hs_2.ApertureData.ChangeApertureTypeSettings(apd)\n",
    "\n",
    "# Shack-Hartmann sensor - surface 3\n",
    "s_hs_3 = oss.LDE.GetSurfaceAt(n_surf)\n",
    "n_surf += 1\n",
    "s_hs_3.Radius = 0.0\n",
    "s_hs_3.SemiDiameter = 14.5\n",
    "s_hs_3.MechanicalSemiDiameter = 14.5"
   ]
  },
  {
   "cell_type": "markdown",
   "metadata": {},
   "source": [
    "Don't forget to update MCE operand 2 (`mce_2`), as that requires the Shack-Hartmann sensor to be defined."
   ]
  },
  {
   "cell_type": "code",
   "execution_count": 14,
   "metadata": {},
   "outputs": [],
   "source": [
    "mce_2.Param1 = s_hs_1.SurfaceNumber - 1  # minus 1 as param 1 omits object in list\n",
    "mce_2.Param2 = s_hs_2.SurfaceNumber"
   ]
  },
  {
   "cell_type": "markdown",
   "metadata": {},
   "source": [
    "## Analyze\n",
    "\n",
    "Now we analyze the system using various methods."
   ]
  },
  {
   "cell_type": "markdown",
   "metadata": {},
   "source": [
    "### Zernike standard coefficients\n",
    "\n",
    "First, we evaluate the aberrations of the system using `zp.analyses.wavefront.zernike_standard_coefficients`."
   ]
  },
  {
   "cell_type": "code",
   "execution_count": 15,
   "metadata": {},
   "outputs": [],
   "source": [
    "zern = zp.analyses.wavefront.zernike_standard_coefficients(\n",
    "    oss, sampling=\"64x64\", maximum_term=37, wavelength=1, field=1, reference_opd_to_vertex=False, surface=22\n",
    ")"
   ]
  },
  {
   "cell_type": "code",
   "execution_count": 16,
   "metadata": {},
   "outputs": [
    {
     "data": {
      "text/html": [
       "<div>\n",
       "<style scoped>\n",
       "    .dataframe tbody tr th:only-of-type {\n",
       "        vertical-align: middle;\n",
       "    }\n",
       "\n",
       "    .dataframe tbody tr th {\n",
       "        vertical-align: top;\n",
       "    }\n",
       "\n",
       "    .dataframe thead th {\n",
       "        text-align: right;\n",
       "    }\n",
       "</style>\n",
       "<table border=\"1\" class=\"dataframe\">\n",
       "  <thead>\n",
       "    <tr style=\"text-align: right;\">\n",
       "      <th></th>\n",
       "      <th>Value</th>\n",
       "      <th>Unit</th>\n",
       "    </tr>\n",
       "  </thead>\n",
       "  <tbody>\n",
       "    <tr>\n",
       "      <th>File</th>\n",
       "      <td>D:\\Software\\OpticStudio\\SAMPLES\\LENS.ZMX</td>\n",
       "      <td></td>\n",
       "    </tr>\n",
       "    <tr>\n",
       "      <th>Title</th>\n",
       "      <td></td>\n",
       "      <td></td>\n",
       "    </tr>\n",
       "    <tr>\n",
       "      <th>Date</th>\n",
       "      <td>18-10-2024</td>\n",
       "      <td></td>\n",
       "    </tr>\n",
       "    <tr>\n",
       "      <th>Surface</th>\n",
       "      <td>22</td>\n",
       "      <td></td>\n",
       "    </tr>\n",
       "    <tr>\n",
       "      <th>Field</th>\n",
       "      <td>0.0</td>\n",
       "      <td>(deg)</td>\n",
       "    </tr>\n",
       "    <tr>\n",
       "      <th>Wavelength</th>\n",
       "      <td>0.83</td>\n",
       "      <td>µm</td>\n",
       "    </tr>\n",
       "    <tr>\n",
       "      <th>PeakToValley(ToChief)</th>\n",
       "      <td>2.454485</td>\n",
       "      <td>waves</td>\n",
       "    </tr>\n",
       "    <tr>\n",
       "      <th>PeakToValley(ToCentroid)</th>\n",
       "      <td>2.454485</td>\n",
       "      <td>waves</td>\n",
       "    </tr>\n",
       "    <tr>\n",
       "      <th>FromIntegrationOfTheRays</th>\n",
       "      <td></td>\n",
       "      <td></td>\n",
       "    </tr>\n",
       "    <tr>\n",
       "      <th>Rms(ToChief)</th>\n",
       "      <td>0.729071</td>\n",
       "      <td>waves</td>\n",
       "    </tr>\n",
       "    <tr>\n",
       "      <th>Rms(ToCentroid)</th>\n",
       "      <td>0.729071</td>\n",
       "      <td>waves</td>\n",
       "    </tr>\n",
       "    <tr>\n",
       "      <th>Variance</th>\n",
       "      <td>0.531544</td>\n",
       "      <td>waves squared</td>\n",
       "    </tr>\n",
       "    <tr>\n",
       "      <th>StrehlRatio(Est)</th>\n",
       "      <td>0.0</td>\n",
       "      <td></td>\n",
       "    </tr>\n",
       "    <tr>\n",
       "      <th>FromIntegrationOfTheFittedCoefficients</th>\n",
       "      <td></td>\n",
       "      <td></td>\n",
       "    </tr>\n",
       "    <tr>\n",
       "      <th>RmsFitError</th>\n",
       "      <td>0.000039</td>\n",
       "      <td>waves</td>\n",
       "    </tr>\n",
       "    <tr>\n",
       "      <th>MaximumFitError</th>\n",
       "      <td>0.00015</td>\n",
       "      <td>waves</td>\n",
       "    </tr>\n",
       "  </tbody>\n",
       "</table>\n",
       "</div>"
      ],
      "text/plain": [
       "                                                                           Value  \\\n",
       "File                                    D:\\Software\\OpticStudio\\SAMPLES\\LENS.ZMX   \n",
       "Title                                                                              \n",
       "Date                                                                  18-10-2024   \n",
       "Surface                                                                       22   \n",
       "Field                                                                        0.0   \n",
       "Wavelength                                                                  0.83   \n",
       "PeakToValley(ToChief)                                                   2.454485   \n",
       "PeakToValley(ToCentroid)                                                2.454485   \n",
       "FromIntegrationOfTheRays                                                           \n",
       "Rms(ToChief)                                                            0.729071   \n",
       "Rms(ToCentroid)                                                         0.729071   \n",
       "Variance                                                                0.531544   \n",
       "StrehlRatio(Est)                                                             0.0   \n",
       "FromIntegrationOfTheFittedCoefficients                                             \n",
       "RmsFitError                                                             0.000039   \n",
       "MaximumFitError                                                          0.00015   \n",
       "\n",
       "                                                 Unit  \n",
       "File                                                   \n",
       "Title                                                  \n",
       "Date                                                   \n",
       "Surface                                                \n",
       "Field                                           (deg)  \n",
       "Wavelength                                         µm  \n",
       "PeakToValley(ToChief)                           waves  \n",
       "PeakToValley(ToCentroid)                        waves  \n",
       "FromIntegrationOfTheRays                               \n",
       "Rms(ToChief)                                    waves  \n",
       "Rms(ToCentroid)                                 waves  \n",
       "Variance                                waves squared  \n",
       "StrehlRatio(Est)                                       \n",
       "FromIntegrationOfTheFittedCoefficients                 \n",
       "RmsFitError                                     waves  \n",
       "MaximumFitError                                 waves  "
      ]
     },
     "execution_count": 16,
     "metadata": {},
     "output_type": "execute_result"
    }
   ],
   "source": [
    "zern.Data.GeneralData"
   ]
  },
  {
   "cell_type": "code",
   "execution_count": 17,
   "metadata": {},
   "outputs": [
    {
     "data": {
      "text/html": [
       "<div>\n",
       "<style scoped>\n",
       "    .dataframe tbody tr th:only-of-type {\n",
       "        vertical-align: middle;\n",
       "    }\n",
       "\n",
       "    .dataframe tbody tr th {\n",
       "        vertical-align: top;\n",
       "    }\n",
       "\n",
       "    .dataframe thead th {\n",
       "        text-align: right;\n",
       "    }\n",
       "</style>\n",
       "<table border=\"1\" class=\"dataframe\">\n",
       "  <thead>\n",
       "    <tr style=\"text-align: right;\">\n",
       "      <th></th>\n",
       "      <th>Value</th>\n",
       "      <th>Unit</th>\n",
       "      <th>Function</th>\n",
       "    </tr>\n",
       "  </thead>\n",
       "  <tbody>\n",
       "    <tr>\n",
       "      <th>Z1</th>\n",
       "      <td>-0.805852</td>\n",
       "      <td>waves</td>\n",
       "      <td>1</td>\n",
       "    </tr>\n",
       "    <tr>\n",
       "      <th>Z2</th>\n",
       "      <td>0.0</td>\n",
       "      <td>waves</td>\n",
       "      <td>4^(1/2)(p)*COS(A)</td>\n",
       "    </tr>\n",
       "    <tr>\n",
       "      <th>Z3</th>\n",
       "      <td>0.0</td>\n",
       "      <td>waves</td>\n",
       "      <td>4^(1/2)(p)*SIN(A)</td>\n",
       "    </tr>\n",
       "    <tr>\n",
       "      <th>Z4</th>\n",
       "      <td>-0.704287</td>\n",
       "      <td>waves</td>\n",
       "      <td>3^(1/2)(2p^2-1)</td>\n",
       "    </tr>\n",
       "    <tr>\n",
       "      <th>Z5</th>\n",
       "      <td>0.0</td>\n",
       "      <td>waves</td>\n",
       "      <td>6^(1/2)(p^2)*SIN(2A)</td>\n",
       "    </tr>\n",
       "    <tr>\n",
       "      <th>Z6</th>\n",
       "      <td>0.0</td>\n",
       "      <td>waves</td>\n",
       "      <td>6^(1/2)(p^2)*COS(2A)</td>\n",
       "    </tr>\n",
       "    <tr>\n",
       "      <th>Z7</th>\n",
       "      <td>0.0</td>\n",
       "      <td>waves</td>\n",
       "      <td>8^(1/2)(3p^3-2p)*SIN(A)</td>\n",
       "    </tr>\n",
       "    <tr>\n",
       "      <th>Z8</th>\n",
       "      <td>0.0</td>\n",
       "      <td>waves</td>\n",
       "      <td>8^(1/2)(3p^3-2p)*COS(A)</td>\n",
       "    </tr>\n",
       "    <tr>\n",
       "      <th>Z9</th>\n",
       "      <td>0.0</td>\n",
       "      <td>waves</td>\n",
       "      <td>8^(1/2)(p^3)*SIN(3A)</td>\n",
       "    </tr>\n",
       "    <tr>\n",
       "      <th>Z10</th>\n",
       "      <td>0.0</td>\n",
       "      <td>waves</td>\n",
       "      <td>8^(1/2)(p^3)*COS(3A)</td>\n",
       "    </tr>\n",
       "    <tr>\n",
       "      <th>Z11</th>\n",
       "      <td>-0.188456</td>\n",
       "      <td>waves</td>\n",
       "      <td>5^(1/2)(6p^4-6p^2+1)</td>\n",
       "    </tr>\n",
       "    <tr>\n",
       "      <th>Z12</th>\n",
       "      <td>0.0</td>\n",
       "      <td>waves</td>\n",
       "      <td>10^(1/2)(4p^4-3p^2)*COS(2A)</td>\n",
       "    </tr>\n",
       "    <tr>\n",
       "      <th>Z13</th>\n",
       "      <td>0.0</td>\n",
       "      <td>waves</td>\n",
       "      <td>10^(1/2)(4p^4-3p^2)*SIN(2A)</td>\n",
       "    </tr>\n",
       "    <tr>\n",
       "      <th>Z14</th>\n",
       "      <td>-0.0</td>\n",
       "      <td>waves</td>\n",
       "      <td>10^(1/2)(p^4)*COS(4A)</td>\n",
       "    </tr>\n",
       "    <tr>\n",
       "      <th>Z15</th>\n",
       "      <td>0.0</td>\n",
       "      <td>waves</td>\n",
       "      <td>10^(1/2)(p^4)*SIN(4A)</td>\n",
       "    </tr>\n",
       "    <tr>\n",
       "      <th>Z16</th>\n",
       "      <td>0.0</td>\n",
       "      <td>waves</td>\n",
       "      <td>12^(1/2)(10p^5-12p^3+3p)*COS(A)</td>\n",
       "    </tr>\n",
       "    <tr>\n",
       "      <th>Z17</th>\n",
       "      <td>0.0</td>\n",
       "      <td>waves</td>\n",
       "      <td>12^(1/2)(10p^5-12p^3+3p)*SIN(A)</td>\n",
       "    </tr>\n",
       "    <tr>\n",
       "      <th>Z18</th>\n",
       "      <td>0.0</td>\n",
       "      <td>waves</td>\n",
       "      <td>12^(1/2)(5p^5-4p^3)*COS(3A)</td>\n",
       "    </tr>\n",
       "    <tr>\n",
       "      <th>Z19</th>\n",
       "      <td>0.0</td>\n",
       "      <td>waves</td>\n",
       "      <td>12^(1/2)(5p^5-4p^3)*SIN(3A)</td>\n",
       "    </tr>\n",
       "    <tr>\n",
       "      <th>Z20</th>\n",
       "      <td>0.0</td>\n",
       "      <td>waves</td>\n",
       "      <td>12^(1/2)(p^5)*COS(5A)</td>\n",
       "    </tr>\n",
       "    <tr>\n",
       "      <th>Z21</th>\n",
       "      <td>0.0</td>\n",
       "      <td>waves</td>\n",
       "      <td>12^(1/2)(p^5)*SIN(5A)</td>\n",
       "    </tr>\n",
       "    <tr>\n",
       "      <th>Z22</th>\n",
       "      <td>-0.00278</td>\n",
       "      <td>waves</td>\n",
       "      <td>7^(1/2)(20p^6-30p^4+12p^2-1)</td>\n",
       "    </tr>\n",
       "    <tr>\n",
       "      <th>Z23</th>\n",
       "      <td>0.0</td>\n",
       "      <td>waves</td>\n",
       "      <td>14^(1/2)(15p^6-20p^4+6p^2)*SIN(2A)</td>\n",
       "    </tr>\n",
       "    <tr>\n",
       "      <th>Z24</th>\n",
       "      <td>0.0</td>\n",
       "      <td>waves</td>\n",
       "      <td>14^(1/2)(15p^6-20p^4+6p^2)*COS(2A)</td>\n",
       "    </tr>\n",
       "    <tr>\n",
       "      <th>Z25</th>\n",
       "      <td>0.0</td>\n",
       "      <td>waves</td>\n",
       "      <td>14^(1/2)(6p^6-5p^4)*SIN(4A)</td>\n",
       "    </tr>\n",
       "    <tr>\n",
       "      <th>Z26</th>\n",
       "      <td>0.0</td>\n",
       "      <td>waves</td>\n",
       "      <td>14^(1/2)(6p^6-5p^4)*COS(4A)</td>\n",
       "    </tr>\n",
       "    <tr>\n",
       "      <th>Z27</th>\n",
       "      <td>0.0</td>\n",
       "      <td>waves</td>\n",
       "      <td>14^(1/2)(p^6)*SIN(6A)</td>\n",
       "    </tr>\n",
       "    <tr>\n",
       "      <th>Z28</th>\n",
       "      <td>0.0</td>\n",
       "      <td>waves</td>\n",
       "      <td>14^(1/2)(p^6)*COS(6A)</td>\n",
       "    </tr>\n",
       "    <tr>\n",
       "      <th>Z29</th>\n",
       "      <td>0.0</td>\n",
       "      <td>waves</td>\n",
       "      <td>16^(1/2)(35p^7-60p^5+30p^3-4p)*SIN(A)</td>\n",
       "    </tr>\n",
       "    <tr>\n",
       "      <th>Z30</th>\n",
       "      <td>0.0</td>\n",
       "      <td>waves</td>\n",
       "      <td>16^(1/2)(35p^7-60p^5+30p^3-4p)*COS(A)</td>\n",
       "    </tr>\n",
       "    <tr>\n",
       "      <th>Z31</th>\n",
       "      <td>0.0</td>\n",
       "      <td>waves</td>\n",
       "      <td>16^(1/2)(21p^7-30p^5+10p^3)*SIN(3A)</td>\n",
       "    </tr>\n",
       "    <tr>\n",
       "      <th>Z32</th>\n",
       "      <td>0.0</td>\n",
       "      <td>waves</td>\n",
       "      <td>16^(1/2)(21p^7-30p^5+10p^3)*COS(3A)</td>\n",
       "    </tr>\n",
       "    <tr>\n",
       "      <th>Z33</th>\n",
       "      <td>0.0</td>\n",
       "      <td>waves</td>\n",
       "      <td>16^(1/2)(7p^7-6p^5)*SIN(5A)</td>\n",
       "    </tr>\n",
       "    <tr>\n",
       "      <th>Z34</th>\n",
       "      <td>0.0</td>\n",
       "      <td>waves</td>\n",
       "      <td>16^(1/2)(7p^7-6p^5)*COS(5A)</td>\n",
       "    </tr>\n",
       "    <tr>\n",
       "      <th>Z35</th>\n",
       "      <td>0.0</td>\n",
       "      <td>waves</td>\n",
       "      <td>16^(1/2)(p^7)*SIN(7A)</td>\n",
       "    </tr>\n",
       "    <tr>\n",
       "      <th>Z36</th>\n",
       "      <td>0.0</td>\n",
       "      <td>waves</td>\n",
       "      <td>16^(1/2)(p^7)*COS(7A)</td>\n",
       "    </tr>\n",
       "    <tr>\n",
       "      <th>Z37</th>\n",
       "      <td>-0.000005</td>\n",
       "      <td>waves</td>\n",
       "      <td>9^(1/2)(70p^8-140p^6+90p^4-20p^2+1)</td>\n",
       "    </tr>\n",
       "  </tbody>\n",
       "</table>\n",
       "</div>"
      ],
      "text/plain": [
       "        Value   Unit                               Function\n",
       "Z1  -0.805852  waves                                      1\n",
       "Z2        0.0  waves                      4^(1/2)(p)*COS(A)\n",
       "Z3        0.0  waves                      4^(1/2)(p)*SIN(A)\n",
       "Z4  -0.704287  waves                        3^(1/2)(2p^2-1)\n",
       "Z5        0.0  waves                   6^(1/2)(p^2)*SIN(2A)\n",
       "Z6        0.0  waves                   6^(1/2)(p^2)*COS(2A)\n",
       "Z7        0.0  waves                8^(1/2)(3p^3-2p)*SIN(A)\n",
       "Z8        0.0  waves                8^(1/2)(3p^3-2p)*COS(A)\n",
       "Z9        0.0  waves                   8^(1/2)(p^3)*SIN(3A)\n",
       "Z10       0.0  waves                   8^(1/2)(p^3)*COS(3A)\n",
       "Z11 -0.188456  waves                   5^(1/2)(6p^4-6p^2+1)\n",
       "Z12       0.0  waves            10^(1/2)(4p^4-3p^2)*COS(2A)\n",
       "Z13       0.0  waves            10^(1/2)(4p^4-3p^2)*SIN(2A)\n",
       "Z14      -0.0  waves                  10^(1/2)(p^4)*COS(4A)\n",
       "Z15       0.0  waves                  10^(1/2)(p^4)*SIN(4A)\n",
       "Z16       0.0  waves        12^(1/2)(10p^5-12p^3+3p)*COS(A)\n",
       "Z17       0.0  waves        12^(1/2)(10p^5-12p^3+3p)*SIN(A)\n",
       "Z18       0.0  waves            12^(1/2)(5p^5-4p^3)*COS(3A)\n",
       "Z19       0.0  waves            12^(1/2)(5p^5-4p^3)*SIN(3A)\n",
       "Z20       0.0  waves                  12^(1/2)(p^5)*COS(5A)\n",
       "Z21       0.0  waves                  12^(1/2)(p^5)*SIN(5A)\n",
       "Z22  -0.00278  waves           7^(1/2)(20p^6-30p^4+12p^2-1)\n",
       "Z23       0.0  waves     14^(1/2)(15p^6-20p^4+6p^2)*SIN(2A)\n",
       "Z24       0.0  waves     14^(1/2)(15p^6-20p^4+6p^2)*COS(2A)\n",
       "Z25       0.0  waves            14^(1/2)(6p^6-5p^4)*SIN(4A)\n",
       "Z26       0.0  waves            14^(1/2)(6p^6-5p^4)*COS(4A)\n",
       "Z27       0.0  waves                  14^(1/2)(p^6)*SIN(6A)\n",
       "Z28       0.0  waves                  14^(1/2)(p^6)*COS(6A)\n",
       "Z29       0.0  waves  16^(1/2)(35p^7-60p^5+30p^3-4p)*SIN(A)\n",
       "Z30       0.0  waves  16^(1/2)(35p^7-60p^5+30p^3-4p)*COS(A)\n",
       "Z31       0.0  waves    16^(1/2)(21p^7-30p^5+10p^3)*SIN(3A)\n",
       "Z32       0.0  waves    16^(1/2)(21p^7-30p^5+10p^3)*COS(3A)\n",
       "Z33       0.0  waves            16^(1/2)(7p^7-6p^5)*SIN(5A)\n",
       "Z34       0.0  waves            16^(1/2)(7p^7-6p^5)*COS(5A)\n",
       "Z35       0.0  waves                  16^(1/2)(p^7)*SIN(7A)\n",
       "Z36       0.0  waves                  16^(1/2)(p^7)*COS(7A)\n",
       "Z37 -0.000005  waves    9^(1/2)(70p^8-140p^6+90p^4-20p^2+1)"
      ]
     },
     "execution_count": 17,
     "metadata": {},
     "output_type": "execute_result"
    }
   ],
   "source": [
    "zern.Data.Coefficients"
   ]
  },
  {
   "cell_type": "markdown",
   "metadata": {},
   "source": [
    "### Wavefront map\n",
    "\n",
    "We create a wavefront map using `zp.analyses.wavefront.wavefront_map`."
   ]
  },
  {
   "cell_type": "code",
   "execution_count": 18,
   "metadata": {},
   "outputs": [],
   "source": [
    "wm = zp.analyses.wavefront.wavefront_map(\n",
    "    oss,\n",
    "    sampling=\"64x64\",\n",
    "    wavelength=1,\n",
    "    field=1,\n",
    "    surface=\"Image\",\n",
    "    show_as=\"Surface\",\n",
    "    rotation=\"Rotate_0\",\n",
    "    scale=1,\n",
    "    polarization=None,\n",
    "    reference_to_primary=False,\n",
    "    remove_tilt=False,\n",
    "    use_exit_pupil=True,\n",
    "    oncomplete=\"Release\",\n",
    ")"
   ]
  },
  {
   "cell_type": "code",
   "execution_count": 19,
   "metadata": {},
   "outputs": [
    {
     "data": {
      "image/png": "[encoded data removed]",
      "text/plain": [
       "<Figure size 640x480 with 2 Axes>"
      ]
     },
     "metadata": {},
     "output_type": "display_data"
    }
   ],
   "source": [
    "fig, ax = plt.subplots()\n",
    "cbar = ax.imshow(\n",
    "    wm.Data,\n",
    "    cmap=\"jet\",\n",
    "    extent=[\n",
    "        wm.Data.columns.values[0],\n",
    "        wm.Data.columns.values[-1],\n",
    "        wm.Data.index.values[0],\n",
    "        wm.Data.index.values[-1],\n",
    "    ],\n",
    "    origin=\"lower\",\n",
    ")\n",
    "\n",
    "ax.set_xlabel(\"X-Pupil (rel. Units)\")\n",
    "ax.set_ylabel(\"Y-Pupil (rel. Units)\")\n",
    "_ = fig.colorbar(cbar)"
   ]
  },
  {
   "cell_type": "markdown",
   "metadata": {},
   "source": [
    "### Geometric image analysis\n",
    "\n",
    "We also perform a geometric image analysis using `zp.analyses.extendedscene.geometric_image_analysis`."
   ]
  },
  {
   "cell_type": "code",
   "execution_count": 20,
   "metadata": {},
   "outputs": [],
   "source": [
    "gia = zp.analyses.extendedscene.geometric_image_analysis(\n",
    "    oss,\n",
    "    field_size=0,\n",
    "    image_size=5,\n",
    "    wavelength=1,\n",
    "    field=1,\n",
    "    file=\"CIRCLE.IMA\",\n",
    "    rotation=0,\n",
    "    rays_x_1000=500,\n",
    "    surface=25,\n",
    "    show_as=\"CrossX\",\n",
    "    row_column_number=\"Center\",\n",
    "    source=\"Uniform\",\n",
    "    number_of_pixels=300,\n",
    "    use_polarization=True,\n",
    "    total_watts=1,\n",
    "    remove_vignetting_factors=False,\n",
    "    scatter_rays=False,\n",
    "    parity=\"Even\",\n",
    "    delete_vignetted=False,\n",
    "    use_pixel_interpolation=False,\n",
    "    reference=\"Vertex\",\n",
    "    oncomplete=\"Release\",\n",
    ")"
   ]
  },
  {
   "cell_type": "code",
   "execution_count": 21,
   "metadata": {},
   "outputs": [
    {
     "data": {
      "image/png": "[encoded data removed]",
      "text/plain": [
       "<Figure size 640x480 with 2 Axes>"
      ]
     },
     "metadata": {},
     "output_type": "display_data"
    }
   ],
   "source": [
    "fig, ax = plt.subplots()\n",
    "cbar = ax.imshow(\n",
    "    gia.Data,\n",
    "    cmap=\"gray_r\",\n",
    "    extent=[\n",
    "        gia.Data.columns.values[0],\n",
    "        gia.Data.columns.values[-1],\n",
    "        gia.Data.index.values[0],\n",
    "        gia.Data.index.values[-1],\n",
    "    ],\n",
    "    origin=\"lower\",\n",
    ")\n",
    "\n",
    "ax.axes.get_xaxis().set_ticks([])\n",
    "ax.axes.get_yaxis().set_ticks([])\n",
    "\n",
    "_ = fig.colorbar(cbar)"
   ]
  },
  {
   "cell_type": "code",
   "execution_count": 22,
   "metadata": {},
   "outputs": [
    {
     "data": {
      "text/plain": [
       "Text(0, 0.5, 'Irradiance Watts/Millimeters squared')"
      ]
     },
     "execution_count": 22,
     "metadata": {},
     "output_type": "execute_result"
    },
    {
     "data": {
      "image/png": "[encoded data removed]",
      "text/plain": [
       "<Figure size 640x480 with 1 Axes>"
      ]
     },
     "metadata": {},
     "output_type": "display_data"
    }
   ],
   "source": [
    "fig, ax = plt.subplots()\n",
    "data = gia.Data.iloc[150]\n",
    "cbar = ax.plot(\n",
    "    data,\n",
    ")\n",
    "ax.set_xlabel(f\"X position in Millimeters (Y={gia.Data.index[150]})\")\n",
    "ax.set_ylabel(\"Irradiance Watts/Millimeters squared\")"
   ]
  },
  {
   "cell_type": "markdown",
   "metadata": {},
   "source": [
    "## Physical Optics Propagation\n",
    "\n",
    "Finally, we perform a Physical Optics Propagation analysis using `zp.analyses.physicaloptics.physical_optics_propagation`. \n",
    "\n",
    "Note that we first use a `ZOSPy` helper function `zp.analyses.physicaloptics.pop_create_beam_parameter_dict` to create a dictionary that can be passed as `beam_parameters` to `zp.analyses.physicaloptics.physical_optics_propagation`"
   ]
  },
  {
   "cell_type": "code",
   "execution_count": 23,
   "metadata": {},
   "outputs": [],
   "source": [
    "beam_params = pop = zp.analyses.physicaloptics.pop_create_beam_parameter_dict(oss, beam_type=\"TopHat\")"
   ]
  },
  {
   "cell_type": "code",
   "execution_count": 24,
   "metadata": {},
   "outputs": [
    {
     "data": {
      "text/plain": [
       "{'Waist X': 2.0, 'Waist Y': 2.0, 'Decenter X': 0.0, 'Decenter Y': 0.0}"
      ]
     },
     "execution_count": 24,
     "metadata": {},
     "output_type": "execute_result"
    }
   ],
   "source": [
    "beam_params"
   ]
  },
  {
   "cell_type": "code",
   "execution_count": 25,
   "metadata": {},
   "outputs": [],
   "source": [
    "beam_params[\"Waist X\"] = 5.4\n",
    "beam_params[\"Waist X\"] = 5.4\n",
    "beam_params[\"Decenter X\"] = 0.0\n",
    "beam_params[\"Decenter Y\"] = 0.0"
   ]
  },
  {
   "cell_type": "code",
   "execution_count": 26,
   "metadata": {},
   "outputs": [],
   "source": [
    "pop = zp.analyses.physicaloptics.physical_optics_propagation(\n",
    "    oss,\n",
    "    start_surface=1,\n",
    "    end_surface=\"Image\",\n",
    "    wavelength=1,\n",
    "    field=1,\n",
    "    surface_to_beam=0,\n",
    "    use_polarization=False,\n",
    "    separate_xy=False,\n",
    "    beam_type=\"TopHat\",\n",
    "    x_sampling=512,\n",
    "    y_sampling=512,\n",
    "    x_width=0.112,\n",
    "    y_width=0.112,\n",
    "    use_total_power=True,\n",
    "    use_peak_irradiance=False,\n",
    "    total_power=1,\n",
    "    beam_parameters=beam_params,\n",
    "    show_as=\"CrossX\",\n",
    "    data_type=\"Irradiance\",\n",
    "    project=\"AlongBeam\",\n",
    "    row_or_column=\"Center\",\n",
    "    scale_type=\"Linear\",\n",
    "    zoom_in=\"NoZoom\",\n",
    "    zero_phase_level=0.001,\n",
    "    compute_fiber_coupling_integral=False,\n",
    "    oncomplete=\"Release\",\n",
    ")"
   ]
  },
  {
   "cell_type": "code",
   "execution_count": 27,
   "metadata": {},
   "outputs": [
    {
     "data": {
      "image/png": "[encoded data removed]",
      "text/plain": [
       "<Figure size 640x480 with 2 Axes>"
      ]
     },
     "metadata": {},
     "output_type": "display_data"
    }
   ],
   "source": [
    "fig, ax = plt.subplots()\n",
    "cbar = ax.imshow(\n",
    "    pop.Data,\n",
    "    cmap=\"jet\",\n",
    "    extent=[\n",
    "        pop.Data.columns.values[0],\n",
    "        pop.Data.columns.values[-1],\n",
    "        pop.Data.index.values[0],\n",
    "        pop.Data.index.values[-1],\n",
    "    ],\n",
    "    origin=\"lower\",\n",
    ")\n",
    "\n",
    "_ = fig.colorbar(cbar)"
   ]
  },
  {
   "cell_type": "code",
   "execution_count": 28,
   "metadata": {},
   "outputs": [
    {
     "data": {
      "text/plain": [
       "Text(0, 0.5, 'Irradiance ( Watts per sq Millimeters)')"
      ]
     },
     "execution_count": 28,
     "metadata": {},
     "output_type": "execute_result"
    },
    {
     "data": {
      "image/png": "[encoded data removed]",
      "text/plain": [
       "<Figure size 640x480 with 1 Axes>"
      ]
     },
     "metadata": {},
     "output_type": "display_data"
    }
   ],
   "source": [
    "fig, ax = plt.subplots()\n",
    "data = pop.Data.iloc[512]\n",
    "cbar = ax.plot(\n",
    "    data,\n",
    ")\n",
    "ax.set_xlabel(f\"X coordinate value\")\n",
    "ax.set_ylabel(\"Irradiance ( Watts per sq Millimeters)\")"
   ]
  }
 ],
 "metadata": {
  "kernelspec": {
   "display_name": "Python 3",
   "language": "python",
   "name": "python3"
  },
  "language_info": {
   "codemirror_mode": {
    "name": "ipython",
    "version": 3
   },
   "file_extension": ".py",
   "mimetype": "text/x-python",
   "name": "python",
   "nbconvert_exporter": "python",
   "pygments_lexer": "ipython3",
   "version": "3.11.6"
  }
 },
 "nbformat": 4,
 "nbformat_minor": 2
}
