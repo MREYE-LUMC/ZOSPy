{
 "cells": [
  {
   "cell_type": "markdown",
   "metadata": {},
   "source": [
    "# Relative peripheral refraction: a predictor for myopia progression - ray tracing simulation example\n",
    "\n",
    "This example contains raytracing simulations for the paper [*Relative peripheral refraction: a predictor for myopia progression*]().\n",
    "\n",
    "## Citation\n",
    "\n",
    "Next to citing ZOSPy, please also cite the following paper when using this example or the data provided within this example:\n",
    "\n",
    "> Kneepkens S.C.M., van Vught L.,  Polling J.R., Klaver C.C.W. , Tideman J.W.L., Beenakker J.W.M.  Relative peripheral refraction: a predictor for myopia progression. \n",
    "\n",
    "## Warranty and liability\n",
    "\n",
    "The presented code and data are made available for research purposes only. There is no warranty and rights can not be derived from them, as indicated in the general license of this repository."
   ]
  },
  {
   "cell_type": "markdown",
   "metadata": {},
   "source": [
    "## Import dependencies"
   ]
  },
  {
   "cell_type": "code",
   "execution_count": 1,
   "metadata": {},
   "outputs": [],
   "source": [
    "from pathlib import Path\n",
    "\n",
    "import matplotlib.pyplot as plt\n",
    "import numpy as np\n",
    "import pandas as pd\n",
    "from helpers import zernike_coefficients_vs_field\n",
    "\n",
    "import zospy as zp"
   ]
  },
  {
   "cell_type": "markdown",
   "metadata": {},
   "source": [
    "## Initialize OpticStudio\n",
    "\n",
    "Establishing a connection with OpticStudio through the [ZOSPy](https://joss.theoj.org/papers/10.21105/joss.05756) library. The code used for the scientific publication was based on [ZOSPy version 1.1.2](https://github.com/MREYE-LUMC/ZOSPy/releases/tag/v1.1.2). \n",
    "\n",
    "In  this example we connect with OpticStudio in `extension` mode. For more extensive simulations we advise to use the `standalone` for a significant increase in computation performace."
   ]
  },
  {
   "cell_type": "code",
   "execution_count": 2,
   "metadata": {},
   "outputs": [],
   "source": [
    "zos = zp.ZOS()"
   ]
  },
  {
   "cell_type": "code",
   "execution_count": 3,
   "metadata": {},
   "outputs": [],
   "source": [
    "oss = zos.connect(\"extension\")"
   ]
  },
  {
   "cell_type": "markdown",
   "metadata": {},
   "source": [
    "## Define the eye model\n",
    "\n",
    "The eye model used within this example is based on clinical measurements of the right eye of a healthy subject. Note that the abbreviation _roc_ stands for radius of curvature."
   ]
  },
  {
   "cell_type": "code",
   "execution_count": 4,
   "metadata": {},
   "outputs": [],
   "source": [
    "geometry = {\n",
    "    \"axial_length\": 23.1,  # mm\n",
    "    \"cornea_thickness\": 0.57,  # mm\n",
    "    \"cornea_front_roc_x\": 7.83,  # mm\n",
    "    \"cornea_front_roc_x_axis\": 1.5,  # degrees\n",
    "    \"cornea_front_roc_y\": 7.70,  # mm\n",
    "    \"cornea_front_asphericity\": -0.346,\n",
    "    \"cornea_back_roc_x\": 6.34,  # mm\n",
    "    \"cornea_back_roc_y\": 6.24,  # mm\n",
    "    \"cornea_back_asphericity\": 0.0,\n",
    "    \"anterior_chamber_depth\": 3.05,  # 3.05,  # mm, internal\n",
    "    \"pupil_radius\": 1.5,  # mm\n",
    "    \"lens_thickness\": 3.43,  # mm\n",
    "    \"lens_front_roc\": 11.45,  # mm\n",
    "    \"lens_front_asphericity\": 4.6e-4,\n",
    "    \"lens_back_roc\": -6.24,  # mm\n",
    "    \"lens_back_asphericity\": 2.49e-4,\n",
    "    \"retina_roc_x\": -13.7,  # mm\n",
    "    \"retina_asphericity_x\": 0.31,\n",
    "    \"retina_roc_y\": -13.46,  # mm\n",
    "    \"retina_asphericity_y\": 0.29,\n",
    "}\n",
    "\n",
    "refractive_indices = {  # at 589.3 nm (green light)\n",
    "    \"cornea\": 1.376,\n",
    "    \"aqueous\": 1.3374,\n",
    "    \"lens\": 1.427,\n",
    "    \"vitreous\": 1.336,\n",
    "}\n",
    "\n",
    "measured_refraction = {\n",
    "    \"Sphere\": 0.5,  # Diopter\n",
    "    \"Cylinder\": -0.5,  # Diopter\n",
    "    \"Axis\": 101,  # degrees\n",
    "}"
   ]
  },
  {
   "cell_type": "markdown",
   "metadata": {},
   "source": [
    "### Initialize the optical system in OpticStudio\n",
    "* The system is defined in sequential mode.\n",
    "* For ray tracing, a wavelength of 589.3 nm is used.\n",
    "* The aperture type is set to `FloatByStopSize`\n",
    "* Ray aiming is set to `Real`."
   ]
  },
  {
   "cell_type": "code",
   "execution_count": 5,
   "metadata": {},
   "outputs": [],
   "source": [
    "WAVELENGTH = 589.3  # nm"
   ]
  },
  {
   "cell_type": "code",
   "execution_count": 6,
   "metadata": {},
   "outputs": [],
   "source": [
    "oss.new()\n",
    "oss.make_sequential()\n",
    "oss.SystemData.Wavelengths.GetWavelength(1).Wavelength = WAVELENGTH / 1000\n",
    "oss.SystemData.Aperture.ApertureType = zp.constants.SystemData.ZemaxApertureType.FloatByStopSize\n",
    "oss.SystemData.RayAiming.RayAiming = zp.constants.SystemData.RayAimingMethod.Real"
   ]
  },
  {
   "cell_type": "markdown",
   "metadata": {},
   "source": [
    "### Create the eye model\n",
    "\n",
    "For each of the surfaces the curvature, asphericity, thickness and refractive index is set."
   ]
  },
  {
   "cell_type": "code",
   "execution_count": 7,
   "metadata": {},
   "outputs": [
    {
     "data": {
      "text/plain": [
       "<ZOSAPI.Editors.ISolveMaterialModel object at 0x000001EDB32B5FC0>"
      ]
     },
     "execution_count": 7,
     "metadata": {},
     "output_type": "execute_result"
    }
   ],
   "source": [
    "# Object\n",
    "raytracing_object = oss.LDE.GetSurfaceAt(0)\n",
    "raytracing_object.Comment = \"Object\"\n",
    "\n",
    "# Input beam\n",
    "input_beam = oss.LDE.InsertNewSurfaceAt(1)\n",
    "input_beam.Comment = \"Input beam\"\n",
    "input_beam.Thickness = 10\n",
    "input_beam.DrawData.DoNotDrawThisSurface = True\n",
    "\n",
    "# Cornea front\n",
    "cornea_front = oss.LDE.InsertNewSurfaceAt(2)\n",
    "zp.functions.lde.surface_change_type(cornea_front, zp.constants.Editors.LDE.SurfaceType.Biconic)  # Change to biconic\n",
    "cornea_front.Comment = \"Cornea Front\"\n",
    "cornea_front.Thickness = geometry[\"cornea_thickness\"]\n",
    "cornea_front.Radius = geometry[\"cornea_front_roc_y\"]\n",
    "cornea_front.Conic = geometry[\"cornea_front_asphericity\"]\n",
    "cornea_front.GetCellAt(12).DoubleValue = geometry[\"cornea_front_roc_x\"]  # radius 2\n",
    "cornea_front.GetCellAt(13).DoubleValue = geometry[\"cornea_front_asphericity\"]  # conic 2\n",
    "zp.solvers.material_model(cornea_front.MaterialCell, refractive_index=refractive_indices[\"cornea\"])\n",
    "cornea_front.SemiDiameter = 6\n",
    "cornea_front.MechanicalSemiDiameter = 6\n",
    "\n",
    "# Rotate the surface to ensure the a correct axis for the corneal curvatures\n",
    "cornea_front.TiltDecenterData.BeforeSurfaceTiltZ = geometry[\"cornea_front_roc_x_axis\"]\n",
    "cornea_front.TiltDecenterData.SetAfterSurfaceModeReverseThis()\n",
    "\n",
    "# Cornea back\n",
    "cornea_back = oss.LDE.InsertNewSurfaceAt(3)\n",
    "zp.functions.lde.surface_change_type(cornea_back, zp.constants.Editors.LDE.SurfaceType.Biconic)  # Change to biconic\n",
    "cornea_back.Comment = \"Cornea Back\"\n",
    "cornea_back.Thickness = geometry[\"anterior_chamber_depth\"]\n",
    "cornea_back.Radius = geometry[\"cornea_back_roc_y\"]\n",
    "cornea_back.Conic = geometry[\"cornea_back_asphericity\"]\n",
    "cornea_back.GetCellAt(12).DoubleValue = geometry[\"cornea_back_roc_x\"]  # radius 2\n",
    "cornea_back.GetCellAt(13).DoubleValue = geometry[\"cornea_back_asphericity\"]  # conic 2\n",
    "zp.solvers.material_model(cornea_back.MaterialCell, refractive_index=refractive_indices[\"aqueous\"])\n",
    "cornea_back.SemiDiameter = 5\n",
    "cornea_back.MechanicalSemiDiameter = 5\n",
    "\n",
    "cornea_back.DrawData.DoNotDrawEdgesFromThisSurface = True\n",
    "\n",
    "# Pupil\n",
    "pupil = oss.LDE.GetSurfaceAt(4)\n",
    "assert pupil.IsStop, \"Pupil must be the STOP surface.\"\n",
    "pupil.Comment = \"Pupil\"\n",
    "pupil.SemiDiameter = geometry[\"pupil_radius\"]\n",
    "pupil.MechanicalSemiDiameter = 6\n",
    "zp.solvers.material_model(pupil.MaterialCell, refractive_index=refractive_indices[\"aqueous\"])\n",
    "pupil.DrawData.DoNotDrawEdgesFromThisSurface = True\n",
    "\n",
    "# Lens front\n",
    "lens_front = oss.LDE.InsertNewSurfaceAt(5)\n",
    "lens_front.Comment = \"Lens Front\"\n",
    "lens_front.Thickness = geometry[\"lens_thickness\"]\n",
    "lens_front.Radius = geometry[\"lens_front_roc\"]\n",
    "lens_front.Conic = geometry[\"lens_front_asphericity\"]\n",
    "lens_front.SemiDiameter = 4.25\n",
    "lens_front.MechanicalSemiDiameter = 4.25\n",
    "zp.solvers.material_model(lens_front.MaterialCell, refractive_index=refractive_indices[\"lens\"])\n",
    "\n",
    "# Coordinate break 1\n",
    "coordinate_break_1 = oss.LDE.InsertNewSurfaceAt(6)\n",
    "coordinate_break_1.Comment = \"Coordinate Break 1\"\n",
    "zp.functions.lde.surface_change_type(coordinate_break_1, zp.constants.Editors.LDE.SurfaceType.CoordinateBreak)\n",
    "\n",
    "# Lens back\n",
    "lens_back = oss.LDE.InsertNewSurfaceAt(7)\n",
    "zp.functions.lde.surface_change_type(lens_back, zp.constants.Editors.LDE.SurfaceType.Biconic)\n",
    "lens_back.Comment = \"Lens Back\"\n",
    "zp.solvers.position(lens_back.ThicknessCell, cornea_front.RowIndex, geometry[\"axial_length\"])\n",
    "lens_back.Radius = geometry[\"lens_back_roc\"]\n",
    "lens_back.Conic = geometry[\"lens_back_asphericity\"]\n",
    "lens_back.GetCellAt(12).DoubleValue = geometry[\"lens_back_roc\"]  # radius 2\n",
    "lens_back.GetCellAt(13).DoubleValue = geometry[\"lens_back_asphericity\"]  # conic 2\n",
    "lens_back.SemiDiameter = 4.25\n",
    "lens_back.MechanicalSemiDiameter = 4.25\n",
    "zp.solvers.material_model(lens_back.MaterialCell, refractive_index=refractive_indices[\"vitreous\"])\n",
    "lens_back.DrawData.DoNotDrawEdgesFromThisSurface = True\n",
    "\n",
    "# Coordbreak 2\n",
    "coordinate_break_2 = oss.LDE.InsertNewSurfaceAt(8)\n",
    "coordinate_break_2.Comment = \"CoordBreak2\"\n",
    "zp.functions.lde.surface_change_type(coordinate_break_2, zp.constants.Editors.LDE.SurfaceType.CoordinateBreak)\n",
    "coordinate_break_2.TiltDecenterData.CoordinateReturn = zp.constants.Editors.LDE.CoordinateReturnType.OrientationXY\n",
    "coordinate_break_2.TiltDecenterData.CoordinateReturnToSurface = raytracing_object.SurfaceNumber\n",
    "\n",
    "# Retina\n",
    "retina = oss.LDE.GetSurfaceAt(9)\n",
    "retina.Comment = \"Retina\"\n",
    "zp.functions.lde.surface_change_type(retina, zp.constants.Editors.LDE.SurfaceType.Biconic)\n",
    "retina.Radius = geometry[\"retina_roc_y\"]\n",
    "retina.Conic = geometry[\"retina_asphericity_y\"]\n",
    "retina.GetCellAt(12).DoubleValue = geometry[\"retina_roc_x\"]\n",
    "retina.GetCellAt(13).DoubleValue = geometry[\"retina_asphericity_x\"]\n",
    "retina.SemiDiameter = 12\n",
    "\n",
    "zp.solvers.material_model(retina.MaterialCell, refractive_index=refractive_indices[\"vitreous\"])"
   ]
  },
  {
   "cell_type": "markdown",
   "metadata": {},
   "source": [
    "# Set fields\n",
    "To use the Zernike vs Field analysis, we ensure 4 additional fields are set at a maximum of 55 degrees in every principal meridian."
   ]
  },
  {
   "cell_type": "code",
   "execution_count": 8,
   "metadata": {},
   "outputs": [],
   "source": [
    "# Fields\n",
    "field1 = oss.SystemData.Fields.GetField(1)\n",
    "\n",
    "# Add fields\n",
    "max_field = 55\n",
    "field2 = oss.SystemData.Fields.AddField(0, max_field, 1)  # +y\n",
    "field3 = oss.SystemData.Fields.AddField(0, -max_field, 1)  # -y\n",
    "field4 = oss.SystemData.Fields.AddField(max_field, 0, 1)  # +x\n",
    "field5 = oss.SystemData.Fields.AddField(-max_field, 0, -1)  # -x"
   ]
  },
  {
   "cell_type": "markdown",
   "metadata": {},
   "source": [
    "# Determine lens curvature to match central refraction\n",
    "\n",
    "We determine lens curvature such that the central refraction of the optical system matches the clinically measured refraction. To that end, we first convert the clinically measured refraction into Zernike coefficients, and then set those coefficients as target in a merit function. The merit funcion is used to iteratively alter the lens thickness, lens back geometry and lens back tilt such that the eye model matches the measured central refraction. As the tilt of a surface cannot be directly altered in the merit function, the coordinate breaks are used to alter the tilt. Finally, the merit function has some restraints to maintain a proper lens shape.\n",
    "\n",
    "> <details>\n",
    "> <summary>Merit function details</summary>\n",
    ">  \n",
    "> The merit function consist of several components. All components have a weight of either 1 or 0. Operands with a weight of 1 are being taken into account for the optimization. Operands with a weight of 0 are not directly taken into accound (but e.g. used within other operands). The used operands include:\n",
    "> * 3 ZERN operands _(Weights=1)_ used to optimize $Z4$, $Z5$ and $Z6$ such that the eye model matches the refraction. \n",
    "> * 1 ZERN operand _(Weight=0)_ that is used to set the maximal Zernike term used in Zernike calculations to 15.\n",
    "> * PMGT and PMLT operands _(Weights=1)_ to set limitations of -45 and 45 degrees for the tilt of the back of the lens. \n",
    "> * 2x a combination of two ETVA _(Weights=0)_, one SUMM _(Weight=0)_ and one OPGT _(Weight=1)_ operand to ensure that the outer edges of the anterior and posterior lens surface are at least separated by 0.1 mm in both +x and +y\n",
    "> * CTGT and CTLT operands _(Weight=1)_ to allow the center thickness of the lens to increase or decrease maximally 0.2 mm.\n",
    "> * A combination of COVA  _(Weight=0)_, OPGT _(Weight=1)_, and  OPLT _(Weight=1)_ operands to set constraints on the conic value of the back of the lens.\n",
    "> * A bombination of PMGT and PMLT operands _(Weights=1)_ to apply those same conic constaints on the second comic parameter of the back of the lens (given its a biconic surface).\n",
    ">\n",
    "> For brevity, the merit function is loaded rather than constructed using `ZOSPy`. Below is an example of how to construct them using `ZOSPy`.\n",
    ">\n",
    ">\n",
    "> ```python\n",
    "> oss.MFE.ShowEditor()  # For visualization of the MFE, can be omitted\n",
    "> oss.MFE.DeleteAllRows()  # Clean the MFE \n",
    "> op1 = oss.MFE.GetOperandAt(1)  # The MFE has one empty operand after DeleteAllRows(). \n",
    "> op1.ChangeType(zp.constants.Editors.MFE.MeritOperandType.ZERN)\n",
    "> op1.GetOperandCell(zp.constants.Editors.MFE.MeritColumn.Param1).IntegerValue = 4\n",
    "> op1.GetOperandCell(zp.constants.Editors.MFE.MeritColumn.Param3).IntegerValue = int(zp.constants.Analysis.SampleSizes.S_512x512)\n",
    "> op1.GetOperandCell(zp.constants.Editors.MFE.MeritColumn.Param5).IntegerValue = 1\n",
    "> op1.Target = 0 # The target, later set to z4_target\n",
    "> op1.Weight = 1\n",
    ">\n",
    "> # Additional arguments can be added using oss.MFE.AddOperand()\n",
    "> ```\n",
    "> </details>\n",
    "\n",
    "To work with this merit function, pupil data from the current model is required"
   ]
  },
  {
   "cell_type": "code",
   "execution_count": 9,
   "metadata": {},
   "outputs": [],
   "source": [
    "pupil_data = zp.functions.lde.get_pupil(oss)\n",
    "exit_pupil_diameter = pupil_data.ExitPupilDiameter\n",
    "exit_pupil_radius = exit_pupil_diameter / 2"
   ]
  },
  {
   "cell_type": "markdown",
   "metadata": {},
   "source": [
    "Then use that to calculate the target Zernike values"
   ]
  },
  {
   "cell_type": "code",
   "execution_count": 10,
   "metadata": {},
   "outputs": [],
   "source": [
    "# Calculate power vectors M, J0 and J45\n",
    "m_measured = measured_refraction[\"Sphere\"] + measured_refraction[\"Cylinder\"] / 2\n",
    "j_measured = -measured_refraction[\"Cylinder\"] / 2\n",
    "j0_measured = j_measured * np.cos(2 * np.deg2rad(measured_refraction[\"Axis\"]))\n",
    "j45_measured = j_measured * np.sin(2 * np.deg2rad(measured_refraction[\"Axis\"]))\n",
    "\n",
    "z4_target = ((exit_pupil_radius**2 * m_measured) / (4 * np.sqrt(3) * -1)) / (WAVELENGTH / 1000)\n",
    "z6_target = ((exit_pupil_radius**2 * j0_measured) / (2 * np.sqrt(6) * -1)) / (WAVELENGTH / 1000)\n",
    "z5_target = ((exit_pupil_radius**2 * j45_measured) / (2 * np.sqrt(6) * -1)) / (WAVELENGTH / 1000)"
   ]
  },
  {
   "cell_type": "markdown",
   "metadata": {},
   "source": [
    "Then set the targets for the mertit optimizer"
   ]
  },
  {
   "cell_type": "code",
   "execution_count": 11,
   "metadata": {},
   "outputs": [
    {
     "data": {
      "text/plain": [
       "<ZOSAPI.Editors.ISolveVariable object at 0x000001EDD37F4780>"
      ]
     },
     "execution_count": 11,
     "metadata": {},
     "output_type": "execute_result"
    }
   ],
   "source": [
    "zp.solvers.variable(lens_front.ThicknessCell)  # Lens thickness\n",
    "zp.solvers.variable(coordinate_break_1.GetCellAt(16))  # Rotation of lens back\n",
    "zp.solvers.variable(lens_back.RadiusCell)  # Radius y\n",
    "zp.solvers.variable(lens_back.ConicCell)  # Conic y\n",
    "zp.solvers.variable(lens_back.GetCellAt(12))  # Radius x\n",
    "zp.solvers.variable(lens_back.GetCellAt(13))  # Conic X"
   ]
  },
  {
   "cell_type": "markdown",
   "metadata": {},
   "source": [
    "Load the merit function, set targets and optimize"
   ]
  },
  {
   "cell_type": "code",
   "execution_count": 12,
   "metadata": {},
   "outputs": [],
   "source": [
    "oss.MFE.ShowEditor()\n",
    "oss.MFE.LoadMeritFunction(Path(r\"ExampleMeritFunction.MF\").absolute().as_posix())  # TODO check if this work\n",
    "\n",
    "# Set targets\n",
    "op1 = oss.MFE.GetOperandAt(1)\n",
    "op1.Target = z4_target\n",
    "op2 = oss.MFE.GetOperandAt(2)\n",
    "op2.Target = z6_target\n",
    "op3 = oss.MFE.GetOperandAt(3)\n",
    "op3.Target = z5_target"
   ]
  },
  {
   "cell_type": "code",
   "execution_count": 13,
   "metadata": {},
   "outputs": [
    {
     "data": {
      "text/plain": [
       "True"
      ]
     },
     "execution_count": 13,
     "metadata": {},
     "output_type": "execute_result"
    }
   ],
   "source": [
    "# Optimze\n",
    "local_optimization = oss.Tools.OpenLocalOptimization()\n",
    "local_optimization.Algorithm = zp.constants.Tools.Optimization.OptimizationAlgorithm.DampedLeastSquares\n",
    "local_optimization.Cycles = zp.constants.Tools.Optimization.OptimizationCycles.Automatic\n",
    "local_optimization.NumberOfCores = 8\n",
    "local_optimization.RunAndWaitForCompletion()\n",
    "local_optimization.Close()"
   ]
  },
  {
   "cell_type": "markdown",
   "metadata": {},
   "source": [
    "Optimization result"
   ]
  },
  {
   "cell_type": "code",
   "execution_count": 14,
   "metadata": {},
   "outputs": [
    {
     "data": {
      "text/html": [
       "<div>\n",
       "<style scoped>\n",
       "    .dataframe tbody tr th:only-of-type {\n",
       "        vertical-align: middle;\n",
       "    }\n",
       "\n",
       "    .dataframe tbody tr th {\n",
       "        vertical-align: top;\n",
       "    }\n",
       "\n",
       "    .dataframe thead th {\n",
       "        text-align: right;\n",
       "    }\n",
       "</style>\n",
       "<table border=\"1\" class=\"dataframe\">\n",
       "  <thead>\n",
       "    <tr style=\"text-align: right;\">\n",
       "      <th></th>\n",
       "      <th>Target</th>\n",
       "      <th>Result</th>\n",
       "    </tr>\n",
       "  </thead>\n",
       "  <tbody>\n",
       "    <tr>\n",
       "      <th>Z4</th>\n",
       "      <td>-0.147964</td>\n",
       "      <td>-0.147964</td>\n",
       "    </tr>\n",
       "    <tr>\n",
       "      <th>Z5</th>\n",
       "      <td>0.194016</td>\n",
       "      <td>0.194016</td>\n",
       "    </tr>\n",
       "    <tr>\n",
       "      <th>Z6</th>\n",
       "      <td>0.078388</td>\n",
       "      <td>0.078388</td>\n",
       "    </tr>\n",
       "  </tbody>\n",
       "</table>\n",
       "</div>"
      ],
      "text/plain": [
       "      Target    Result\n",
       "Z4 -0.147964 -0.147964\n",
       "Z5  0.194016  0.194016\n",
       "Z6  0.078388  0.078388"
      ]
     },
     "execution_count": 14,
     "metadata": {},
     "output_type": "execute_result"
    }
   ],
   "source": [
    "pd.DataFrame(\n",
    "    columns=[\"Target\", \"Result\"],\n",
    "    index=[\"Z4\", \"Z5\", \"Z6\"],\n",
    "    data=[[op1.Target, op1.Value], [op2.Target, op2.Value], [op3.Target, op3.Value]],\n",
    ")"
   ]
  },
  {
   "cell_type": "markdown",
   "metadata": {},
   "source": [
    "# Show model"
   ]
  },
  {
   "cell_type": "code",
   "execution_count": 15,
   "metadata": {},
   "outputs": [
    {
     "data": {
      "text/plain": [
       "'AnalysisType': 'Draw3D'\n",
       "'Data': None\n",
       "'HeaderData': []\n",
       "'Messages': []\n",
       "'MetaData': AnalysisMetadata(DateTime=datetime.datetime(2025, 1, 25, 17, 0, 32, 788000), FeatureDescription='', LensFile='D:\\\\Software\\\\OpticStudio\\\\SAMPLES\\\\LENS.ZMX', LensTitle='')\n",
       "'Settings': None"
      ]
     },
     "execution_count": 15,
     "metadata": {},
     "output_type": "execute_result"
    }
   ],
   "source": [
    "zp.analyses.systemviewers.viewer_3d(oss)"
   ]
  },
  {
   "cell_type": "markdown",
   "metadata": {},
   "source": [
    "![The final eye model](example_eye_model.jpg)"
   ]
  },
  {
   "cell_type": "markdown",
   "metadata": {},
   "source": [
    "# Calculate peripheral refraction\n",
    "\n",
    "First recalculate the pupil data as the system has changed."
   ]
  },
  {
   "cell_type": "code",
   "execution_count": 16,
   "metadata": {},
   "outputs": [],
   "source": [
    "pupil_data = zp.functions.lde.get_pupil(oss)\n",
    "exit_pupil_diameter = pupil_data.ExitPupilDiameter\n",
    "exit_pupil_radius = exit_pupil_diameter / 2"
   ]
  },
  {
   "cell_type": "markdown",
   "metadata": {},
   "source": [
    "\n",
    "Then calculate the peripheral refraction using the Zernike vs. Fields analysis"
   ]
  },
  {
   "cell_type": "code",
   "execution_count": 17,
   "metadata": {},
   "outputs": [],
   "source": [
    "zc_minx = zernike_coefficients_vs_field(\n",
    "    oss, coefficients=\"1-15\", coefficients_type=\"Standard\", field_scan=\"-x\", field_density=11, sampling=\"512x512\"\n",
    ")\n",
    "zc_plusx = zernike_coefficients_vs_field(\n",
    "    oss, coefficients=\"1-15\", coefficients_type=\"Standard\", field_scan=\"+x\", field_density=11, sampling=\"512x512\"\n",
    ")\n",
    "zc_miny = zernike_coefficients_vs_field(\n",
    "    oss, coefficients=\"1-15\", coefficients_type=\"Standard\", field_scan=\"-y\", field_density=11, sampling=\"512x512\"\n",
    ")\n",
    "zc_plusy = zernike_coefficients_vs_field(\n",
    "    oss, coefficients=\"1-15\", coefficients_type=\"Standard\", field_scan=\"+y\", field_density=11, sampling=\"512x512\"\n",
    ")\n",
    "\n",
    "# Change the index for negative values as they come out as positive\n",
    "zc_minx.Data.ZernikeVsField.index = zc_minx.Data.ZernikeVsField.index * -1\n",
    "zc_miny.Data.ZernikeVsField.index = zc_miny.Data.ZernikeVsField.index * -1\n",
    "\n",
    "# Combine into one dataframe\n",
    "zrn_vs_field = pd.concat(\n",
    "    [\n",
    "        zc_plusx.Data.ZernikeVsField,\n",
    "        zc_minx.Data.ZernikeVsField,\n",
    "        zc_plusy.Data.ZernikeVsField,\n",
    "        zc_miny.Data.ZernikeVsField,\n",
    "    ],\n",
    "    keys=[\"+x\", \"-x\", \"+y\", \"-y\"],\n",
    ")\n",
    "\n",
    "# Calculate Spherical equivalent using Z4\n",
    "spherical_equivalent = (-zrn_vs_field.loc[:, 4] * (WAVELENGTH / 1000) * 4 * np.sqrt(3)) / (exit_pupil_radius**2)"
   ]
  },
  {
   "cell_type": "markdown",
   "metadata": {},
   "source": [
    "# Plot results\n",
    "\n",
    "First create two variables, one for horizontal and one for vertical refraction"
   ]
  },
  {
   "cell_type": "code",
   "execution_count": 18,
   "metadata": {},
   "outputs": [],
   "source": [
    "horizontal_refraction = spherical_equivalent.loc[[\"+x\", \"-x\"]].drop((\"-x\", 0))\n",
    "horizontal_refraction = horizontal_refraction.droplevel(0).sort_index()\n",
    "\n",
    "vertical_refraction = spherical_equivalent.loc[[\"+y\", \"-y\"]].drop((\"-y\", 0))\n",
    "vertical_refraction = vertical_refraction.droplevel(0).sort_index()"
   ]
  },
  {
   "cell_type": "markdown",
   "metadata": {},
   "source": [
    "Then plot them"
   ]
  },
  {
   "cell_type": "code",
   "execution_count": 19,
   "metadata": {},
   "outputs": [
    {
     "data": {
      "text/plain": [
       "Text(0.5, 0, 'Eccentricity (degrees)')"
      ]
     },
     "execution_count": 19,
     "metadata": {},
     "output_type": "execute_result"
    },
    {
     "data": {
      "image/png": "[encoded data removed]",
      "text/plain": [
       "<Figure size 600x150 with 2 Axes>"
      ]
     },
     "metadata": {},
     "output_type": "display_data"
    }
   ],
   "source": [
    "fig, ax = plt.subplots(1, 2, sharex=True, sharey=True, figsize=(6, 1.5))\n",
    "ax[0].plot(horizontal_refraction)\n",
    "ax[0].set_title(\"Horizontal refraction\")\n",
    "ax[0].set_xlabel(\"Eccentricity (degrees)\")\n",
    "ax[0].set_ylabel(\"SE (D)\")\n",
    "ax[1].plot(vertical_refraction)\n",
    "ax[1].set_title(\"Vertical refraction\")\n",
    "ax[1].set_xlabel(\"Eccentricity (degrees)\")"
   ]
  }
 ],
 "metadata": {
  "kernelspec": {
   "display_name": "Python 3",
   "language": "python",
   "name": "python3"
  },
  "language_info": {
   "codemirror_mode": {
    "name": "ipython",
    "version": 3
   },
   "file_extension": ".py",
   "mimetype": "text/x-python",
   "name": "python",
   "nbconvert_exporter": "python",
   "pygments_lexer": "ipython3",
   "version": "3.11.6"
  }
 },
 "nbformat": 4,
 "nbformat_minor": 2
}
