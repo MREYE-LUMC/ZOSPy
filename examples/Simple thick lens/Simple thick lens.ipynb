{
 "cells": [
  {
   "attachments": {},
   "cell_type": "markdown",
   "metadata": {},
   "source": [
    "# Simple thick lens\n",
    "\n",
    "This example shows how to create and analyze a simple thick lens as described in the paper \n",
    "[ZOSPy: optical ray tracing in Python through OpticStudio](https://joss.theoj.org/papers/10.21105/joss.05756). \n",
    "The code resembles the example of the paper with the addition of plotting the analysis results.\n",
    "\n",
    "## Included functionalities\n",
    "\n",
    "* _Sequential mode_:\n",
    "  - Building a simple sequential optical system.\n",
    "  - Usage of `zospy.analyses.mtf.fft_through_focus_mtf` to calculate the FFT through focus MTF.\n",
    "  - Usage of `zospy.analyses.psf.huygens_psf()` to perform a Huygens PSF analysis.\n",
    "\n",
    "## Warranty and liability\n",
    "\n",
    "The examples are provided 'as is'. There is no warranty and rights cannot be derived from them, as is also stated in the \n",
    "general license of this repository.\n",
    "\n"
   ]
  },
  {
   "cell_type": "markdown",
   "metadata": {},
   "source": [
    "This example requires to connect to OpticStudio as extension. Also make sure ZOSPy is in sequential mode before running this example."
   ]
  },
  {
   "cell_type": "markdown",
   "metadata": {},
   "source": [
    "## Import dependencies"
   ]
  },
  {
   "cell_type": "code",
   "execution_count": 1,
   "metadata": {
    "ExecuteTime": {
     "end_time": "2024-10-25T10:06:29.885718Z",
     "start_time": "2024-10-25T10:06:28.871045Z"
    },
    "execution": {
     "iopub.execute_input": "2025-02-19T14:39:42.810607Z",
     "iopub.status.busy": "2025-02-19T14:39:42.809606Z",
     "iopub.status.idle": "2025-02-19T14:39:44.320809Z",
     "shell.execute_reply": "2025-02-19T14:39:44.320809Z"
    }
   },
   "outputs": [],
   "source": [
    "from warnings import warn\n",
    "\n",
    "import matplotlib.pyplot as plt\n",
    "\n",
    "import zospy as zp"
   ]
  },
  {
   "attachments": {},
   "cell_type": "markdown",
   "metadata": {},
   "source": [
    "## Setup the connection"
   ]
  },
  {
   "attachments": {},
   "cell_type": "markdown",
   "metadata": {},
   "source": [
    "Initiate the connection to OpticStudio"
   ]
  },
  {
   "cell_type": "code",
   "execution_count": 2,
   "metadata": {
    "ExecuteTime": {
     "end_time": "2024-10-25T10:06:31.062767Z",
     "start_time": "2024-10-25T10:06:29.889707Z"
    },
    "execution": {
     "iopub.execute_input": "2025-02-19T14:39:44.322816Z",
     "iopub.status.busy": "2025-02-19T14:39:44.322816Z",
     "iopub.status.idle": "2025-02-19T14:39:49.932794Z",
     "shell.execute_reply": "2025-02-19T14:39:49.932794Z"
    }
   },
   "outputs": [],
   "source": [
    "zos = zp.ZOS()\n",
    "oss = zos.connect(\"extension\")"
   ]
  },
  {
   "attachments": {},
   "cell_type": "markdown",
   "metadata": {},
   "source": [
    "Get the primary system and make sure it is an new, empty system"
   ]
  },
  {
   "cell_type": "code",
   "execution_count": 3,
   "metadata": {
    "ExecuteTime": {
     "end_time": "2024-10-25T10:06:31.411226Z",
     "start_time": "2024-10-25T10:06:31.124917Z"
    },
    "execution": {
     "iopub.execute_input": "2025-02-19T14:39:49.934810Z",
     "iopub.status.busy": "2025-02-19T14:39:49.933810Z",
     "iopub.status.idle": "2025-02-19T14:39:49.989951Z",
     "shell.execute_reply": "2025-02-19T14:39:49.989951Z"
    }
   },
   "outputs": [],
   "source": [
    "oss.new()"
   ]
  },
  {
   "attachments": {},
   "cell_type": "markdown",
   "metadata": {},
   "source": [
    "## Set up the optical system\n",
    "1. Alter some system settings regarding the aperture size"
   ]
  },
  {
   "cell_type": "code",
   "execution_count": 4,
   "metadata": {
    "ExecuteTime": {
     "end_time": "2024-10-25T10:06:31.895411Z",
     "start_time": "2024-10-25T10:06:31.417993Z"
    },
    "execution": {
     "iopub.execute_input": "2025-02-19T14:39:49.991942Z",
     "iopub.status.busy": "2025-02-19T14:39:49.991942Z",
     "iopub.status.idle": "2025-02-19T14:39:50.001152Z",
     "shell.execute_reply": "2025-02-19T14:39:50.001152Z"
    }
   },
   "outputs": [],
   "source": [
    "oss.SystemData.Aperture.ApertureValue = 10"
   ]
  },
  {
   "cell_type": "markdown",
   "metadata": {},
   "source": [
    "2. Add the SCHOTT glass catalog if it is not already in use"
   ]
  },
  {
   "cell_type": "code",
   "execution_count": 5,
   "metadata": {
    "ExecuteTime": {
     "end_time": "2024-10-25T10:06:31.924413Z",
     "start_time": "2024-10-25T10:06:31.900413Z"
    },
    "execution": {
     "iopub.execute_input": "2025-02-19T14:39:50.003144Z",
     "iopub.status.busy": "2025-02-19T14:39:50.003144Z",
     "iopub.status.idle": "2025-02-19T14:39:50.008282Z",
     "shell.execute_reply": "2025-02-19T14:39:50.008282Z"
    }
   },
   "outputs": [
    {
     "name": "stdout",
     "output_type": "stream",
     "text": [
      "Catalogs currently in use: SCHOTT \n"
     ]
    }
   ],
   "source": [
    "if \"SCHOTT\" not in oss.SystemData.MaterialCatalogs.GetCatalogsInUse():\n",
    "    oss.SystemData.MaterialCatalogs.AddCatalog(\"SCHOTT\")\n",
    "\n",
    "print(\n",
    "    \"Catalogs currently in use:\",\n",
    "    \" \".join(oss.SystemData.MaterialCatalogs.GetCatalogsInUse()),\n",
    ")"
   ]
  },
  {
   "attachments": {},
   "cell_type": "markdown",
   "metadata": {},
   "source": [
    "3. Create an input beam for viewing purposes"
   ]
  },
  {
   "cell_type": "code",
   "execution_count": 6,
   "metadata": {
    "ExecuteTime": {
     "end_time": "2024-10-25T10:06:32.067987Z",
     "start_time": "2024-10-25T10:06:31.938789Z"
    },
    "execution": {
     "iopub.execute_input": "2025-02-19T14:39:50.029277Z",
     "iopub.status.busy": "2025-02-19T14:39:50.029277Z",
     "iopub.status.idle": "2025-02-19T14:39:50.040397Z",
     "shell.execute_reply": "2025-02-19T14:39:50.040397Z"
    }
   },
   "outputs": [],
   "source": [
    "input_beam = oss.LDE.InsertNewSurfaceAt(1)  # behind the object surface\n",
    "input_beam.Thickness = 10"
   ]
  },
  {
   "attachments": {},
   "cell_type": "markdown",
   "metadata": {},
   "source": [
    "4. Make a 10 mm thick lens with a radius of curvature of 30 mm and material type BK10"
   ]
  },
  {
   "cell_type": "code",
   "execution_count": 7,
   "metadata": {
    "ExecuteTime": {
     "end_time": "2024-10-25T10:06:32.529827Z",
     "start_time": "2024-10-25T10:06:32.076309Z"
    },
    "execution": {
     "iopub.execute_input": "2025-02-19T14:39:50.042389Z",
     "iopub.status.busy": "2025-02-19T14:39:50.041389Z",
     "iopub.status.idle": "2025-02-19T14:39:50.049650Z",
     "shell.execute_reply": "2025-02-19T14:39:50.049650Z"
    }
   },
   "outputs": [],
   "source": [
    "front_surface = oss.LDE.GetSurfaceAt(2)\n",
    "front_surface.Radius = 30\n",
    "front_surface.Thickness = 10\n",
    "front_surface.SemiDiameter = 15\n",
    "front_surface.Material = \"BK10\"\n",
    "\n",
    "back_surface = oss.LDE.InsertNewSurfaceAt(3)\n",
    "back_surface.Radius = -30\n",
    "back_surface.Thickness = 29\n",
    "back_surface.SemiDiameter = 15"
   ]
  },
  {
   "attachments": {},
   "cell_type": "markdown",
   "metadata": {},
   "source": [
    "5. Specify the detector surface"
   ]
  },
  {
   "cell_type": "code",
   "execution_count": 8,
   "metadata": {
    "ExecuteTime": {
     "end_time": "2024-10-25T10:06:32.573723Z",
     "start_time": "2024-10-25T10:06:32.534048Z"
    },
    "execution": {
     "iopub.execute_input": "2025-02-19T14:39:50.050643Z",
     "iopub.status.busy": "2025-02-19T14:39:50.050643Z",
     "iopub.status.idle": "2025-02-19T14:39:50.054672Z",
     "shell.execute_reply": "2025-02-19T14:39:50.054672Z"
    }
   },
   "outputs": [],
   "source": [
    "image_surface = oss.LDE.GetSurfaceAt(4)\n",
    "image_surface.SemiDiameter = 5"
   ]
  },
  {
   "attachments": {},
   "cell_type": "markdown",
   "metadata": {},
   "source": [
    "## Render the model"
   ]
  },
  {
   "cell_type": "code",
   "execution_count": 9,
   "metadata": {
    "ExecuteTime": {
     "end_time": "2024-10-25T10:06:33.470529Z",
     "start_time": "2024-10-25T10:06:32.579011Z"
    },
    "execution": {
     "iopub.execute_input": "2025-02-19T14:39:50.055666Z",
     "iopub.status.busy": "2025-02-19T14:39:50.055666Z",
     "iopub.status.idle": "2025-02-19T14:39:51.308143Z",
     "shell.execute_reply": "2025-02-19T14:39:51.308143Z"
    }
   },
   "outputs": [
    {
     "data": {
      "image/png": "[encoded data removed]",
      "text/plain": [
       "<Figure size 640x480 with 1 Axes>"
      ]
     },
     "metadata": {},
     "output_type": "display_data"
    }
   ],
   "source": [
    "draw3d = zp.analyses.systemviewers.Viewer3D(\n",
    "    surface_line_thickness=\"Thick\",\n",
    "    rays_line_thickness=\"Thick\",\n",
    "    number_of_rays=7,\n",
    "    hide_x_bars=True,\n",
    ").run(oss, oncomplete=\"Release\")\n",
    "\n",
    "if zos.version < (24, 1, 0):\n",
    "    warn(\"Exporting the 3D viewer data is not available for this version of OpticStudio.\")\n",
    "else:\n",
    "    plt.imshow(draw3d.data)\n",
    "    plt.axis(\"off\")"
   ]
  },
  {
   "attachments": {},
   "cell_type": "markdown",
   "metadata": {},
   "source": [
    "## Analyze the model and show the results"
   ]
  },
  {
   "attachments": {},
   "cell_type": "markdown",
   "metadata": {},
   "source": [
    "1. Calculte the *FFT through focus MTF* and plot it"
   ]
  },
  {
   "cell_type": "code",
   "execution_count": 10,
   "metadata": {
    "ExecuteTime": {
     "end_time": "2024-10-25T10:06:33.934943Z",
     "start_time": "2024-10-25T10:06:33.478264Z"
    },
    "execution": {
     "iopub.execute_input": "2025-02-19T14:39:51.310140Z",
     "iopub.status.busy": "2025-02-19T14:39:51.309141Z",
     "iopub.status.idle": "2025-02-19T14:39:51.849429Z",
     "shell.execute_reply": "2025-02-19T14:39:51.849429Z"
    }
   },
   "outputs": [],
   "source": [
    "mtf = zp.analyses.mtf.FFTThroughFocusMTF(sampling=\"512x512\", delta_focus=2.5, frequency=3, number_of_steps=51).run(\n",
    "    oss, oncomplete=\"Sustain\"\n",
    ")"
   ]
  },
  {
   "cell_type": "code",
   "execution_count": 11,
   "metadata": {
    "ExecuteTime": {
     "end_time": "2024-10-25T10:06:33.991940Z",
     "start_time": "2024-10-25T10:06:33.944328Z"
    },
    "execution": {
     "iopub.execute_input": "2025-02-19T14:39:51.851436Z",
     "iopub.status.busy": "2025-02-19T14:39:51.850436Z",
     "iopub.status.idle": "2025-02-19T14:39:51.888666Z",
     "shell.execute_reply": "2025-02-19T14:39:51.888666Z"
    }
   },
   "outputs": [
    {
     "data": {
      "image/png": "[encoded data removed]",
      "text/plain": [
       "<Figure size 200x150 with 1 Axes>"
      ]
     },
     "metadata": {},
     "output_type": "display_data"
    }
   ],
   "source": [
    "fig = plt.figure(figsize=(2, 1.5))\n",
    "ax = fig.add_subplot(111)\n",
    "ax.plot(mtf.data.index, mtf.data[(\"Field: 0,0000 (deg)\", \"Tangential\")])\n",
    "ax.set_xlabel(\"Focus shift (mm)\")\n",
    "_ = ax.set_ylabel(\"Modulus of the OTF\")"
   ]
  },
  {
   "cell_type": "code",
   "execution_count": 12,
   "metadata": {
    "execution": {
     "iopub.execute_input": "2025-02-19T14:39:51.890664Z",
     "iopub.status.busy": "2025-02-19T14:39:51.889665Z",
     "iopub.status.idle": "2025-02-19T14:39:51.922989Z",
     "shell.execute_reply": "2025-02-19T14:39:51.922989Z"
    }
   },
   "outputs": [
    {
     "data": {
      "text/html": [
       "<div>\n",
       "<style scoped>\n",
       "    .dataframe tbody tr th:only-of-type {\n",
       "        vertical-align: middle;\n",
       "    }\n",
       "\n",
       "    .dataframe tbody tr th {\n",
       "        vertical-align: top;\n",
       "    }\n",
       "\n",
       "    .dataframe thead tr th {\n",
       "        text-align: left;\n",
       "    }\n",
       "\n",
       "    .dataframe thead tr:last-of-type th {\n",
       "        text-align: right;\n",
       "    }\n",
       "</style>\n",
       "<table border=\"1\" class=\"dataframe\">\n",
       "  <thead>\n",
       "    <tr>\n",
       "      <th>Description</th>\n",
       "      <th colspan=\"2\" halign=\"left\">Field: 0,0000 (deg)</th>\n",
       "    </tr>\n",
       "    <tr>\n",
       "      <th>SeriesLabels</th>\n",
       "      <th>Tangential</th>\n",
       "      <th>Sagittal</th>\n",
       "    </tr>\n",
       "    <tr>\n",
       "      <th>Focal Shift</th>\n",
       "      <th></th>\n",
       "      <th></th>\n",
       "    </tr>\n",
       "  </thead>\n",
       "  <tbody>\n",
       "    <tr>\n",
       "      <th>-2.500000</th>\n",
       "      <td>0.103930</td>\n",
       "      <td>0.103930</td>\n",
       "    </tr>\n",
       "    <tr>\n",
       "      <th>-2.483278</th>\n",
       "      <td>0.122375</td>\n",
       "      <td>0.122375</td>\n",
       "    </tr>\n",
       "    <tr>\n",
       "      <th>-2.466555</th>\n",
       "      <td>0.140851</td>\n",
       "      <td>0.140851</td>\n",
       "    </tr>\n",
       "    <tr>\n",
       "      <th>-2.449833</th>\n",
       "      <td>0.159388</td>\n",
       "      <td>0.159388</td>\n",
       "    </tr>\n",
       "    <tr>\n",
       "      <th>-2.433110</th>\n",
       "      <td>0.178017</td>\n",
       "      <td>0.178017</td>\n",
       "    </tr>\n",
       "    <tr>\n",
       "      <th>...</th>\n",
       "      <td>...</td>\n",
       "      <td>...</td>\n",
       "    </tr>\n",
       "    <tr>\n",
       "      <th>2.433110</th>\n",
       "      <td>0.023551</td>\n",
       "      <td>0.023551</td>\n",
       "    </tr>\n",
       "    <tr>\n",
       "      <th>2.449833</th>\n",
       "      <td>0.023792</td>\n",
       "      <td>0.023792</td>\n",
       "    </tr>\n",
       "    <tr>\n",
       "      <th>2.466555</th>\n",
       "      <td>0.024007</td>\n",
       "      <td>0.024007</td>\n",
       "    </tr>\n",
       "    <tr>\n",
       "      <th>2.483278</th>\n",
       "      <td>0.024204</td>\n",
       "      <td>0.024204</td>\n",
       "    </tr>\n",
       "    <tr>\n",
       "      <th>2.500000</th>\n",
       "      <td>0.024392</td>\n",
       "      <td>0.024392</td>\n",
       "    </tr>\n",
       "  </tbody>\n",
       "</table>\n",
       "<p>300 rows × 2 columns</p>\n",
       "</div>"
      ],
      "text/plain": [
       "Description  Field: 0,0000 (deg)          \n",
       "SeriesLabels          Tangential  Sagittal\n",
       "Focal Shift                               \n",
       "-2.500000               0.103930  0.103930\n",
       "-2.483278               0.122375  0.122375\n",
       "-2.466555               0.140851  0.140851\n",
       "-2.449833               0.159388  0.159388\n",
       "-2.433110               0.178017  0.178017\n",
       "...                          ...       ...\n",
       " 2.433110               0.023551  0.023551\n",
       " 2.449833               0.023792  0.023792\n",
       " 2.466555               0.024007  0.024007\n",
       " 2.483278               0.024204  0.024204\n",
       " 2.500000               0.024392  0.024392\n",
       "\n",
       "[300 rows x 2 columns]"
      ]
     },
     "execution_count": 12,
     "metadata": {},
     "output_type": "execute_result"
    }
   ],
   "source": [
    "mtf.data"
   ]
  },
  {
   "attachments": {},
   "cell_type": "markdown",
   "metadata": {},
   "source": [
    "2. Calculate the Huygens PSF and plot it"
   ]
  },
  {
   "cell_type": "code",
   "execution_count": 13,
   "metadata": {
    "ExecuteTime": {
     "end_time": "2024-10-25T10:06:47.136218Z",
     "start_time": "2024-10-25T10:06:34.000723Z"
    },
    "execution": {
     "iopub.execute_input": "2025-02-19T14:39:51.923987Z",
     "iopub.status.busy": "2025-02-19T14:39:51.923987Z",
     "iopub.status.idle": "2025-02-19T14:40:33.454562Z",
     "shell.execute_reply": "2025-02-19T14:40:33.454562Z"
    }
   },
   "outputs": [],
   "source": [
    "huygens_psf = zp.analyses.psf.HuygensPSF(pupil_sampling=\"512x512\", image_sampling=\"512x512\", normalize=True).run(oss)"
   ]
  },
  {
   "cell_type": "code",
   "execution_count": 14,
   "metadata": {
    "ExecuteTime": {
     "end_time": "2024-10-25T10:06:47.233999Z",
     "start_time": "2024-10-25T10:06:47.151326Z"
    },
    "execution": {
     "iopub.execute_input": "2025-02-19T14:40:33.456560Z",
     "iopub.status.busy": "2025-02-19T14:40:33.456560Z",
     "iopub.status.idle": "2025-02-19T14:40:33.555706Z",
     "shell.execute_reply": "2025-02-19T14:40:33.555706Z"
    }
   },
   "outputs": [
    {
     "data": {
      "image/png": "[encoded data removed]",
      "text/plain": [
       "<Figure size 200x150 with 2 Axes>"
      ]
     },
     "metadata": {},
     "output_type": "display_data"
    }
   ],
   "source": [
    "fig = plt.figure(figsize=(2, 1.5))\n",
    "ax = fig.add_subplot(111)\n",
    "im = ax.imshow(\n",
    "    huygens_psf.data,\n",
    "    cmap=\"turbo\",\n",
    "    extent=[\n",
    "        huygens_psf.data.columns.values.min(),\n",
    "        huygens_psf.data.columns.values.max(),\n",
    "        huygens_psf.data.index.values.min(),\n",
    "        huygens_psf.data.index.values.max(),\n",
    "    ],\n",
    ")\n",
    "plt.colorbar(im, label=\"Huygens PSF\")\n",
    "ax.set_xlabel(\"x (μm)\")\n",
    "ax.set_ylabel(\"y (μm)\")\n",
    "ax.set_xticks([-20, 0, 20])\n",
    "_ = ax.set_yticks([-20, 0, 20])"
   ]
  }
 ],
 "metadata": {
  "kernelspec": {
   "display_name": "zospy",
   "language": "python",
   "name": "python3"
  },
  "language_info": {
   "codemirror_mode": {
    "name": "ipython",
    "version": 3
   },
   "file_extension": ".py",
   "mimetype": "text/x-python",
   "name": "python",
   "nbconvert_exporter": "python",
   "pygments_lexer": "ipython3",
   "version": "3.12.1"
  }
 },
 "nbformat": 4,
 "nbformat_minor": 2
}
