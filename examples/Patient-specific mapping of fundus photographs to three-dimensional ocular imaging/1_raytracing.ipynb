{
 "cells": [
  {
   "cell_type": "markdown",
   "metadata": {},
   "source": [
    "# Patient-specific mapping of fundus photographs to three-dimensional ocular imaging - Part 1: Raytracing\n",
    "\n",
    "This example contains raytracing simulations for the paper [*Patient-specific mapping of fundus photographs to three-dimensional ocular imaging*](https://doi.org/10.1002/mp.17576).\n",
    "\n",
    "## Citation\n",
    "\n",
    "Next to citing ZOSPy, please also cite the following paper when using this example or the data provided within this example:\n",
    "\n",
    "> Haasjes, C., Vu, T. H. K., & Beenakker, J.-W. M. (2024). Patient-specific mapping of fundus photographs to three-dimensional ocular imaging. Medical Physics. https://doi.org/10.1002/mp.17576\n",
    "\n",
    "## Warranty and liability\n",
    "\n",
    "The presented code and data are made available for research purposes only. There is no warranty and rights can not be derived from them, as is also stated in the general license of this repository."
   ]
  },
  {
   "cell_type": "markdown",
   "metadata": {},
   "source": [
    "## Import dependencies"
   ]
  },
  {
   "cell_type": "code",
   "execution_count": 1,
   "metadata": {
    "execution": {
     "iopub.execute_input": "2025-03-17T15:21:48.483742Z",
     "iopub.status.busy": "2025-03-17T15:21:48.483742Z",
     "iopub.status.idle": "2025-03-17T15:21:58.331210Z",
     "shell.execute_reply": "2025-03-17T15:21:58.331210Z"
    }
   },
   "outputs": [],
   "source": [
    "import json\n",
    "\n",
    "import matplotlib.pyplot as plt\n",
    "import numpy as np\n",
    "import pandas as pd\n",
    "import seaborn as sns\n",
    "from helpers import InputOutputAngles, get_nodal_points, get_retina_locations\n",
    "\n",
    "import zospy as zp"
   ]
  },
  {
   "cell_type": "code",
   "execution_count": 2,
   "metadata": {
    "execution": {
     "iopub.execute_input": "2025-03-17T15:21:58.333208Z",
     "iopub.status.busy": "2025-03-17T15:21:58.333208Z",
     "iopub.status.idle": "2025-03-17T15:21:58.336673Z",
     "shell.execute_reply": "2025-03-17T15:21:58.336673Z"
    },
    "tags": [
     "remove_cell"
    ]
   },
   "outputs": [],
   "source": [
    "import warnings\n",
    "\n",
    "warnings.filterwarnings(\"ignore\", message=\"Header and row length mismatch\")"
   ]
  },
  {
   "cell_type": "markdown",
   "metadata": {},
   "source": [
    "## Initialize OpticStudio\n",
    "\n",
    "Establishing a connection with OpticStudio through the [ZOSPy](https://joss.theoj.org/papers/10.21105/joss.05756) library. \n",
    "\n",
    "In  this example we connect with OpticStudio in `extension` mode. For more extensive simulations we advise to use the `standalone` for a significant increase in computation performace."
   ]
  },
  {
   "cell_type": "code",
   "execution_count": 3,
   "metadata": {
    "execution": {
     "iopub.execute_input": "2025-03-17T15:21:58.338660Z",
     "iopub.status.busy": "2025-03-17T15:21:58.338660Z",
     "iopub.status.idle": "2025-03-17T15:22:00.891680Z",
     "shell.execute_reply": "2025-03-17T15:22:00.891680Z"
    }
   },
   "outputs": [],
   "source": [
    "zos = zp.ZOS()"
   ]
  },
  {
   "cell_type": "code",
   "execution_count": 4,
   "metadata": {
    "execution": {
     "iopub.execute_input": "2025-03-17T15:22:00.893685Z",
     "iopub.status.busy": "2025-03-17T15:22:00.893685Z",
     "iopub.status.idle": "2025-03-17T15:22:09.575788Z",
     "shell.execute_reply": "2025-03-17T15:22:09.575788Z"
    }
   },
   "outputs": [],
   "source": [
    "oss = zos.connect(\"extension\")"
   ]
  },
  {
   "cell_type": "markdown",
   "metadata": {},
   "source": [
    "## Define the eye model\n",
    "\n",
    "The used eye model is based upon clinical measurements of healthy subject."
   ]
  },
  {
   "cell_type": "code",
   "execution_count": 5,
   "metadata": {
    "execution": {
     "iopub.execute_input": "2025-03-17T15:22:09.577809Z",
     "iopub.status.busy": "2025-03-17T15:22:09.577809Z",
     "iopub.status.idle": "2025-03-17T15:22:09.583020Z",
     "shell.execute_reply": "2025-03-17T15:22:09.583020Z"
    }
   },
   "outputs": [],
   "source": [
    "# navarro_geometry = {\n",
    "#     \"axial_length\": 23.9203,  # mm\n",
    "#     \"cornea_thickness\": 0.5,  # mm\n",
    "#     \"anterior_chamber_depth\": 3.05,  # mm\n",
    "#     \"lens_thickness\": 4.0,  # mm\n",
    "#     \"cornea_front_curvature\": 7.72,  # mm\n",
    "#     \"cornea_front_asphericity\": -0.26,\n",
    "#     \"cornea_back_curvature\": 6.5,  # mm\n",
    "#     \"cornea_back_asphericity\": 0,\n",
    "#     \"iris_radius\": 0.5,  # mm\n",
    "#     \"lens_front_curvature\": 10.2,  # mm\n",
    "#     \"lens_front_asphericity\": -3.1316,\n",
    "#     \"lens_back_curvature\": -6.0,  # mm\n",
    "#     \"lens_back_asphericity\": -1,\n",
    "#     \"retina_curvature\": -12.0,  # mm\n",
    "#     \"retina_asphericity\": 0.0,\n",
    "# }\n",
    "\n",
    "geometry = {\n",
    "    \"axial_length\": 24.305,  # mm\n",
    "    \"cornea_thickness\": 0.5615,  # mm\n",
    "    \"anterior_chamber_depth\": 3.345,  # mm\n",
    "    \"lens_thickness\": 3.17,  # mm\n",
    "    \"cornea_front_curvature\": 7.6967,  # mm\n",
    "    \"cornea_front_asphericity\": -0.2304,\n",
    "    \"cornea_back_curvature\": 6.2343,  # mm\n",
    "    \"cornea_back_asphericity\": -0.1444,\n",
    "    \"iris_radius\": 0.5,  # mm\n",
    "    \"lens_front_curvature\": 10.2,  # mm\n",
    "    \"lens_front_asphericity\": -3.1316,\n",
    "    \"lens_back_curvature\": -5.4537,  # mm\n",
    "    \"lens_back_asphericity\": -4.1655,\n",
    "    \"retina_curvature\": -11.3357,  # mm\n",
    "    \"retina_asphericity\": -0.0631,\n",
    "}\n",
    "\n",
    "geometry[\"vitreous_thickness\"] = geometry[\"axial_length\"] - (\n",
    "    geometry[\"cornea_thickness\"] + geometry[\"anterior_chamber_depth\"] + geometry[\"lens_thickness\"]\n",
    ")\n",
    "geometry[\"retina_radius_z\"] = abs(geometry[\"retina_curvature\"] / (geometry[\"retina_asphericity\"] + 1))\n",
    "geometry[\"retina_radius_y\"] = abs(geometry[\"retina_curvature\"] / np.sqrt(geometry[\"retina_asphericity\"] + 1))\n",
    "\n",
    "# For the Lamberth projection, a spherical retina needs to be used\n",
    "# mean_retina_radius = np.mean([geometry[\"retina_radius_z\"], geometry[\"retina_radius_y\"]])\n",
    "# geometry[\"retina_curvature\"] = geometry[\"retina_radius_y\"] = geometry[\n",
    "#     \"retina_radius_z\"\n",
    "# ] = -mean_retina_radius\n",
    "# geometry[\"retina_asphericity\"] = 0.0\n",
    "\n",
    "refractive_indices = {  # at 543 nm (green light)\n",
    "    \"cornea\": 1.3777,\n",
    "    \"aqueous\": 1.3391,\n",
    "    \"lens\": 1.4222,\n",
    "    \"vitreous\": 1.3377,\n",
    "}\n",
    "\n",
    "with open(\"data/geometry.json\", \"w\") as f:\n",
    "    json.dump(geometry, f)"
   ]
  },
  {
   "cell_type": "markdown",
   "metadata": {},
   "source": [
    "### Initialize the optical system in OpticStudio\n",
    "\n",
    "For ray tracing, a wavelength of 543 nm (in the center of the visible spectrum) is used,\n",
    "with input beams angles from 0° to 85° in steps of 5°.\n",
    "\n",
    "Ray aiming (a feature of OpticStudio which shifts peripheral input beams so they pass through the center of the actual pupil) is turned off, as in ophthalmic imaging the entrance pupil is in the center of the image."
   ]
  },
  {
   "cell_type": "code",
   "execution_count": 6,
   "metadata": {
    "execution": {
     "iopub.execute_input": "2025-03-17T15:22:09.584032Z",
     "iopub.status.busy": "2025-03-17T15:22:09.584032Z",
     "iopub.status.idle": "2025-03-17T15:22:09.586713Z",
     "shell.execute_reply": "2025-03-17T15:22:09.586713Z"
    }
   },
   "outputs": [],
   "source": [
    "APERTURE = zp.constants.SystemData.ZemaxApertureType.FloatByStopSize\n",
    "WAVELENGTH = 0.543  # nm\n",
    "FIELDS = np.arange(0, 90, 5)  # degrees with respect to the optical axis"
   ]
  },
  {
   "cell_type": "code",
   "execution_count": 7,
   "metadata": {
    "execution": {
     "iopub.execute_input": "2025-03-17T15:22:09.587725Z",
     "iopub.status.busy": "2025-03-17T15:22:09.587725Z",
     "iopub.status.idle": "2025-03-17T15:22:09.704708Z",
     "shell.execute_reply": "2025-03-17T15:22:09.704708Z"
    }
   },
   "outputs": [],
   "source": [
    "oss.new()\n",
    "oss.make_sequential()\n",
    "\n",
    "oss.SystemData.Aperture.ApertureType = zp.constants.SystemData.ZemaxApertureType.FloatByStopSize\n",
    "oss.SystemData.Wavelengths.GetWavelength(1).Wavelength = WAVELENGTH\n",
    "oss.SystemData.RayAiming.RayAiming = zp.constants.SystemData.RayAimingMethod.Off\n",
    "\n",
    "# Add fields\n",
    "for i, f in enumerate(np.array(FIELDS).astype(float)):\n",
    "    if i == 0:\n",
    "        oss.SystemData.Fields.GetField(1).X = 0\n",
    "        oss.SystemData.Fields.GetField(1).Y = f\n",
    "        oss.SystemData.Fields.GetField(1).Weight = 1\n",
    "    else:\n",
    "        oss.SystemData.Fields.AddField(X=0, Y=f, Weight=1)"
   ]
  },
  {
   "cell_type": "markdown",
   "metadata": {},
   "source": [
    "### Create the eye model\n",
    "\n",
    "For each of the surfaces the curvature, asphericity, thickness and refractive index is set."
   ]
  },
  {
   "cell_type": "code",
   "execution_count": 8,
   "metadata": {
    "execution": {
     "iopub.execute_input": "2025-03-17T15:22:09.706689Z",
     "iopub.status.busy": "2025-03-17T15:22:09.706689Z",
     "iopub.status.idle": "2025-03-17T15:22:09.809344Z",
     "shell.execute_reply": "2025-03-17T15:22:09.809344Z"
    }
   },
   "outputs": [],
   "source": [
    "# Dummy surface, needed for calculation of input angles\n",
    "input_beam = oss.LDE.InsertNewSurfaceAt(1)\n",
    "input_beam.Comment = \"Input beam\"\n",
    "input_beam.Thickness = 1.0\n",
    "input_beam.DrawData.DoNotDrawThisSurface = True\n",
    "\n",
    "cornea_front = oss.LDE.InsertNewSurfaceAt(2)\n",
    "cornea_front.Comment = \"Cornea Front\"\n",
    "cornea_front.Thickness = geometry[\"cornea_thickness\"]\n",
    "cornea_front.Radius = geometry[\"cornea_front_curvature\"]\n",
    "cornea_front.Conic = geometry[\"cornea_front_asphericity\"]\n",
    "zp.solvers.material_model(cornea_front.MaterialCell, refractive_index=refractive_indices[\"cornea\"])\n",
    "\n",
    "cornea_back = oss.LDE.InsertNewSurfaceAt(3)\n",
    "cornea_back.Comment = \"Cornea Back / Aqueous\"\n",
    "cornea_back.Thickness = geometry[\"anterior_chamber_depth\"]\n",
    "cornea_back.Radius = geometry[\"cornea_back_curvature\"]\n",
    "cornea_back.Conic = geometry[\"cornea_back_asphericity\"]\n",
    "zp.solvers.material_model(cornea_back.MaterialCell, refractive_index=refractive_indices[\"aqueous\"])\n",
    "cornea_back.DrawData.DoNotDrawEdgesFromThisSurface = True\n",
    "\n",
    "pupil = oss.LDE.GetSurfaceAt(4)\n",
    "assert pupil.IsStop, \"Pupil must be the STOP surface.\"\n",
    "pupil.Comment = \"Pupil\"\n",
    "pupil.SemiDiameter = geometry[\"iris_radius\"]\n",
    "zp.solvers.material_model(pupil.MaterialCell, refractive_index=refractive_indices[\"aqueous\"])\n",
    "pupil.DrawData.DoNotDrawEdgesFromThisSurface = True\n",
    "\n",
    "lens_front = oss.LDE.InsertNewSurfaceAt(5)\n",
    "lens_front.Comment = \"Lens Front\"\n",
    "lens_front.Thickness = geometry[\"lens_thickness\"]\n",
    "lens_front.Radius = geometry[\"lens_front_curvature\"]\n",
    "lens_front.Conic = geometry[\"lens_front_asphericity\"]\n",
    "lens_front.SemiDiameter = 4.0  # Larger diameter for visualization purposes\n",
    "zp.solvers.material_model(lens_front.MaterialCell, refractive_index=refractive_indices[\"lens\"])\n",
    "\n",
    "lens_back = oss.LDE.InsertNewSurfaceAt(6)\n",
    "lens_back.Comment = \"Lens Back / Vitreous\"\n",
    "lens_back.Thickness = geometry[\"vitreous_thickness\"]\n",
    "lens_back.Radius = geometry[\"lens_back_curvature\"]\n",
    "lens_back.Conic = geometry[\"lens_back_asphericity\"]\n",
    "zp.solvers.material_model(lens_back.MaterialCell, refractive_index=refractive_indices[\"vitreous\"])\n",
    "lens_back.DrawData.DoNotDrawEdgesFromThisSurface = True\n",
    "\n",
    "retina = oss.LDE.GetSurfaceAt(7)\n",
    "assert retina.IsImage, \"Retina must be the IMAGE surface.\"\n",
    "retina.Comment = \"Retina\"\n",
    "retina.Radius = geometry[\"retina_curvature\"]\n",
    "retina.Conic = geometry[\"retina_asphericity\"]\n",
    "retina.Thickness = 0\n",
    "# Set the refractive index of the retina to the vitreous to prevent reflections\n",
    "zp.solvers.material_model(retina.MaterialCell, refractive_index=refractive_indices[\"vitreous\"])\n",
    "\n",
    "# Modify the settings for the visualization of the system\n",
    "for i in range(1, oss.LDE.NumberOfSurfaces + 1):\n",
    "    oss.LDE.GetSurfaceAt(i).DrawData.DrawEdgesAs = zp.constants.Editors.LDE.SurfaceEdgeDraw.Flat"
   ]
  },
  {
   "cell_type": "markdown",
   "metadata": {},
   "source": [
    "Display the eye model in OpticStudio."
   ]
  },
  {
   "cell_type": "code",
   "execution_count": 9,
   "metadata": {
    "execution": {
     "iopub.execute_input": "2025-03-17T15:22:09.811351Z",
     "iopub.status.busy": "2025-03-17T15:22:09.811351Z",
     "iopub.status.idle": "2025-03-17T15:22:11.076146Z",
     "shell.execute_reply": "2025-03-17T15:22:11.076146Z"
    }
   },
   "outputs": [],
   "source": [
    "_ = zp.analyses.systemviewers.Viewer3D().run(oss)"
   ]
  },
  {
   "attachments": {
    "image.png": {
     "image/png": "[encoded data removed]"
    }
   },
   "cell_type": "markdown",
   "metadata": {},
   "source": [
    "![image.png](attachment:image.png)"
   ]
  },
  {
   "cell_type": "markdown",
   "metadata": {},
   "source": [
    "## Perform ray tracing\n",
    "\n",
    "Rays are traced from the light source (the camera) to retina, for the different fields that have been configured in OpticStudio.\n",
    "\n",
    "The results are evaluated in terms of camera angles and retinal angles. For the latter three reference points are compared:\n",
    "the second nodal point, the retinal center and the pupil."
   ]
  },
  {
   "cell_type": "code",
   "execution_count": 10,
   "metadata": {
    "execution": {
     "iopub.execute_input": "2025-03-17T15:22:11.078159Z",
     "iopub.status.busy": "2025-03-17T15:22:11.078159Z",
     "iopub.status.idle": "2025-03-17T15:22:14.797805Z",
     "shell.execute_reply": "2025-03-17T15:22:14.797805Z"
    },
    "jupyter": {
     "is_executing": true
    }
   },
   "outputs": [],
   "source": [
    "ray_trace_results = {}\n",
    "input_output_angles = []\n",
    "\n",
    "# Nodal points are calculated in OpticStudio, but can also be calculated analytically\n",
    "np1, np2 = get_nodal_points(oss)\n",
    "\n",
    "for i in range(1, oss.SystemData.Fields.NumberOfFields + 1):\n",
    "    y_angle = oss.SystemData.Fields.GetField(i).Y\n",
    "    ray_trace_results[y_angle] = zp.analyses.raysandspots.SingleRayTrace(\n",
    "        px=0, py=0, field=i, global_coordinates=True\n",
    "    ).run(oss)\n",
    "    ray_trace_results[y_angle].data.real_ray_trace_data[\"InputAngle\"] = y_angle\n",
    "\n",
    "    input_output_angles.append(\n",
    "        InputOutputAngles.from_ray_trace_result(\n",
    "            ray_trace_results[y_angle],\n",
    "            y_angle,\n",
    "            np2=np2,\n",
    "            np2_navarro=np2,\n",
    "            retina_center=(\n",
    "                geometry[\"lens_thickness\"]\n",
    "                + geometry[\"vitreous_thickness\"]\n",
    "                - (abs(geometry[\"retina_curvature\"] / (geometry[\"retina_asphericity\"] + 1)))\n",
    "            ),\n",
    "            patient=\"Patient1\",\n",
    "        )\n",
    "    )\n",
    "\n",
    "real_ray_trace_results = pd.concat(r.data.real_ray_trace_data for r in ray_trace_results.values())\n",
    "input_output_angles = pd.DataFrame(input_output_angles)"
   ]
  },
  {
   "cell_type": "markdown",
   "metadata": {},
   "source": [
    "Add the retinal locations to the dataframe"
   ]
  },
  {
   "cell_type": "code",
   "execution_count": 11,
   "metadata": {
    "execution": {
     "iopub.execute_input": "2025-03-17T15:22:14.799811Z",
     "iopub.status.busy": "2025-03-17T15:22:14.799811Z",
     "iopub.status.idle": "2025-03-17T15:22:14.859280Z",
     "shell.execute_reply": "2025-03-17T15:22:14.859280Z"
    }
   },
   "outputs": [
    {
     "data": {
      "text/html": [
       "<div>\n",
       "<style scoped>\n",
       "    .dataframe tbody tr th:only-of-type {\n",
       "        vertical-align: middle;\n",
       "    }\n",
       "\n",
       "    .dataframe tbody tr th {\n",
       "        vertical-align: top;\n",
       "    }\n",
       "\n",
       "    .dataframe thead th {\n",
       "        text-align: right;\n",
       "    }\n",
       "</style>\n",
       "<table border=\"1\" class=\"dataframe\">\n",
       "  <thead>\n",
       "    <tr style=\"text-align: right;\">\n",
       "      <th></th>\n",
       "      <th>input_angle_field</th>\n",
       "      <th>input_angle_cornea</th>\n",
       "      <th>input_angle_pupil</th>\n",
       "      <th>output_angle_pupil</th>\n",
       "      <th>output_angle_np2</th>\n",
       "      <th>output_angle_retina_center</th>\n",
       "      <th>output_angle_navarro_np2</th>\n",
       "      <th>location_np2</th>\n",
       "      <th>location_retina_center</th>\n",
       "      <th>patient</th>\n",
       "      <th>retina_location</th>\n",
       "    </tr>\n",
       "  </thead>\n",
       "  <tbody>\n",
       "    <tr>\n",
       "      <th>0</th>\n",
       "      <td>0.0</td>\n",
       "      <td>0.0</td>\n",
       "      <td>0.000000</td>\n",
       "      <td>0.000000</td>\n",
       "      <td>0.000000</td>\n",
       "      <td>0.000000</td>\n",
       "      <td>0.000000</td>\n",
       "      <td>3.457872</td>\n",
       "      <td>8.299343</td>\n",
       "      <td>Patient1</td>\n",
       "      <td>(20.3985, 0.0)</td>\n",
       "    </tr>\n",
       "    <tr>\n",
       "      <th>1</th>\n",
       "      <td>10.0</td>\n",
       "      <td>10.0</td>\n",
       "      <td>8.559338</td>\n",
       "      <td>8.236620</td>\n",
       "      <td>9.924741</td>\n",
       "      <td>13.887107</td>\n",
       "      <td>9.924741</td>\n",
       "      <td>3.457872</td>\n",
       "      <td>8.299343</td>\n",
       "      <td>Patient1</td>\n",
       "      <td>(20.022129705, 2.8982969683)</td>\n",
       "    </tr>\n",
       "    <tr>\n",
       "      <th>2</th>\n",
       "      <td>20.0</td>\n",
       "      <td>20.0</td>\n",
       "      <td>17.125957</td>\n",
       "      <td>16.461583</td>\n",
       "      <td>19.876188</td>\n",
       "      <td>27.752562</td>\n",
       "      <td>19.876188</td>\n",
       "      <td>3.457872</td>\n",
       "      <td>8.299343</td>\n",
       "      <td>Patient1</td>\n",
       "      <td>(18.929358005, 5.5933282836)</td>\n",
       "    </tr>\n",
       "    <tr>\n",
       "      <th>3</th>\n",
       "      <td>30.0</td>\n",
       "      <td>30.0</td>\n",
       "      <td>25.710515</td>\n",
       "      <td>24.653892</td>\n",
       "      <td>29.866615</td>\n",
       "      <td>41.532014</td>\n",
       "      <td>29.866615</td>\n",
       "      <td>3.457872</td>\n",
       "      <td>8.299343</td>\n",
       "      <td>Patient1</td>\n",
       "      <td>(17.225415858, 7.9060177623)</td>\n",
       "    </tr>\n",
       "    <tr>\n",
       "      <th>4</th>\n",
       "      <td>40.0</td>\n",
       "      <td>40.0</td>\n",
       "      <td>34.330320</td>\n",
       "      <td>32.778578</td>\n",
       "      <td>39.883907</td>\n",
       "      <td>55.092636</td>\n",
       "      <td>39.883907</td>\n",
       "      <td>3.457872</td>\n",
       "      <td>8.299343</td>\n",
       "      <td>Patient1</td>\n",
       "      <td>(15.071429925, 9.7049004243)</td>\n",
       "    </tr>\n",
       "    <tr>\n",
       "      <th>5</th>\n",
       "      <td>50.0</td>\n",
       "      <td>50.0</td>\n",
       "      <td>43.012066</td>\n",
       "      <td>40.784670</td>\n",
       "      <td>49.883060</td>\n",
       "      <td>68.229900</td>\n",
       "      <td>49.883060</td>\n",
       "      <td>3.457872</td>\n",
       "      <td>8.299343</td>\n",
       "      <td>Patient1</td>\n",
       "      <td>(12.661808084, 10.923468966)</td>\n",
       "    </tr>\n",
       "    <tr>\n",
       "      <th>6</th>\n",
       "      <td>60.0</td>\n",
       "      <td>60.0</td>\n",
       "      <td>51.792984</td>\n",
       "      <td>48.602608</td>\n",
       "      <td>59.775819</td>\n",
       "      <td>80.686513</td>\n",
       "      <td>59.775819</td>\n",
       "      <td>3.457872</td>\n",
       "      <td>8.299343</td>\n",
       "      <td>Patient1</td>\n",
       "      <td>(10.196207912, 11.566389056)</td>\n",
       "    </tr>\n",
       "    <tr>\n",
       "      <th>7</th>\n",
       "      <td>70.0</td>\n",
       "      <td>70.0</td>\n",
       "      <td>60.718906</td>\n",
       "      <td>56.149161</td>\n",
       "      <td>69.430824</td>\n",
       "      <td>92.200759</td>\n",
       "      <td>69.430824</td>\n",
       "      <td>3.457872</td>\n",
       "      <td>8.299343</td>\n",
       "      <td>Patient1</td>\n",
       "      <td>(7.8495996064, 11.703115207)</td>\n",
       "    </tr>\n",
       "    <tr>\n",
       "      <th>8</th>\n",
       "      <td>80.0</td>\n",
       "      <td>80.0</td>\n",
       "      <td>69.838344</td>\n",
       "      <td>63.373162</td>\n",
       "      <td>78.731841</td>\n",
       "      <td>102.612037</td>\n",
       "      <td>78.731841</td>\n",
       "      <td>3.457872</td>\n",
       "      <td>8.299343</td>\n",
       "      <td>Patient1</td>\n",
       "      <td>(5.7383659648, 11.445857555)</td>\n",
       "    </tr>\n",
       "    <tr>\n",
       "      <th>9</th>\n",
       "      <td>5.0</td>\n",
       "      <td>5.0</td>\n",
       "      <td>4.279254</td>\n",
       "      <td>4.118911</td>\n",
       "      <td>4.960514</td>\n",
       "      <td>6.944355</td>\n",
       "      <td>4.960514</td>\n",
       "      <td>3.457872</td>\n",
       "      <td>8.299343</td>\n",
       "      <td>Patient1</td>\n",
       "      <td>(20.303833183, 1.4621330149)</td>\n",
       "    </tr>\n",
       "    <tr>\n",
       "      <th>10</th>\n",
       "      <td>15.0</td>\n",
       "      <td>15.0</td>\n",
       "      <td>12.841190</td>\n",
       "      <td>12.351573</td>\n",
       "      <td>14.895882</td>\n",
       "      <td>20.825151</td>\n",
       "      <td>14.895882</td>\n",
       "      <td>3.457872</td>\n",
       "      <td>8.299343</td>\n",
       "      <td>Patient1</td>\n",
       "      <td>(19.560230904, 4.2832673229)</td>\n",
       "    </tr>\n",
       "    <tr>\n",
       "      <th>11</th>\n",
       "      <td>25.0</td>\n",
       "      <td>25.0</td>\n",
       "      <td>21.415104</td>\n",
       "      <td>20.563653</td>\n",
       "      <td>24.866623</td>\n",
       "      <td>34.659589</td>\n",
       "      <td>24.866623</td>\n",
       "      <td>3.457872</td>\n",
       "      <td>8.299343</td>\n",
       "      <td>Patient1</td>\n",
       "      <td>(18.144798235, 6.8070476922)</td>\n",
       "    </tr>\n",
       "    <tr>\n",
       "      <th>12</th>\n",
       "      <td>35.0</td>\n",
       "      <td>35.0</td>\n",
       "      <td>30.014588</td>\n",
       "      <td>28.727470</td>\n",
       "      <td>34.873829</td>\n",
       "      <td>48.350894</td>\n",
       "      <td>34.873829</td>\n",
       "      <td>3.457872</td>\n",
       "      <td>8.299343</td>\n",
       "      <td>Patient1</td>\n",
       "      <td>(16.192992149, 8.8754977161)</td>\n",
       "    </tr>\n",
       "    <tr>\n",
       "      <th>13</th>\n",
       "      <td>45.0</td>\n",
       "      <td>45.0</td>\n",
       "      <td>38.661366</td>\n",
       "      <td>36.800334</td>\n",
       "      <td>44.890134</td>\n",
       "      <td>61.729413</td>\n",
       "      <td>44.890134</td>\n",
       "      <td>3.457872</td>\n",
       "      <td>8.299343</td>\n",
       "      <td>Patient1</td>\n",
       "      <td>(13.885875539, 10.388088262)</td>\n",
       "    </tr>\n",
       "    <tr>\n",
       "      <th>14</th>\n",
       "      <td>55.0</td>\n",
       "      <td>55.0</td>\n",
       "      <td>47.387416</td>\n",
       "      <td>44.722252</td>\n",
       "      <td>54.850162</td>\n",
       "      <td>74.560403</td>\n",
       "      <td>54.850162</td>\n",
       "      <td>3.457872</td>\n",
       "      <td>8.299343</td>\n",
       "      <td>Patient1</td>\n",
       "      <td>(11.424123782, 11.313897756)</td>\n",
       "    </tr>\n",
       "    <tr>\n",
       "      <th>15</th>\n",
       "      <td>65.0</td>\n",
       "      <td>65.0</td>\n",
       "      <td>56.234756</td>\n",
       "      <td>52.414799</td>\n",
       "      <td>64.642057</td>\n",
       "      <td>86.575621</td>\n",
       "      <td>64.642057</td>\n",
       "      <td>3.457872</td>\n",
       "      <td>8.299343</td>\n",
       "      <td>Patient1</td>\n",
       "      <td>(8.9989454527, 11.691614612)</td>\n",
       "    </tr>\n",
       "    <tr>\n",
       "      <th>16</th>\n",
       "      <td>75.0</td>\n",
       "      <td>75.0</td>\n",
       "      <td>65.251528</td>\n",
       "      <td>59.800635</td>\n",
       "      <td>74.128488</td>\n",
       "      <td>97.546003</td>\n",
       "      <td>74.128488</td>\n",
       "      <td>3.457872</td>\n",
       "      <td>8.299343</td>\n",
       "      <td>Patient1</td>\n",
       "      <td>(6.7605642505, 11.616108718)</td>\n",
       "    </tr>\n",
       "    <tr>\n",
       "      <th>17</th>\n",
       "      <td>85.0</td>\n",
       "      <td>85.0</td>\n",
       "      <td>74.484459</td>\n",
       "      <td>66.881087</td>\n",
       "      <td>83.250187</td>\n",
       "      <td>107.415926</td>\n",
       "      <td>83.250187</td>\n",
       "      <td>3.457872</td>\n",
       "      <td>8.299343</td>\n",
       "      <td>Patient1</td>\n",
       "      <td>(4.7841584997, 11.206051257)</td>\n",
       "    </tr>\n",
       "  </tbody>\n",
       "</table>\n",
       "</div>"
      ],
      "text/plain": [
       "    input_angle_field  input_angle_cornea  input_angle_pupil  \\\n",
       "0                 0.0                 0.0           0.000000   \n",
       "1                10.0                10.0           8.559338   \n",
       "2                20.0                20.0          17.125957   \n",
       "3                30.0                30.0          25.710515   \n",
       "4                40.0                40.0          34.330320   \n",
       "5                50.0                50.0          43.012066   \n",
       "6                60.0                60.0          51.792984   \n",
       "7                70.0                70.0          60.718906   \n",
       "8                80.0                80.0          69.838344   \n",
       "9                 5.0                 5.0           4.279254   \n",
       "10               15.0                15.0          12.841190   \n",
       "11               25.0                25.0          21.415104   \n",
       "12               35.0                35.0          30.014588   \n",
       "13               45.0                45.0          38.661366   \n",
       "14               55.0                55.0          47.387416   \n",
       "15               65.0                65.0          56.234756   \n",
       "16               75.0                75.0          65.251528   \n",
       "17               85.0                85.0          74.484459   \n",
       "\n",
       "    output_angle_pupil  output_angle_np2  output_angle_retina_center  \\\n",
       "0             0.000000          0.000000                    0.000000   \n",
       "1             8.236620          9.924741                   13.887107   \n",
       "2            16.461583         19.876188                   27.752562   \n",
       "3            24.653892         29.866615                   41.532014   \n",
       "4            32.778578         39.883907                   55.092636   \n",
       "5            40.784670         49.883060                   68.229900   \n",
       "6            48.602608         59.775819                   80.686513   \n",
       "7            56.149161         69.430824                   92.200759   \n",
       "8            63.373162         78.731841                  102.612037   \n",
       "9             4.118911          4.960514                    6.944355   \n",
       "10           12.351573         14.895882                   20.825151   \n",
       "11           20.563653         24.866623                   34.659589   \n",
       "12           28.727470         34.873829                   48.350894   \n",
       "13           36.800334         44.890134                   61.729413   \n",
       "14           44.722252         54.850162                   74.560403   \n",
       "15           52.414799         64.642057                   86.575621   \n",
       "16           59.800635         74.128488                   97.546003   \n",
       "17           66.881087         83.250187                  107.415926   \n",
       "\n",
       "    output_angle_navarro_np2  location_np2  location_retina_center   patient  \\\n",
       "0                   0.000000      3.457872                8.299343  Patient1   \n",
       "1                   9.924741      3.457872                8.299343  Patient1   \n",
       "2                  19.876188      3.457872                8.299343  Patient1   \n",
       "3                  29.866615      3.457872                8.299343  Patient1   \n",
       "4                  39.883907      3.457872                8.299343  Patient1   \n",
       "5                  49.883060      3.457872                8.299343  Patient1   \n",
       "6                  59.775819      3.457872                8.299343  Patient1   \n",
       "7                  69.430824      3.457872                8.299343  Patient1   \n",
       "8                  78.731841      3.457872                8.299343  Patient1   \n",
       "9                   4.960514      3.457872                8.299343  Patient1   \n",
       "10                 14.895882      3.457872                8.299343  Patient1   \n",
       "11                 24.866623      3.457872                8.299343  Patient1   \n",
       "12                 34.873829      3.457872                8.299343  Patient1   \n",
       "13                 44.890134      3.457872                8.299343  Patient1   \n",
       "14                 54.850162      3.457872                8.299343  Patient1   \n",
       "15                 64.642057      3.457872                8.299343  Patient1   \n",
       "16                 74.128488      3.457872                8.299343  Patient1   \n",
       "17                 83.250187      3.457872                8.299343  Patient1   \n",
       "\n",
       "                 retina_location  \n",
       "0                 (20.3985, 0.0)  \n",
       "1   (20.022129705, 2.8982969683)  \n",
       "2   (18.929358005, 5.5933282836)  \n",
       "3   (17.225415858, 7.9060177623)  \n",
       "4   (15.071429925, 9.7049004243)  \n",
       "5   (12.661808084, 10.923468966)  \n",
       "6   (10.196207912, 11.566389056)  \n",
       "7   (7.8495996064, 11.703115207)  \n",
       "8   (5.7383659648, 11.445857555)  \n",
       "9   (20.303833183, 1.4621330149)  \n",
       "10  (19.560230904, 4.2832673229)  \n",
       "11  (18.144798235, 6.8070476922)  \n",
       "12  (16.192992149, 8.8754977161)  \n",
       "13  (13.885875539, 10.388088262)  \n",
       "14  (11.424123782, 11.313897756)  \n",
       "15  (8.9989454527, 11.691614612)  \n",
       "16  (6.7605642505, 11.616108718)  \n",
       "17  (4.7841584997, 11.206051257)  "
      ]
     },
     "execution_count": 11,
     "metadata": {},
     "output_type": "execute_result"
    }
   ],
   "source": [
    "input_output_angles[\"retina_location\"] = input_output_angles.apply(\n",
    "    lambda r: get_retina_locations(r, real_ray_trace_results), axis=1\n",
    ")\n",
    "\n",
    "input_output_angles"
   ]
  },
  {
   "cell_type": "markdown",
   "metadata": {},
   "source": [
    "Save the output"
   ]
  },
  {
   "cell_type": "code",
   "execution_count": 12,
   "metadata": {
    "execution": {
     "iopub.execute_input": "2025-03-17T15:22:14.882288Z",
     "iopub.status.busy": "2025-03-17T15:22:14.882288Z",
     "iopub.status.idle": "2025-03-17T15:22:14.920913Z",
     "shell.execute_reply": "2025-03-17T15:22:14.920913Z"
    }
   },
   "outputs": [],
   "source": [
    "real_ray_trace_results.to_csv(\"data/ray_trace_results.csv\", index=False)\n",
    "input_output_angles.to_csv(\"data/input_output_angles.csv\", index=False)"
   ]
  },
  {
   "cell_type": "markdown",
   "metadata": {},
   "source": [
    "Plot the relations between input angles (camera angles) and output angles (retinal angles)"
   ]
  },
  {
   "cell_type": "code",
   "execution_count": 13,
   "metadata": {
    "execution": {
     "iopub.execute_input": "2025-03-17T15:22:14.922918Z",
     "iopub.status.busy": "2025-03-17T15:22:14.921917Z",
     "iopub.status.idle": "2025-03-17T15:22:15.177306Z",
     "shell.execute_reply": "2025-03-17T15:22:15.177306Z"
    }
   },
   "outputs": [
    {
     "data": {
      "image/png": "[encoded data removed]",
      "text/plain": [
       "<Figure size 640x480 with 1 Axes>"
      ]
     },
     "metadata": {},
     "output_type": "display_data"
    }
   ],
   "source": [
    "fig, ax = plt.subplots()\n",
    "\n",
    "sns.lineplot(\n",
    "    data=input_output_angles,\n",
    "    x=\"input_angle_field\",\n",
    "    y=\"output_angle_np2\",\n",
    "    label=\"$2^{\\\\mathrm{nd}}$ nodal point\",\n",
    ")\n",
    "sns.lineplot(\n",
    "    data=input_output_angles,\n",
    "    x=\"input_angle_field\",\n",
    "    y=\"output_angle_retina_center\",\n",
    "    label=\"Retina center\",\n",
    ")\n",
    "sns.lineplot(\n",
    "    data=input_output_angles,\n",
    "    x=\"input_angle_field\",\n",
    "    y=\"output_angle_pupil\",\n",
    "    label=\"Pupil\",\n",
    ")\n",
    "\n",
    "ax.set_xlabel(\"Camera angle [°]\")\n",
    "ax.set_ylabel(\"Retina angle [°]\")\n",
    "ax.set_aspect(\"equal\")\n",
    "ax.grid()"
   ]
  }
 ],
 "metadata": {
  "kernelspec": {
   "display_name": ".venv",
   "language": "python",
   "name": "python3"
  },
  "language_info": {
   "codemirror_mode": {
    "name": "ipython",
    "version": 3
   },
   "file_extension": ".py",
   "mimetype": "text/x-python",
   "name": "python",
   "nbconvert_exporter": "python",
   "pygments_lexer": "ipython3",
   "version": "3.12.1"
  }
 },
 "nbformat": 4,
 "nbformat_minor": 4
}
