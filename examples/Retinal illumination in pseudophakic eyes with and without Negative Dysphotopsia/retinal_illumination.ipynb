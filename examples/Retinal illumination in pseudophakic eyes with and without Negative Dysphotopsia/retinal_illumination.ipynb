{
 "cells": [
  {
   "cell_type": "markdown",
   "metadata": {},
   "source": [
    "# Retinal illumination in pseudophakic eyes with and without Negative Dysphotopsia\n",
    "\n",
    "Supplementary materials to the scientific publication:\n",
    "\n",
    "> van Vught L, Que I, Luyten GPM, Beenakker JWM. Effect of anatomical differences and intraocular lens design on Negative\n",
    "> Dysphotopsia. Journal of Cataract & Refractive Surgery: September 06, 2022. doi: 10.1097/j.jcrs.0000000000001054\n",
    "\n",
    "These supplementary materials consist of:\n",
    "\n",
    "- Eye models with specific anatomical characteristics for patients with Negative Dysphotopsia and for pseudophakic\n",
    "controls\n",
    "- A python script to automatically determine the retinal illumination in Zemax Optic Studio through the ZOSPy API\n",
    "\n",
    "When using these data/scripts, please cite the above mentioned paper.\n",
    "\n",
    "The presented code and data are made available for research purposes only, no rights can be derived from them.\n",
    "These methods has been tested using OpticStudio 2024R1, Python 3.11 and ZOSPy 1.2.1.\n",
    "\n",
    "Prior to running the script, make sure that the STL files supplied with this script are copied to the OpticStudio\n",
    "`Objects/CAD Files` folder.\n",
    "\n",
    "## Included functionalities\n",
    "\n",
    "* _Non-sequential mode_:\n",
    "  - Performing non-sequential ray traces.\n",
    "  - Reading out detector data from a `CAD Part:STL` surface.\n",
    "\n",
    "## Citation\n",
    "\n",
    "Next to [citing ZOSPy](/#referencing), please also cite the following paper when using this example or the data provided within this example:\n",
    "\n",
    "> Vught, L. van, Que, I., Luyten, G.P.M. & Beenakker, J.W.M. (2022).\n",
    "> Effect of anatomical differences and intraocular lens design on Negative Dysphotopsia.\n",
    "> Journal of Cataract & Refractive Surgery, 48(12), 1446-1452\n",
    "> https://doi.org/10.1097/j.jcrs.0000000000001054\n",
    "\n",
    "## Warranty and liability\n",
    "\n",
    "The presented code and data are made available for research purposes only. There is no warranty and rights can not be \n",
    "derived from them, as is also stated in the general license of this repository."
   ]
  },
  {
   "cell_type": "markdown",
   "metadata": {},
   "source": [
    "## Import dependencies"
   ]
  },
  {
   "cell_type": "code",
   "execution_count": 1,
   "metadata": {
    "execution": {
     "iopub.execute_input": "2025-02-19T14:29:20.984161Z",
     "iopub.status.busy": "2025-02-19T14:29:20.983187Z",
     "iopub.status.idle": "2025-02-19T14:29:22.443624Z",
     "shell.execute_reply": "2025-02-19T14:29:22.443109Z"
    }
   },
   "outputs": [],
   "source": [
    "import matplotlib.pyplot as plt\n",
    "import numpy as np\n",
    "from mpl_toolkits.mplot3d import Axes3D\n",
    "\n",
    "import zospy as zp"
   ]
  },
  {
   "cell_type": "code",
   "execution_count": 2,
   "metadata": {
    "execution": {
     "iopub.execute_input": "2025-02-19T14:29:22.445639Z",
     "iopub.status.busy": "2025-02-19T14:29:22.444648Z",
     "iopub.status.idle": "2025-02-19T14:29:22.448632Z",
     "shell.execute_reply": "2025-02-19T14:29:22.448632Z"
    }
   },
   "outputs": [],
   "source": [
    "def set_axes_equal_3d(ax):\n",
    "    \"\"\"Set equal axis scales for 3D plots.\n",
    "\n",
    "    Make axes of 3D plot have equal scale so that spheres appear as spheres,\n",
    "    cubes as cubes, etc.  This is one possible solution to Matplotlib's\n",
    "    ax.set_aspect('equal') and ax.axis('equal') not working for 3D.\n",
    "\n",
    "    Parameters\n",
    "    ----------\n",
    "    ax\n",
    "        A matplotlib axis, e.g., as output from `plt.gca()`.\n",
    "    \"\"\"\n",
    "    x_limits = ax.get_xlim3d()\n",
    "    y_limits = ax.get_ylim3d()\n",
    "    z_limits = ax.get_zlim3d()\n",
    "\n",
    "    x_range = abs(x_limits[1] - x_limits[0])\n",
    "    x_middle = np.mean(x_limits)\n",
    "    y_range = abs(y_limits[1] - y_limits[0])\n",
    "    y_middle = np.mean(y_limits)\n",
    "    z_range = abs(z_limits[1] - z_limits[0])\n",
    "    z_middle = np.mean(z_limits)\n",
    "\n",
    "    # The plot bounding box is a sphere in the sense of the infinity\n",
    "    # norm, hence I call half the max range the plot radius.\n",
    "    plot_radius = 0.5 * max([x_range, y_range, z_range])\n",
    "\n",
    "    ax.set_xlim3d([x_middle - plot_radius, x_middle + plot_radius])\n",
    "    ax.set_ylim3d([y_middle - plot_radius, y_middle + plot_radius])\n",
    "    ax.set_zlim3d([z_middle - plot_radius, z_middle + plot_radius])"
   ]
  },
  {
   "cell_type": "markdown",
   "metadata": {},
   "source": [
    "Connect to OpticStudio. Make sure that Zemax OpticStudio in `Interactive Extension` mode (Programming > Interactive Extension)."
   ]
  },
  {
   "cell_type": "code",
   "execution_count": 3,
   "metadata": {
    "execution": {
     "iopub.execute_input": "2025-02-19T14:29:22.449650Z",
     "iopub.status.busy": "2025-02-19T14:29:22.449650Z",
     "iopub.status.idle": "2025-02-19T14:29:27.897083Z",
     "shell.execute_reply": "2025-02-19T14:29:27.897083Z"
    }
   },
   "outputs": [],
   "source": [
    "zos = zp.ZOS()\n",
    "oss = zos.connect(\"extension\")"
   ]
  },
  {
   "cell_type": "markdown",
   "metadata": {},
   "source": [
    "Set some variables for the simulations"
   ]
  },
  {
   "cell_type": "code",
   "execution_count": 4,
   "metadata": {
    "execution": {
     "iopub.execute_input": "2025-02-19T14:29:27.899062Z",
     "iopub.status.busy": "2025-02-19T14:29:27.899062Z",
     "iopub.status.idle": "2025-02-19T14:29:27.901327Z",
     "shell.execute_reply": "2025-02-19T14:29:27.901327Z"
    }
   },
   "outputs": [],
   "source": [
    "pachy = 0.55\n",
    "cornea_iris_distance = 3.12\n",
    "object_distance = 30  # distance object -> pupil center"
   ]
  },
  {
   "cell_type": "markdown",
   "metadata": {},
   "source": [
    "Load the models in OpticStudio and run analyses"
   ]
  },
  {
   "cell_type": "code",
   "execution_count": 5,
   "metadata": {
    "execution": {
     "iopub.execute_input": "2025-02-19T14:29:27.902316Z",
     "iopub.status.busy": "2025-02-19T14:29:27.902316Z",
     "iopub.status.idle": "2025-02-19T14:39:33.285387Z",
     "shell.execute_reply": "2025-02-19T14:39:33.285387Z"
    }
   },
   "outputs": [],
   "source": [
    "results = {}\n",
    "\n",
    "for model in [\"NegativeDysphotopsia\", \"PseudophakicControl\"]:\n",
    "    oss.load(model + \"Model.zmx\")\n",
    "\n",
    "    # Get pointers to source and retina objects\n",
    "    obj_source = oss.NCE.GetObjectAt(2)\n",
    "    obj_retina = oss.NCE.GetObjectAt(14)\n",
    "\n",
    "    # Set number of rays\n",
    "    obj_source.GetCellAt(12).Value = str(1e5)\n",
    "\n",
    "    first = True  # use this to get position of detectors on first analysis only\n",
    "    results[model] = {\"Irradiance\": {}, \"AbsorbedIrradiance\": {}, \"Flux\": {}, \"AbsorbedFlux\": {}}\n",
    "\n",
    "    for angle in range(0, 165, 5):\n",
    "        xnew = np.sin(np.deg2rad(angle)) * object_distance\n",
    "        znew = np.cos(np.deg2rad(angle)) * object_distance\n",
    "        obj_source.XPosition = xnew\n",
    "        obj_source.ZPosition = -(znew - pachy - cornea_iris_distance)\n",
    "        obj_source.TiltAboutY = -angle\n",
    "\n",
    "        # Trace\n",
    "        RayTrace = oss.Tools.OpenNSCRayTrace()\n",
    "        RayTrace.NumberOfCores = 8\n",
    "        RayTrace.ClearDetectors(0)  # clear the old detector data!\n",
    "        RayTrace.ScatterNSCRays = True\n",
    "        RayTrace.UsePolarization = False\n",
    "        RayTrace.SplitNSCRays = False\n",
    "        RayTrace.IgnoreErrors = True\n",
    "        RayTrace.RunAndWaitForCompletion()\n",
    "        RayTrace.Close()\n",
    "\n",
    "        # Get data\n",
    "        fd = obj_retina.GetFacetedObjectData()\n",
    "\n",
    "        centroids = []\n",
    "        irradiance = []\n",
    "        absorbed_irradiance = []\n",
    "        flux = []\n",
    "        absorbed_flux = []\n",
    "\n",
    "        for face_number in range(fd.NumberOfFaces):\n",
    "            fd.CurrentFace = face_number\n",
    "\n",
    "            if first:\n",
    "                vertices = np.array(\n",
    "                    [list(fd.GetVertex(vertex_number)[1:]) for vertex_number in range(fd.NumberOfVertices)]\n",
    "                )\n",
    "                centroids.append(vertices.mean(axis=0))\n",
    "\n",
    "            irradiance.append(fd.Irradiance)\n",
    "            absorbed_irradiance.append(fd.AbsorbedIrradiance)\n",
    "            flux.append(fd.Flux)\n",
    "            absorbed_flux.append(fd.AbsorbedFlux)\n",
    "\n",
    "        if first:\n",
    "            results[model][\"Centroids\"] = np.array(centroids)\n",
    "            first = False  # Make sure centroids are only read in once\n",
    "\n",
    "        results[model][\"Irradiance\"][angle] = np.array(irradiance)\n",
    "        results[model][\"AbsorbedIrradiance\"][angle] = np.array(absorbed_irradiance)\n",
    "        results[model][\"Flux\"][angle] = np.array(flux)\n",
    "        results[model][\"AbsorbedFlux\"][angle] = np.array(absorbed_flux)"
   ]
  },
  {
   "cell_type": "markdown",
   "metadata": {},
   "source": [
    "Visualize the results"
   ]
  },
  {
   "cell_type": "code",
   "execution_count": 6,
   "metadata": {
    "execution": {
     "iopub.execute_input": "2025-02-19T14:39:33.287408Z",
     "iopub.status.busy": "2025-02-19T14:39:33.287408Z",
     "iopub.status.idle": "2025-02-19T14:39:33.665039Z",
     "shell.execute_reply": "2025-02-19T14:39:33.665039Z"
    }
   },
   "outputs": [
    {
     "data": {
      "text/plain": [
       "Text(0.5, 0, 'y')"
      ]
     },
     "execution_count": 6,
     "metadata": {},
     "output_type": "execute_result"
    },
    {
     "data": {
      "image/png": "[encoded data removed]",
      "text/plain": [
       "<Figure size 640x480 with 2 Axes>"
      ]
     },
     "metadata": {},
     "output_type": "display_data"
    }
   ],
   "source": [
    "# Show results\n",
    "cumulative_irradiance_nd = np.array(\n",
    "    [results[\"NegativeDysphotopsia\"][\"Irradiance\"][key] for key in results[\"NegativeDysphotopsia\"][\"Irradiance\"]]\n",
    ").sum(axis=0)\n",
    "\n",
    "cumulative_irradiance_co = np.array(\n",
    "    [results[\"PseudophakicControl\"][\"Irradiance\"][key] for key in results[\"PseudophakicControl\"][\"Irradiance\"]]\n",
    ").sum(axis=0)\n",
    "\n",
    "fig = plt.figure()\n",
    "ax1 = fig.add_subplot(121, projection=Axes3D.name)\n",
    "ax2 = fig.add_subplot(122, projection=Axes3D.name)\n",
    "\n",
    "vmax = np.max([cumulative_irradiance_nd.max(), cumulative_irradiance_co.max()])\n",
    "filter_nd = cumulative_irradiance_nd != 0\n",
    "ax1.scatter(\n",
    "    *results[\"NegativeDysphotopsia\"][\"Centroids\"][filter_nd].T[np.array([0, 2, 1])],\n",
    "    c=cumulative_irradiance_nd[filter_nd],\n",
    "    cmap=\"Greys_r\",\n",
    "    vmin=0,\n",
    "    vmax=vmax,\n",
    "    s=1,\n",
    ")\n",
    "\n",
    "filter_co = cumulative_irradiance_co != 0\n",
    "ax2.scatter(\n",
    "    *results[\"PseudophakicControl\"][\"Centroids\"][filter_co].T[np.array([0, 2, 1])],\n",
    "    c=cumulative_irradiance_co[filter_co],\n",
    "    cmap=\"Greys_r\",\n",
    "    vmin=0,\n",
    "    vmax=vmax,\n",
    "    s=1,\n",
    ")\n",
    "\n",
    "ax1.set_title(\"ND\")\n",
    "ax2.set_title(\"Control\")\n",
    "\n",
    "set_axes_equal_3d(ax1)\n",
    "set_axes_equal_3d(ax2)\n",
    "\n",
    "ax1.set_xlabel(\"x\")\n",
    "ax1.set_ylabel(\"z\")\n",
    "ax1.set_zlabel(\"y\")\n",
    "\n",
    "ax2.set_xlabel(\"x\")\n",
    "ax2.set_ylabel(\"z\")\n",
    "ax2.set_zlabel(\"y\")"
   ]
  }
 ],
 "metadata": {
  "kernelspec": {
   "display_name": "zospy",
   "language": "python",
   "name": "python3"
  },
  "language_info": {
   "codemirror_mode": {
    "name": "ipython",
    "version": 3
   },
   "file_extension": ".py",
   "mimetype": "text/x-python",
   "name": "python",
   "nbconvert_exporter": "python",
   "pygments_lexer": "ipython3",
   "version": "3.12.1"
  }
 },
 "nbformat": 4,
 "nbformat_minor": 2
}
