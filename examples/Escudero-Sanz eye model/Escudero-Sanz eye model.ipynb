{
 "cells": [
  {
   "cell_type": "markdown",
   "id": "5bec32a3",
   "metadata": {},
   "source": [
    "# Creating the Escudero-Sanz eye model with ZOSPy\n",
    "\n",
    "This example shows how to create and analyze a wide-angle eye model described in the paper _[Off-axis aberrations of a wide-angle schematic eye model](https://doi.org/10.1364/JOSAA.16.001881)_ by I. Escudero-Sanz and R. Navarro.\n",
    "\n",
    "## Included functionalities\n",
    "\n",
    "* _Sequential mode_:\n",
    "  - Usage of `zospy.solvers.material_model()` to model the refractive index of the elements of the eye.\n",
    "  - Usage of `zospy.analyses.viewers.viewer_3d` and `zospy.analyses.viewers.shaded_model()` to open viewers.\n",
    "  - Usage of `zospy.analyses.psf.huygens_psf()` to perform a Huygens PSF analysis.\n",
    "\n",
    "## Citation\n",
    "\n",
    "Next to [citing ZOSPy](/#referencing), please also cite the following paper when using the data provided in this example:\n",
    "\n",
    "> Escudero-Sanz, I. & Navarro, R. (1999).\n",
    "> Off-axis aberrations of a wide-angle schematic eye model.\n",
    "> Journal of the Optical Society of America A, 16(8), 1881-1891. \n",
    "> https://doi.org/10.1364/JOSAA.16.001881\n",
    "\n",
    "## Warranty and liability\n",
    "\n",
    "The examples are provided 'as is'. There is no warranty and rights cannot be derived from them, as is also stated in the general license of this repository."
   ]
  },
  {
   "cell_type": "markdown",
   "id": "7d4ef4fa",
   "metadata": {},
   "source": [
    "## Import dependencies"
   ]
  },
  {
   "cell_type": "code",
   "execution_count": 7,
   "id": "44ca847c",
   "metadata": {
    "ExecuteTime": {
     "end_time": "2024-01-09T08:40:00.126599800Z",
     "start_time": "2024-01-09T08:40:00.119438900Z"
    },
    "execution": {
     "iopub.execute_input": "2023-05-08T12:37:05.763004Z",
     "iopub.status.busy": "2023-05-08T12:37:05.762037Z",
     "iopub.status.idle": "2023-05-08T12:37:06.540795Z",
     "shell.execute_reply": "2023-05-08T12:37:06.540795Z"
    }
   },
   "outputs": [],
   "source": [
    "import matplotlib.pyplot as plt\n",
    "import pandas as pd\n",
    "\n",
    "import zospy as zp\n",
    "from zospy import solvers\n",
    "from zospy.analyses import OnComplete"
   ]
  },
  {
   "cell_type": "markdown",
   "id": "b292f92c",
   "metadata": {},
   "source": [
    "## Define eye model"
   ]
  },
  {
   "cell_type": "code",
   "execution_count": 8,
   "id": "42735faa",
   "metadata": {
    "ExecuteTime": {
     "end_time": "2024-01-09T08:40:01.102215Z",
     "start_time": "2024-01-09T08:40:01.094022900Z"
    },
    "execution": {
     "iopub.execute_input": "2023-05-08T12:37:06.542819Z",
     "iopub.status.busy": "2023-05-08T12:37:06.542819Z",
     "iopub.status.idle": "2023-05-08T12:37:06.545165Z",
     "shell.execute_reply": "2023-05-08T12:37:06.545165Z"
    }
   },
   "outputs": [],
   "source": [
    "wavelength = 543.0  # nm"
   ]
  },
  {
   "cell_type": "markdown",
   "id": "bfbe94a71d6ae7a6",
   "metadata": {
    "collapsed": false
   },
   "source": [
    "Define the refractive index of the optical elements of the eye"
   ]
  },
  {
   "cell_type": "code",
   "execution_count": 9,
   "id": "e9250b81",
   "metadata": {
    "ExecuteTime": {
     "end_time": "2024-01-09T08:40:02.181981200Z",
     "start_time": "2024-01-09T08:40:02.175023Z"
    },
    "execution": {
     "iopub.execute_input": "2023-05-08T12:37:06.547181Z",
     "iopub.status.busy": "2023-05-08T12:37:06.546180Z",
     "iopub.status.idle": "2023-05-08T12:37:06.549484Z",
     "shell.execute_reply": "2023-05-08T12:37:06.549484Z"
    }
   },
   "outputs": [],
   "source": [
    "refinds = pd.DataFrame(\n",
    "    columns=[458, 543, 589.3, 632.8],\n",
    "    index=[\"Cornea\", \"Aqueous\", \"Lens\", \"Vitreous\"],\n",
    "    data=[\n",
    "        [1.3828, 1.3777, 1.376, 1.3747],\n",
    "        [1.3445, 1.3391, 1.3374, 1.336],\n",
    "        [1.4292, 1.4222, 1.42, 1.4183],\n",
    "        [1.3428, 1.3377, 1.336, 1.3347],\n",
    "    ],\n",
    ")"
   ]
  },
  {
   "cell_type": "markdown",
   "id": "24a526f0bb0a8bac",
   "metadata": {
    "collapsed": false
   },
   "source": [
    "Define the eye model geometry"
   ]
  },
  {
   "cell_type": "code",
   "execution_count": 10,
   "id": "3cee74c5",
   "metadata": {
    "ExecuteTime": {
     "end_time": "2024-01-09T08:40:03.169663400Z",
     "start_time": "2024-01-09T08:40:03.166086200Z"
    },
    "execution": {
     "iopub.execute_input": "2023-05-08T12:37:06.550489Z",
     "iopub.status.busy": "2023-05-08T12:37:06.550489Z",
     "iopub.status.idle": "2023-05-08T12:37:06.553380Z",
     "shell.execute_reply": "2023-05-08T12:37:06.553380Z"
    }
   },
   "outputs": [],
   "source": [
    "# Cornea front\n",
    "cf_radius = 7.72  # mm\n",
    "cf_conic = -0.26\n",
    "cf_thickness = 0.55  # mm\n",
    "\n",
    "# Cornea back\n",
    "cb_radius = 6.50  # mm\n",
    "cb_conic = 0\n",
    "cb_thickness = 3.05  # mm\n",
    "\n",
    "# Pupil\n",
    "pupil_semidiameter = 1.5  # mm\n",
    "\n",
    "# Lens front\n",
    "lf_radius = 10.20  # mm\n",
    "lf_conic = -3.1316\n",
    "lf_thickness = 4.00  # mm\n",
    "\n",
    "# Lens back\n",
    "lb_radius = -6.00  # mm\n",
    "lb_conic = -1.0\n",
    "lb_thickness = 16.3202  # mm\n",
    "\n",
    "# Retina\n",
    "ret_radius = -12.00  # mm\n",
    "ret_conic = 0"
   ]
  },
  {
   "cell_type": "markdown",
   "id": "b09c33ed",
   "metadata": {},
   "source": [
    "## Connect to OpticStudio"
   ]
  },
  {
   "cell_type": "code",
   "execution_count": 12,
   "id": "f9db3c6a",
   "metadata": {
    "ExecuteTime": {
     "end_time": "2024-01-09T08:40:16.856063900Z",
     "start_time": "2024-01-09T08:40:16.798297600Z"
    },
    "execution": {
     "iopub.execute_input": "2023-05-08T12:37:06.554395Z",
     "iopub.status.busy": "2023-05-08T12:37:06.554395Z",
     "iopub.status.idle": "2023-05-08T12:37:07.476376Z",
     "shell.execute_reply": "2023-05-08T12:37:07.476376Z"
    }
   },
   "outputs": [],
   "source": [
    "zos = zp.ZOS()\n",
    "oss = zos.connect(mode=\"extension\")"
   ]
  },
  {
   "cell_type": "markdown",
   "id": "21d6fce5",
   "metadata": {},
   "source": [
    "## Create model"
   ]
  },
  {
   "cell_type": "markdown",
   "id": "732bb65f",
   "metadata": {},
   "source": [
    "Open a new optical system and put it in sequential mode"
   ]
  },
  {
   "cell_type": "code",
   "execution_count": 13,
   "id": "e39f9b07",
   "metadata": {
    "ExecuteTime": {
     "end_time": "2024-01-09T08:40:24.192695500Z",
     "start_time": "2024-01-09T08:40:23.872510300Z"
    },
    "execution": {
     "iopub.execute_input": "2023-05-08T12:37:07.604012Z",
     "iopub.status.busy": "2023-05-08T12:37:07.603011Z",
     "iopub.status.idle": "2023-05-08T12:37:07.891419Z",
     "shell.execute_reply": "2023-05-08T12:37:07.891419Z"
    },
    "tags": [
     "hide-output"
    ]
   },
   "outputs": [
    {
     "data": {
      "text/plain": [
       "True"
      ]
     },
     "execution_count": 13,
     "metadata": {},
     "output_type": "execute_result"
    }
   ],
   "source": [
    "oss.new()\n",
    "oss.make_sequential()"
   ]
  },
  {
   "cell_type": "code",
   "execution_count": 14,
   "id": "ca60b8af",
   "metadata": {
    "ExecuteTime": {
     "end_time": "2024-01-09T08:40:25.180665100Z",
     "start_time": "2024-01-09T08:40:25.020218300Z"
    },
    "execution": {
     "iopub.execute_input": "2023-05-08T12:37:07.893417Z",
     "iopub.status.busy": "2023-05-08T12:37:07.893417Z",
     "iopub.status.idle": "2023-05-08T12:37:08.258704Z",
     "shell.execute_reply": "2023-05-08T12:37:08.258704Z"
    }
   },
   "outputs": [],
   "source": [
    "# set wavelength\n",
    "wl_1 = oss.SystemData.Wavelengths.GetWavelength(1)\n",
    "wl_1.Wavelength = wavelength / 1000  # convert to nanometer\n",
    "\n",
    "# Set aperture type\n",
    "oss.SystemData.Aperture.ApertureType = zp.constants.SystemData.ZemaxApertureType.FloatByStopSize"
   ]
  },
  {
   "cell_type": "code",
   "execution_count": 15,
   "id": "25ed834a",
   "metadata": {
    "ExecuteTime": {
     "end_time": "2024-01-09T08:40:28.191747300Z",
     "start_time": "2024-01-09T08:40:25.186659900Z"
    },
    "execution": {
     "iopub.execute_input": "2023-05-08T12:37:08.260719Z",
     "iopub.status.busy": "2023-05-08T12:37:08.260719Z",
     "iopub.status.idle": "2023-05-08T12:37:10.270200Z",
     "shell.execute_reply": "2023-05-08T12:37:10.270200Z"
    },
    "tags": [
     "hide-output"
    ]
   },
   "outputs": [
    {
     "data": {
      "text/plain": [
       "<ZOSAPI.Editors.ISolveMaterialModel object at 0x0000026F2A5E12C0>"
      ]
     },
     "execution_count": 15,
     "metadata": {},
     "output_type": "execute_result"
    }
   ],
   "source": [
    "# input beam (to visualize the input beam in the system viewer)\n",
    "input_beam = oss.LDE.InsertNewSurfaceAt(1)\n",
    "input_beam.Comment = \"InputBeam\"\n",
    "input_beam.Thickness = 10  # mm\n",
    "\n",
    "# cornea front\n",
    "cornea_front = oss.LDE.InsertNewSurfaceAt(2)\n",
    "cornea_front.Comment = \"Cornea Front\"\n",
    "cornea_front.Radius = cf_radius\n",
    "cornea_front.Conic = cf_conic\n",
    "cornea_front.SemiDiameter = 6  # mm\n",
    "cornea_front.MechanicalSemiDiameter = 6  # mm\n",
    "cornea_front.Thickness = cf_thickness\n",
    "solvers.material_model(cornea_front.MaterialCell, refinds.loc[\"Cornea\", wavelength], 0, 0)\n",
    "\n",
    "# cornea back\n",
    "cornea_back = oss.LDE.InsertNewSurfaceAt(3)\n",
    "cornea_back.Comment = \"Cornea Back\"\n",
    "cornea_back.Radius = cb_radius\n",
    "cornea_back.Conic = cb_conic\n",
    "cornea_back.SemiDiameter = 5  # mm\n",
    "cornea_back.MechanicalSemiDiameter = 6  # mm\n",
    "cornea_back.Thickness = cb_thickness\n",
    "solvers.material_model(cornea_back.MaterialCell, refinds.loc[\"Aqueous\", wavelength], 0, 0)\n",
    "\n",
    "# iris/pupil\n",
    "iris = oss.LDE.GetSurfaceAt(4)\n",
    "iris.Comment = \"Iris\"\n",
    "iris.SemiDiameter = pupil_semidiameter\n",
    "iris.MechanicalSemiDiameter = 6  # mm\n",
    "solvers.material_model(iris.MaterialCell, refinds.loc[\"Aqueous\", wavelength], 0, 0)\n",
    "\n",
    "# Lens front\n",
    "lens_front = oss.LDE.InsertNewSurfaceAt(5)\n",
    "lens_front.Comment = \"Lens Front\"\n",
    "lens_front.Radius = lf_radius\n",
    "lens_front.Conic = lf_conic\n",
    "lens_front.SemiDiameter = 4.5  # mm\n",
    "lens_front.MechanicalSemiDiameter = 4.5  # mm\n",
    "lens_front.Thickness = lf_thickness\n",
    "solvers.material_model(lens_front.MaterialCell, refinds.loc[\"Lens\", wavelength], 0, 0)\n",
    "\n",
    "# Lens back\n",
    "lens_back = oss.LDE.InsertNewSurfaceAt(6)\n",
    "lens_back.Comment = \"Lens Back\"\n",
    "lens_back.Radius = lb_radius\n",
    "lens_back.Conic = lb_conic\n",
    "lens_back.SemiDiameter = 4.5  # mm\n",
    "lens_back.MechanicalSemiDiameter = 4.5  # mm\n",
    "lens_back.Thickness = lb_thickness\n",
    "solvers.material_model(lens_back.MaterialCell, refinds.loc[\"Vitreous\", wavelength], 0, 0)\n",
    "\n",
    "# Retina\n",
    "retina = oss.LDE.GetSurfaceAt(7)\n",
    "retina.Comment = \"Retina\"\n",
    "retina.Radius = ret_radius\n",
    "retina.Conic = ret_conic\n",
    "retina.SemiDiameter = 12  # mm\n",
    "solvers.material_model(retina.MaterialCell, refinds.loc[\"Vitreous\", wavelength], 0, 0)"
   ]
  },
  {
   "cell_type": "markdown",
   "id": "75aafdca",
   "metadata": {},
   "source": [
    "## Plot the eye model using OpticStudio's 3D layout function "
   ]
  },
  {
   "cell_type": "code",
   "execution_count": 16,
   "id": "7de0f211",
   "metadata": {
    "ExecuteTime": {
     "end_time": "2024-01-09T08:40:29.527562900Z",
     "start_time": "2024-01-09T08:40:29.252933300Z"
    },
    "execution": {
     "iopub.execute_input": "2023-05-08T12:37:10.272218Z",
     "iopub.status.busy": "2023-05-08T12:37:10.271224Z",
     "iopub.status.idle": "2023-05-08T12:37:10.455888Z",
     "shell.execute_reply": "2023-05-08T12:37:10.455888Z"
    }
   },
   "outputs": [],
   "source": [
    "# Define plot settings\n",
    "cornea_front.DrawData.DoNotDrawEdgesFromThisSurface = False\n",
    "cornea_back.DrawData.DoNotDrawEdgesFromThisSurface = True\n",
    "iris.DrawData.DoNotDrawEdgesFromThisSurface = True\n",
    "lens_front.DrawData.DoNotDrawEdgesFromThisSurface = False\n",
    "lens_back.DrawData.DoNotDrawEdgesFromThisSurface = True"
   ]
  },
  {
   "cell_type": "code",
   "execution_count": 17,
   "id": "f05d94e5",
   "metadata": {
    "ExecuteTime": {
     "end_time": "2024-01-09T08:40:31.756763900Z",
     "start_time": "2024-01-09T08:40:30.119869700Z"
    },
    "execution": {
     "iopub.execute_input": "2023-05-08T12:37:10.457905Z",
     "iopub.status.busy": "2023-05-08T12:37:10.457905Z",
     "iopub.status.idle": "2023-05-08T12:37:11.738180Z",
     "shell.execute_reply": "2023-05-08T12:37:11.738180Z"
    }
   },
   "outputs": [],
   "source": [
    "draw3d = zp.analyses.systemviewers.viewer_3d(oss, oncomplete=OnComplete.Sustain)\n",
    "shaded = zp.analyses.systemviewers.shaded_model(oss, oncomplete=OnComplete.Release)"
   ]
  },
  {
   "cell_type": "markdown",
   "id": "4cad66b5dbc22a36",
   "metadata": {
    "collapsed": false
   },
   "source": [
    "![3D layout of central vision](3d_layout_central_vision.png)"
   ]
  },
  {
   "cell_type": "markdown",
   "id": "ab1041b9",
   "metadata": {},
   "source": [
    "## Compute and plot the Huygens Point Spread Function of the eye model"
   ]
  },
  {
   "cell_type": "code",
   "execution_count": 18,
   "id": "9efcb2ec",
   "metadata": {
    "ExecuteTime": {
     "end_time": "2024-01-09T08:40:36.277339200Z",
     "start_time": "2024-01-09T08:40:34.163948500Z"
    },
    "execution": {
     "iopub.execute_input": "2023-05-08T12:37:11.740200Z",
     "iopub.status.busy": "2023-05-08T12:37:11.740200Z",
     "iopub.status.idle": "2023-05-08T12:37:14.242926Z",
     "shell.execute_reply": "2023-05-08T12:37:14.242926Z"
    }
   },
   "outputs": [],
   "source": [
    "psf = zp.analyses.psf.huygens_psf(oss, \"256x256\", \"256x256\", normalize=False, oncomplete=OnComplete.Sustain)"
   ]
  },
  {
   "cell_type": "code",
   "execution_count": 19,
   "id": "f63a5f13",
   "metadata": {
    "ExecuteTime": {
     "end_time": "2024-01-09T08:40:36.743953600Z",
     "start_time": "2024-01-09T08:40:36.279340700Z"
    },
    "execution": {
     "iopub.execute_input": "2023-05-08T12:37:14.244951Z",
     "iopub.status.busy": "2023-05-08T12:37:14.244951Z",
     "iopub.status.idle": "2023-05-08T12:37:14.364838Z",
     "shell.execute_reply": "2023-05-08T12:37:14.364838Z"
    }
   },
   "outputs": [
    {
     "data": {
      "text/plain": [
       "<matplotlib.colorbar.Colorbar at 0x26f2a681290>"
      ]
     },
     "execution_count": 19,
     "metadata": {},
     "output_type": "execute_result"
    },
    {
     "data": {
      "image/png": "[encoded data removed]",
      "text/plain": [
       "<Figure size 640x480 with 2 Axes>"
      ]
     },
     "metadata": {},
     "output_type": "display_data"
    }
   ],
   "source": [
    "fig = plt.figure()\n",
    "ax = fig.add_subplot(111)\n",
    "im = ax.imshow(psf.Data, cmap=\"plasma\")\n",
    "plt.colorbar(im)"
   ]
  },
  {
   "cell_type": "markdown",
   "id": "04b555d3",
   "metadata": {},
   "source": [
    "## Redo these calculations for light at a different eccentricity"
   ]
  },
  {
   "cell_type": "code",
   "execution_count": 20,
   "id": "3fc71323",
   "metadata": {
    "ExecuteTime": {
     "end_time": "2024-01-09T08:40:38.934421700Z",
     "start_time": "2024-01-09T08:40:38.809137900Z"
    },
    "execution": {
     "iopub.execute_input": "2023-05-08T12:37:14.366862Z",
     "iopub.status.busy": "2023-05-08T12:37:14.365855Z",
     "iopub.status.idle": "2023-05-08T12:37:14.371228Z",
     "shell.execute_reply": "2023-05-08T12:37:14.371228Z"
    }
   },
   "outputs": [],
   "source": [
    "field1 = oss.SystemData.Fields.GetField(1)\n",
    "field1.Y = 15  # degrees"
   ]
  },
  {
   "cell_type": "code",
   "execution_count": 21,
   "id": "0a80a2cb",
   "metadata": {
    "ExecuteTime": {
     "end_time": "2024-01-09T08:40:39.507724400Z",
     "start_time": "2024-01-09T08:40:39.424427500Z"
    },
    "execution": {
     "iopub.execute_input": "2023-05-08T12:37:14.372251Z",
     "iopub.status.busy": "2023-05-08T12:37:14.372251Z",
     "iopub.status.idle": "2023-05-08T12:37:14.414203Z",
     "shell.execute_reply": "2023-05-08T12:37:14.414203Z"
    },
    "tags": [
     "hide-output"
    ]
   },
   "outputs": [],
   "source": [
    "# Visualize the new beam settings\n",
    "draw3d.Analysis.Apply()"
   ]
  },
  {
   "cell_type": "markdown",
   "id": "6ad68f887d1c60d",
   "metadata": {
    "collapsed": false
   },
   "source": [
    "![3D layout with an input beam at 15°](3d_layout_15_degrees.png)"
   ]
  },
  {
   "cell_type": "markdown",
   "id": "47b15eed",
   "metadata": {},
   "source": [
    "Recalculate the Huygens point spread function"
   ]
  },
  {
   "cell_type": "code",
   "execution_count": 22,
   "id": "37726415",
   "metadata": {
    "ExecuteTime": {
     "end_time": "2024-01-09T08:40:44.732387900Z",
     "start_time": "2024-01-09T08:40:42.511414900Z"
    },
    "execution": {
     "iopub.execute_input": "2023-05-08T12:37:14.432600Z",
     "iopub.status.busy": "2023-05-08T12:37:14.432600Z",
     "iopub.status.idle": "2023-05-08T12:37:16.762456Z",
     "shell.execute_reply": "2023-05-08T12:37:16.762456Z"
    }
   },
   "outputs": [],
   "source": [
    "psf = zp.analyses.psf.huygens_psf(oss, \"256x256\", \"256x256\", normalize=False, oncomplete=OnComplete.Sustain)"
   ]
  },
  {
   "cell_type": "code",
   "execution_count": 23,
   "id": "ca84a5fb",
   "metadata": {
    "ExecuteTime": {
     "end_time": "2024-01-09T08:40:45.337553Z",
     "start_time": "2024-01-09T08:40:45.214921800Z"
    },
    "execution": {
     "iopub.execute_input": "2023-05-08T12:37:16.764483Z",
     "iopub.status.busy": "2023-05-08T12:37:16.764483Z",
     "iopub.status.idle": "2023-05-08T12:37:16.884336Z",
     "shell.execute_reply": "2023-05-08T12:37:16.884336Z"
    }
   },
   "outputs": [
    {
     "data": {
      "text/plain": [
       "<matplotlib.colorbar.Colorbar at 0x26f2a652610>"
      ]
     },
     "execution_count": 23,
     "metadata": {},
     "output_type": "execute_result"
    },
    {
     "data": {
      "image/png": "[encoded data removed]",
      "text/plain": [
       "<Figure size 640x480 with 2 Axes>"
      ]
     },
     "metadata": {},
     "output_type": "display_data"
    }
   ],
   "source": [
    "fig = plt.figure()\n",
    "ax = fig.add_subplot(111)\n",
    "im = ax.imshow(psf.Data, cmap=\"plasma\")\n",
    "plt.colorbar(im)"
   ]
  }
 ],
 "metadata": {
  "kernelspec": {
   "display_name": "Python 3 (ipykernel)",
   "language": "python",
   "name": "python3"
  },
  "language_info": {
   "codemirror_mode": {
    "name": "ipython",
    "version": 3
   },
   "file_extension": ".py",
   "mimetype": "text/x-python",
   "name": "python",
   "nbconvert_exporter": "python",
   "pygments_lexer": "ipython3",
   "version": "3.11.5"
  },
  "vscode": {
   "interpreter": {
    "hash": "bc95f9f6e3f80ec604caaf58b42a3c040903ac94c574b5e976e4c257400c504a"
   }
  }
 },
 "nbformat": 4,
 "nbformat_minor": 5
}
