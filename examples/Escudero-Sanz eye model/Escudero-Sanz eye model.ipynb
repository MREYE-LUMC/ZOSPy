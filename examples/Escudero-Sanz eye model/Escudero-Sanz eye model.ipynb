{
 "cells": [
  {
   "attachments": {},
   "cell_type": "markdown",
   "id": "5bec32a3",
   "metadata": {},
   "source": [
    "# Creating the Escudero-Sanz eye model through ZOSPY\n",
    "This example demonstrates how to create and analyze a virtual version of the [eye model described by I. Escudero-Sanz and R. Navarro](https://doi.org/10.1364/JOSAA.16.001881) through ZOSPy."
   ]
  },
  {
   "cell_type": "code",
   "execution_count": 1,
   "id": "44ca847c",
   "metadata": {
    "execution": {
     "iopub.execute_input": "2023-05-08T12:37:05.763004Z",
     "iopub.status.busy": "2023-05-08T12:37:05.762037Z",
     "iopub.status.idle": "2023-05-08T12:37:06.540795Z",
     "shell.execute_reply": "2023-05-08T12:37:06.540795Z"
    }
   },
   "outputs": [],
   "source": [
    "import zospy as zp\n",
    "import pandas as pd\n",
    "import matplotlib.pyplot as plt\n",
    "\n",
    "from zospy import solvers\n",
    "from zospy.analyses import OnComplete"
   ]
  },
  {
   "attachments": {},
   "cell_type": "markdown",
   "id": "b292f92c",
   "metadata": {},
   "source": [
    "## Define constants"
   ]
  },
  {
   "cell_type": "code",
   "execution_count": 2,
   "id": "42735faa",
   "metadata": {
    "execution": {
     "iopub.execute_input": "2023-05-08T12:37:06.542819Z",
     "iopub.status.busy": "2023-05-08T12:37:06.542819Z",
     "iopub.status.idle": "2023-05-08T12:37:06.545165Z",
     "shell.execute_reply": "2023-05-08T12:37:06.545165Z"
    }
   },
   "outputs": [],
   "source": [
    "wavelength = 543.0"
   ]
  },
  {
   "cell_type": "code",
   "execution_count": 3,
   "id": "e9250b81",
   "metadata": {
    "execution": {
     "iopub.execute_input": "2023-05-08T12:37:06.547181Z",
     "iopub.status.busy": "2023-05-08T12:37:06.546180Z",
     "iopub.status.idle": "2023-05-08T12:37:06.549484Z",
     "shell.execute_reply": "2023-05-08T12:37:06.549484Z"
    }
   },
   "outputs": [],
   "source": [
    "refinds = pd.DataFrame(\n",
    "    columns=[458, 543, 589.3, 632.8],\n",
    "    index=[\"Cornea\", \"Aqueous\", \"Lens\", \"Vitreous\"],\n",
    "    data=[\n",
    "        [1.3828, 1.3777, 1.376, 1.3747],\n",
    "        [1.3445, 1.3391, 1.3374, 1.336],\n",
    "        [1.4292, 1.4222, 1.42, 1.4183],\n",
    "        [1.3428, 1.3377, 1.336, 1.3347],\n",
    "    ],\n",
    ")"
   ]
  },
  {
   "cell_type": "code",
   "execution_count": 4,
   "id": "3cee74c5",
   "metadata": {
    "execution": {
     "iopub.execute_input": "2023-05-08T12:37:06.550489Z",
     "iopub.status.busy": "2023-05-08T12:37:06.550489Z",
     "iopub.status.idle": "2023-05-08T12:37:06.553380Z",
     "shell.execute_reply": "2023-05-08T12:37:06.553380Z"
    }
   },
   "outputs": [],
   "source": [
    "# Cornea front\n",
    "cf_radius = 7.72\n",
    "cf_conic = -0.26\n",
    "cf_thickness = 0.55\n",
    "\n",
    "# Cornea back\n",
    "cb_radius = 6.50\n",
    "cb_conic = 0\n",
    "cb_thickness = 3.05\n",
    "\n",
    "# Pupil\n",
    "pupil_radius = 1.5\n",
    "\n",
    "# Lens front\n",
    "lf_radius = 10.20\n",
    "lf_conic = -3.1316\n",
    "lf_thickness = 4.00\n",
    "\n",
    "# Lens back\n",
    "lb_radius = -6.00\n",
    "lb_conic = -1.0\n",
    "lb_thickness = 16.3202\n",
    "\n",
    "# Retina\n",
    "ret_radius = -12.00\n",
    "ret_conic = 0"
   ]
  },
  {
   "attachments": {},
   "cell_type": "markdown",
   "id": "b09c33ed",
   "metadata": {},
   "source": [
    "## Connect to ZOS"
   ]
  },
  {
   "cell_type": "code",
   "execution_count": 5,
   "id": "f9db3c6a",
   "metadata": {
    "execution": {
     "iopub.execute_input": "2023-05-08T12:37:06.554395Z",
     "iopub.status.busy": "2023-05-08T12:37:06.554395Z",
     "iopub.status.idle": "2023-05-08T12:37:07.476376Z",
     "shell.execute_reply": "2023-05-08T12:37:07.476376Z"
    }
   },
   "outputs": [],
   "source": [
    "zos = zp.ZOS()\n",
    "zos.wakeup()"
   ]
  },
  {
   "cell_type": "code",
   "execution_count": 6,
   "id": "3a1d1c97",
   "metadata": {
    "execution": {
     "iopub.execute_input": "2023-05-08T12:37:07.478400Z",
     "iopub.status.busy": "2023-05-08T12:37:07.478400Z",
     "iopub.status.idle": "2023-05-08T12:37:07.597189Z",
     "shell.execute_reply": "2023-05-08T12:37:07.597189Z"
    }
   },
   "outputs": [
    {
     "data": {
      "text/plain": [
       "True"
      ]
     },
     "execution_count": 6,
     "metadata": {},
     "output_type": "execute_result"
    }
   ],
   "source": [
    "zos.connect_as_extension()"
   ]
  },
  {
   "cell_type": "code",
   "execution_count": 7,
   "id": "54f49da5",
   "metadata": {
    "execution": {
     "iopub.execute_input": "2023-05-08T12:37:07.599204Z",
     "iopub.status.busy": "2023-05-08T12:37:07.599204Z",
     "iopub.status.idle": "2023-05-08T12:37:07.601993Z",
     "shell.execute_reply": "2023-05-08T12:37:07.601993Z"
    }
   },
   "outputs": [],
   "source": [
    "oss = zos.get_primary_system()"
   ]
  },
  {
   "attachments": {},
   "cell_type": "markdown",
   "id": "21d6fce5",
   "metadata": {},
   "source": [
    "## Create model"
   ]
  },
  {
   "cell_type": "code",
   "execution_count": 8,
   "id": "e39f9b07",
   "metadata": {
    "execution": {
     "iopub.execute_input": "2023-05-08T12:37:07.604012Z",
     "iopub.status.busy": "2023-05-08T12:37:07.603011Z",
     "iopub.status.idle": "2023-05-08T12:37:07.891419Z",
     "shell.execute_reply": "2023-05-08T12:37:07.891419Z"
    }
   },
   "outputs": [
    {
     "data": {
      "text/plain": [
       "True"
      ]
     },
     "execution_count": 8,
     "metadata": {},
     "output_type": "execute_result"
    }
   ],
   "source": [
    "oss.new()\n",
    "oss.make_sequential()"
   ]
  },
  {
   "cell_type": "code",
   "execution_count": 9,
   "id": "ca60b8af",
   "metadata": {
    "execution": {
     "iopub.execute_input": "2023-05-08T12:37:07.893417Z",
     "iopub.status.busy": "2023-05-08T12:37:07.893417Z",
     "iopub.status.idle": "2023-05-08T12:37:08.258704Z",
     "shell.execute_reply": "2023-05-08T12:37:08.258704Z"
    }
   },
   "outputs": [],
   "source": [
    "# set wavelength\n",
    "wl_1 = oss.SystemData.Wavelengths.GetWavelength(1)\n",
    "wl_1.Wavelength = wavelength / 1000  # convert to nanometer\n",
    "\n",
    "# Set aperture type\n",
    "oss.SystemData.Aperture.ApertureType = zp.constants.SystemData.ZemaxApertureType.FloatByStopSize"
   ]
  },
  {
   "cell_type": "code",
   "execution_count": 10,
   "id": "25ed834a",
   "metadata": {
    "execution": {
     "iopub.execute_input": "2023-05-08T12:37:08.260719Z",
     "iopub.status.busy": "2023-05-08T12:37:08.260719Z",
     "iopub.status.idle": "2023-05-08T12:37:10.270200Z",
     "shell.execute_reply": "2023-05-08T12:37:10.270200Z"
    }
   },
   "outputs": [
    {
     "data": {
      "text/plain": [
       "<ZOSAPI.Editors.ISolveMaterialModel object at 0x000001CD997AF2C0>"
      ]
     },
     "execution_count": 10,
     "metadata": {},
     "output_type": "execute_result"
    }
   ],
   "source": [
    "n_surf = 0\n",
    "\n",
    "# object\n",
    "r_obj = oss.LDE.GetSurfaceAt(0)\n",
    "r_obj.Comment = \"Object\"\n",
    "n_surf += 1\n",
    "\n",
    "# inputbeam (for esthetic reasons)\n",
    "r_ipbeam = oss.LDE.InsertNewSurfaceAt(n_surf)\n",
    "r_ipbeam.Comment = \"InputBeam\"\n",
    "r_ipbeam.Thickness = 10\n",
    "n_surf += 1\n",
    "\n",
    "# cornea front\n",
    "cf_surf = oss.LDE.InsertNewSurfaceAt(n_surf)\n",
    "cf_surf.Comment = \"Cornea Front\"\n",
    "# Following statement not needed but given as example\n",
    "zp.functions.lde.surface_change_type(cf_surf, zp.constants.Editors.LDE.SurfaceType.Standard)\n",
    "\n",
    "cf_surf.Radius = cf_radius\n",
    "cf_surf.Conic = cf_conic\n",
    "cf_surf.SemiDiameter = 6\n",
    "cf_surf.MechanicalSemiDiameter = 6\n",
    "cf_surf.Thickness = cf_thickness\n",
    "solvers.material_model(cf_surf.MaterialCell, refinds.loc[\"Cornea\", wavelength], 0, 0)\n",
    "n_surf += 1\n",
    "\n",
    "# cornea back\n",
    "cb_surf = oss.LDE.InsertNewSurfaceAt(n_surf)\n",
    "cb_surf.Comment = \"Cornea Back\"\n",
    "cb_surf.Radius = cb_radius\n",
    "cb_surf.Conic = cb_conic\n",
    "cb_surf.SemiDiameter = 5\n",
    "cb_surf.MechanicalSemiDiameter = 6\n",
    "cb_surf.Thickness = cb_thickness\n",
    "solvers.material_model(cb_surf.MaterialCell, refinds.loc[\"Aqueous\", wavelength], 0, 0)\n",
    "n_surf += 1\n",
    "\n",
    "# iris/pupil\n",
    "iris_surf = oss.LDE.GetSurfaceAt(n_surf)\n",
    "iris_surf.Comment = \"Iris\"\n",
    "iris_surf.SemiDiameter = pupil_radius\n",
    "iris_surf.MechanicalSemiDiameter = 6\n",
    "solvers.material_model(iris_surf.MaterialCell, refinds.loc[\"Aqueous\", wavelength], 0, 0)\n",
    "n_surf += 1\n",
    "\n",
    "# Lens front\n",
    "lf_surf = oss.LDE.InsertNewSurfaceAt(n_surf)\n",
    "lf_surf.Comment = \"Lens Front\"\n",
    "lf_surf.Radius = lf_radius\n",
    "lf_surf.Conic = lf_conic\n",
    "lf_surf.SemiDiameter = 4.5\n",
    "lf_surf.MechanicalSemiDiameter = 4.5\n",
    "lf_surf.Thickness = lf_thickness\n",
    "solvers.material_model(lf_surf.MaterialCell, refinds.loc[\"Lens\", wavelength], 0, 0)\n",
    "n_surf += 1\n",
    "\n",
    "# Lens back\n",
    "lb_surf = oss.LDE.InsertNewSurfaceAt(n_surf)\n",
    "lb_surf.Comment = \"Lens Back\"\n",
    "lb_surf.Radius = lb_radius\n",
    "lb_surf.Conic = lb_conic\n",
    "lb_surf.SemiDiameter = 4.5\n",
    "lb_surf.MechanicalSemiDiameter = 4.5\n",
    "lb_surf.Thickness = lb_thickness\n",
    "solvers.material_model(lb_surf.MaterialCell, refinds.loc[\"Vitreous\", wavelength], 0, 0)\n",
    "n_surf += 1\n",
    "\n",
    "# Retina\n",
    "ret_surf = oss.LDE.GetSurfaceAt(n_surf)\n",
    "ret_surf.Comment = \"Retina\"\n",
    "ret_surf.Radius = ret_radius\n",
    "ret_surf.Conic = ret_conic\n",
    "ret_surf.SemiDiameter = 12\n",
    "solvers.material_model(ret_surf.MaterialCell, refinds.loc[\"Vitreous\", wavelength], 0, 0)"
   ]
  },
  {
   "attachments": {},
   "cell_type": "markdown",
   "id": "75aafdca",
   "metadata": {},
   "source": [
    "## Draw"
   ]
  },
  {
   "cell_type": "code",
   "execution_count": 11,
   "id": "7de0f211",
   "metadata": {
    "execution": {
     "iopub.execute_input": "2023-05-08T12:37:10.272218Z",
     "iopub.status.busy": "2023-05-08T12:37:10.271224Z",
     "iopub.status.idle": "2023-05-08T12:37:10.455888Z",
     "shell.execute_reply": "2023-05-08T12:37:10.455888Z"
    }
   },
   "outputs": [],
   "source": [
    "cf_surf.DrawData.DoNotDrawEdgesFromThisSurface = False\n",
    "cb_surf.DrawData.DoNotDrawEdgesFromThisSurface = True\n",
    "iris_surf.DrawData.DoNotDrawEdgesFromThisSurface = True\n",
    "lf_surf.DrawData.DoNotDrawEdgesFromThisSurface = False\n",
    "lb_surf.DrawData.DoNotDrawEdgesFromThisSurface = True"
   ]
  },
  {
   "cell_type": "code",
   "execution_count": 12,
   "id": "f05d94e5",
   "metadata": {
    "execution": {
     "iopub.execute_input": "2023-05-08T12:37:10.457905Z",
     "iopub.status.busy": "2023-05-08T12:37:10.457905Z",
     "iopub.status.idle": "2023-05-08T12:37:11.738180Z",
     "shell.execute_reply": "2023-05-08T12:37:11.738180Z"
    }
   },
   "outputs": [],
   "source": [
    "draw3d = zp.analyses.new_analysis(oss, zp.constants.Analysis.AnalysisIDM.Draw3D, settings_first=False)\n",
    "shaded = zp.analyses.new_analysis(oss, zp.constants.Analysis.AnalysisIDM.ShadedModel, settings_first=False)"
   ]
  },
  {
   "attachments": {},
   "cell_type": "markdown",
   "id": "ab1041b9",
   "metadata": {},
   "source": [
    "## Analyze"
   ]
  },
  {
   "cell_type": "code",
   "execution_count": 13,
   "id": "9efcb2ec",
   "metadata": {
    "execution": {
     "iopub.execute_input": "2023-05-08T12:37:11.740200Z",
     "iopub.status.busy": "2023-05-08T12:37:11.740200Z",
     "iopub.status.idle": "2023-05-08T12:37:14.242926Z",
     "shell.execute_reply": "2023-05-08T12:37:14.242926Z"
    }
   },
   "outputs": [],
   "source": [
    "psf = zp.analyses.psf.huygens_psf(oss, \"256x256\", \"256x256\", normalize=True, oncomplete=OnComplete.Sustain)"
   ]
  },
  {
   "cell_type": "code",
   "execution_count": 14,
   "id": "f63a5f13",
   "metadata": {
    "execution": {
     "iopub.execute_input": "2023-05-08T12:37:14.244951Z",
     "iopub.status.busy": "2023-05-08T12:37:14.244951Z",
     "iopub.status.idle": "2023-05-08T12:37:14.364838Z",
     "shell.execute_reply": "2023-05-08T12:37:14.364838Z"
    }
   },
   "outputs": [
    {
     "data": {
      "text/plain": [
       "<matplotlib.colorbar.Colorbar at 0x1cd997d44d0>"
      ]
     },
     "execution_count": 14,
     "metadata": {},
     "output_type": "execute_result"
    },
    {
     "data": {
      "image/png": "[encoded data removed]",
      "text/plain": [
       "<Figure size 640x480 with 2 Axes>"
      ]
     },
     "metadata": {},
     "output_type": "display_data"
    }
   ],
   "source": [
    "fig = plt.figure()\n",
    "ax = fig.add_subplot(111)\n",
    "im = ax.imshow(psf.Data, cmap=\"plasma\")\n",
    "plt.colorbar(im)"
   ]
  },
  {
   "attachments": {},
   "cell_type": "markdown",
   "id": "04b555d3",
   "metadata": {},
   "source": [
    "## Modify input field"
   ]
  },
  {
   "cell_type": "code",
   "execution_count": 15,
   "id": "3fc71323",
   "metadata": {
    "execution": {
     "iopub.execute_input": "2023-05-08T12:37:14.366862Z",
     "iopub.status.busy": "2023-05-08T12:37:14.365855Z",
     "iopub.status.idle": "2023-05-08T12:37:14.371228Z",
     "shell.execute_reply": "2023-05-08T12:37:14.371228Z"
    }
   },
   "outputs": [],
   "source": [
    "field1 = oss.SystemData.Fields.GetField(1)"
   ]
  },
  {
   "cell_type": "code",
   "execution_count": 16,
   "id": "0a80a2cb",
   "metadata": {
    "execution": {
     "iopub.execute_input": "2023-05-08T12:37:14.372251Z",
     "iopub.status.busy": "2023-05-08T12:37:14.372251Z",
     "iopub.status.idle": "2023-05-08T12:37:14.414203Z",
     "shell.execute_reply": "2023-05-08T12:37:14.414203Z"
    }
   },
   "outputs": [],
   "source": [
    "field1.Y = 15"
   ]
  },
  {
   "attachments": {},
   "cell_type": "markdown",
   "id": "47b15eed",
   "metadata": {},
   "source": [
    "## Redo analyses"
   ]
  },
  {
   "cell_type": "code",
   "execution_count": 17,
   "id": "4099f89f",
   "metadata": {
    "execution": {
     "iopub.execute_input": "2023-05-08T12:37:14.416229Z",
     "iopub.status.busy": "2023-05-08T12:37:14.416229Z",
     "iopub.status.idle": "2023-05-08T12:37:14.430593Z",
     "shell.execute_reply": "2023-05-08T12:37:14.430593Z"
    }
   },
   "outputs": [],
   "source": [
    "draw3d.Apply()"
   ]
  },
  {
   "cell_type": "code",
   "execution_count": 18,
   "id": "37726415",
   "metadata": {
    "execution": {
     "iopub.execute_input": "2023-05-08T12:37:14.432600Z",
     "iopub.status.busy": "2023-05-08T12:37:14.432600Z",
     "iopub.status.idle": "2023-05-08T12:37:16.762456Z",
     "shell.execute_reply": "2023-05-08T12:37:16.762456Z"
    }
   },
   "outputs": [],
   "source": [
    "psf = zp.analyses.psf.huygens_psf(oss, \"256x256\", \"256x256\", normalize=True, oncomplete=OnComplete.Sustain)"
   ]
  },
  {
   "cell_type": "code",
   "execution_count": 19,
   "id": "ca84a5fb",
   "metadata": {
    "execution": {
     "iopub.execute_input": "2023-05-08T12:37:16.764483Z",
     "iopub.status.busy": "2023-05-08T12:37:16.764483Z",
     "iopub.status.idle": "2023-05-08T12:37:16.884336Z",
     "shell.execute_reply": "2023-05-08T12:37:16.884336Z"
    }
   },
   "outputs": [
    {
     "data": {
      "text/plain": [
       "<matplotlib.colorbar.Colorbar at 0x1cd99a220d0>"
      ]
     },
     "execution_count": 19,
     "metadata": {},
     "output_type": "execute_result"
    },
    {
     "data": {
      "image/png": "[encoded data removed]",
      "text/plain": [
       "<Figure size 640x480 with 2 Axes>"
      ]
     },
     "metadata": {},
     "output_type": "display_data"
    }
   ],
   "source": [
    "fig = plt.figure()\n",
    "ax = fig.add_subplot(111)\n",
    "im = ax.imshow(psf.Data, cmap=\"plasma\")\n",
    "plt.colorbar(im)"
   ]
  }
 ],
 "metadata": {
  "kernelspec": {
   "display_name": "Python 3 (ipykernel)",
   "language": "python",
   "name": "python3"
  },
  "language_info": {
   "codemirror_mode": {
    "name": "ipython",
    "version": 3
   },
   "file_extension": ".py",
   "mimetype": "text/x-python",
   "name": "python",
   "nbconvert_exporter": "python",
   "pygments_lexer": "ipython3",
   "version": "3.11.2"
  }
 },
 "nbformat": 4,
 "nbformat_minor": 5
}
