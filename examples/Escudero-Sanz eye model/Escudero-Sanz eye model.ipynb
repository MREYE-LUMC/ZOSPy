{
 "cells": [
  {
   "cell_type": "markdown",
   "id": "5bec32a3",
   "metadata": {},
   "source": [
    "# Creating the Escudero-Sanz eye model through ZOSPY\n",
    "This example demonstrates how to create and analyze a virtual version of the [eye model described by I. Escudero-Sanz and R. Navarro](https://doi.org/10.1364/JOSAA.16.001881) through ZOSPy."
   ]
  },
  {
   "cell_type": "code",
   "execution_count": 1,
   "id": "44ca847c",
   "metadata": {},
   "outputs": [],
   "source": [
    "import zospy as zp\n",
    "import pandas as pd\n",
    "import matplotlib.pyplot as plt"
   ]
  },
  {
   "cell_type": "markdown",
   "id": "b292f92c",
   "metadata": {},
   "source": [
    "## Define constants"
   ]
  },
  {
   "cell_type": "code",
   "execution_count": 2,
   "id": "42735faa",
   "metadata": {},
   "outputs": [],
   "source": [
    "wavelength = 543.0"
   ]
  },
  {
   "cell_type": "code",
   "execution_count": 3,
   "id": "e9250b81",
   "metadata": {},
   "outputs": [],
   "source": [
    "refinds = pd.DataFrame(columns=[458, 543, 589.3, 632.8],\n",
    "                       index=['Cornea', 'Aqueous', 'Lens', 'Vitreous'],\n",
    "                       data = [[1.3828, 1.3777, 1.376, 1.3747],\n",
    "                               [1.3445, 1.3391, 1.3374, 1.336],\n",
    "                               [1.4292, 1.4222, 1.42, 1.4183],\n",
    "                               [1.3428, 1.3377, 1.336, 1.3347]])"
   ]
  },
  {
   "cell_type": "code",
   "execution_count": 4,
   "id": "3cee74c5",
   "metadata": {},
   "outputs": [],
   "source": [
    "# Cornea front\n",
    "cf_radius = 7.72\n",
    "cf_conic = -0.26\n",
    "cf_thickness = 0.55\n",
    "\n",
    "# Cornea back\n",
    "cb_radius = 6.50\n",
    "cb_conic = 0\n",
    "cb_thickness = 3.05\n",
    "\n",
    "# Pupil\n",
    "pupil_radius = 1.5\n",
    "\n",
    "# Lens front\n",
    "lf_radius = 10.20\n",
    "lf_conic = -3.1316\n",
    "lf_thickness = 4.00\n",
    "\n",
    "# Lens back\n",
    "lb_radius = -6.00\n",
    "lb_conic = -1.0\n",
    "lb_thickness = 16.3202\n",
    "\n",
    "# Retina\n",
    "ret_radius = -12.00\n",
    "ret_conic = 0\n"
   ]
  },
  {
   "cell_type": "markdown",
   "id": "b09c33ed",
   "metadata": {},
   "source": [
    "## Connect to ZOS"
   ]
  },
  {
   "cell_type": "code",
   "execution_count": 5,
   "id": "f9db3c6a",
   "metadata": {},
   "outputs": [],
   "source": [
    "zos = zp.ZOS()\n",
    "zos.wakeup()"
   ]
  },
  {
   "cell_type": "code",
   "execution_count": 6,
   "id": "3a1d1c97",
   "metadata": {},
   "outputs": [
    {
     "data": {
      "text/plain": [
       "True"
      ]
     },
     "execution_count": 6,
     "metadata": {},
     "output_type": "execute_result"
    }
   ],
   "source": [
    "zos.connect_as_extension()"
   ]
  },
  {
   "cell_type": "code",
   "execution_count": 7,
   "id": "54f49da5",
   "metadata": {},
   "outputs": [],
   "source": [
    "oss = zos.get_primary_system()"
   ]
  },
  {
   "cell_type": "markdown",
   "id": "21d6fce5",
   "metadata": {},
   "source": [
    "## Create model"
   ]
  },
  {
   "cell_type": "code",
   "execution_count": 8,
   "id": "73b7ac45",
   "metadata": {},
   "outputs": [],
   "source": [
    "# Define quick helper function --> yet to be implemented in ZOSPy\n",
    "def set_materialmodel(surf, index_nd, abbe_vd, dpgf):\n",
    "    \"\"\"Sets the material type of a specific LDE surface to model\n",
    "\n",
    "    Parameters\n",
    "    ----------\n",
    "    surf:\n",
    "        A zemax LDE surface row or NCE object row that requires the modification.\n",
    "    index_nd: float\n",
    "        The new index of refraction\n",
    "    abbe_vd: float\n",
    "        The new abbe number\n",
    "    dpgf: float\n",
    "        The new partial dispersion term at d-light\n",
    "    Returns\n",
    "    -------\n",
    "    None\n",
    "    \"\"\"\n",
    "\n",
    "    matsolver = surf.MaterialCell.CreateSolveType(zp.constants.Editors.SolveType.MaterialModel)\n",
    "    matsolver.IndexNd = index_nd\n",
    "    matsolver.AbbeVd = abbe_vd\n",
    "    matsolver.dPgF = dpgf\n",
    "    surf.MaterialCell.SetSolveData(matsolver)"
   ]
  },
  {
   "cell_type": "code",
   "execution_count": 9,
   "id": "e39f9b07",
   "metadata": {},
   "outputs": [
    {
     "data": {
      "text/plain": [
       "True"
      ]
     },
     "execution_count": 9,
     "metadata": {},
     "output_type": "execute_result"
    }
   ],
   "source": [
    "oss.new()\n",
    "oss.make_sequential()"
   ]
  },
  {
   "cell_type": "code",
   "execution_count": 10,
   "id": "ca60b8af",
   "metadata": {},
   "outputs": [],
   "source": [
    "# set wavelength\n",
    "wl_1 = oss.SystemData.Wavelengths.GetWavelength(1)\n",
    "wl_1.Wavelength = wavelength/1000  # convert to nanometer\n",
    "\n",
    "# Set aperture type\n",
    "oss.SystemData.Aperture.ApertureType = zp.constants.SystemData.ZemaxApertureType.FloatByStopSize"
   ]
  },
  {
   "cell_type": "code",
   "execution_count": 11,
   "id": "25ed834a",
   "metadata": {},
   "outputs": [],
   "source": [
    "n_surf=0\n",
    "\n",
    "# object\n",
    "r_obj = oss.LDE.GetSurfaceAt(0)\n",
    "r_obj.Comment = 'Object'\n",
    "n_surf+=1\n",
    "\n",
    "# inputbeam (for esthetic reasons)\n",
    "r_ipbeam = oss.LDE.InsertNewSurfaceAt(n_surf)\n",
    "r_ipbeam.Comment = 'InputBeam'\n",
    "r_ipbeam.Thickness = 10\n",
    "n_surf += 1\n",
    "\n",
    "# cornea front\n",
    "cf_surf = oss.LDE.InsertNewSurfaceAt(n_surf)\n",
    "cf_surf.Comment = 'Cornea Front'\n",
    "# Following statement not needed but given as example\n",
    "zp.functions.lde.surface_change_type(cf_surf, int(zp.constants.Editors.LDE.SurfaceType.Standard)) \n",
    "\n",
    "cf_surf.Radius = cf_radius\n",
    "cf_surf.Conic = cf_conic\n",
    "cf_surf.SemiDiameter = 6\n",
    "cf_surf.MechanicalSemiDiameter = 6\n",
    "cf_surf.Thickness = cf_thickness\n",
    "set_materialmodel(cf_surf, refinds.loc['Cornea', wavelength], 0, 0)\n",
    "n_surf += 1\n",
    "\n",
    "# cornea back\n",
    "cb_surf = oss.LDE.InsertNewSurfaceAt(n_surf)\n",
    "cb_surf.Comment = 'Cornea Back'\n",
    "cb_surf.Radius = cb_radius\n",
    "cb_surf.Conic = cb_conic\n",
    "cb_surf.SemiDiameter = 5\n",
    "cb_surf.MechanicalSemiDiameter = 6\n",
    "cb_surf.Thickness = cb_thickness\n",
    "set_materialmodel(cb_surf, refinds.loc['Aqueous', wavelength], 0, 0)\n",
    "n_surf += 1\n",
    "\n",
    "# iris/pupil\n",
    "iris_surf = oss.LDE.GetSurfaceAt(n_surf)\n",
    "iris_surf.Comment = 'Iris'\n",
    "iris_surf.SemiDiameter = pupil_radius\n",
    "iris_surf.MechanicalSemiDiameter = 6\n",
    "set_materialmodel(iris_surf, refinds.loc['Aqueous', wavelength], 0, 0)\n",
    "n_surf += 1\n",
    "\n",
    "# Lens front\n",
    "lf_surf = oss.LDE.InsertNewSurfaceAt(n_surf)\n",
    "lf_surf.Comment = 'Lens Front'\n",
    "lf_surf.Radius = lf_radius\n",
    "lf_surf.Conic = lf_conic\n",
    "lf_surf.SemiDiameter = 4.5\n",
    "lf_surf.MechanicalSemiDiameter = 4.5\n",
    "lf_surf.Thickness = lf_thickness\n",
    "set_materialmodel(lf_surf, refinds.loc['Lens', wavelength], 0, 0)\n",
    "n_surf += 1\n",
    "\n",
    "# Lens back\n",
    "lb_surf = oss.LDE.InsertNewSurfaceAt(n_surf)\n",
    "lb_surf.Comment = 'Lens Back'\n",
    "lb_surf.Radius = lb_radius\n",
    "lb_surf.Conic = lb_conic\n",
    "lb_surf.SemiDiameter = 4.5\n",
    "lb_surf.MechanicalSemiDiameter = 4.5\n",
    "lb_surf.Thickness = lb_thickness\n",
    "set_materialmodel(lb_surf, refinds.loc['Vitreous', wavelength], 0, 0)\n",
    "n_surf += 1\n",
    "\n",
    "# Retina\n",
    "ret_surf = oss.LDE.GetSurfaceAt(n_surf)\n",
    "ret_surf.Comment = 'Retina'\n",
    "ret_surf.Radius = ret_radius\n",
    "ret_surf.Conic = ret_conic\n",
    "ret_surf.SemiDiameter = 12\n",
    "set_materialmodel(ret_surf, refinds.loc['Vitreous', wavelength], 0, 0)"
   ]
  },
  {
   "cell_type": "markdown",
   "id": "75aafdca",
   "metadata": {},
   "source": [
    "## Draw"
   ]
  },
  {
   "cell_type": "code",
   "execution_count": 12,
   "id": "7de0f211",
   "metadata": {},
   "outputs": [],
   "source": [
    "cf_surf.DrawData.DoNotDrawEdgesFromThisSurface = False\n",
    "cb_surf.DrawData.DoNotDrawEdgesFromThisSurface = True\n",
    "iris_surf.DrawData.DoNotDrawEdgesFromThisSurface = True\n",
    "lf_surf.DrawData.DoNotDrawEdgesFromThisSurface = False\n",
    "lb_surf.DrawData.DoNotDrawEdgesFromThisSurface = True"
   ]
  },
  {
   "cell_type": "code",
   "execution_count": 13,
   "id": "f05d94e5",
   "metadata": {},
   "outputs": [],
   "source": [
    "draw3d = oss.Analyses.New_Analysis(zp.constants.Analysis.AnalysisIDM.Draw3D)\n",
    "shaded = oss.Analyses.New_Analysis(zp.constants.Analysis.AnalysisIDM.ShadedModel)"
   ]
  },
  {
   "cell_type": "markdown",
   "id": "ab1041b9",
   "metadata": {},
   "source": [
    "## Analyze"
   ]
  },
  {
   "cell_type": "code",
   "execution_count": 14,
   "id": "9efcb2ec",
   "metadata": {},
   "outputs": [],
   "source": [
    "psf = zp.analyses.psf.huygens_psf(oss, '256x256', '256x256', normalize=True, oncomplete='Sustain')"
   ]
  },
  {
   "cell_type": "code",
   "execution_count": 15,
   "id": "f63a5f13",
   "metadata": {},
   "outputs": [
    {
     "data": {
      "text/plain": [
       "<matplotlib.colorbar.Colorbar at 0x1deb04b6508>"
      ]
     },
     "execution_count": 15,
     "metadata": {},
     "output_type": "execute_result"
    },
    {
     "data": {
      "image/png": "[encoded data removed]",
      "text/plain": [
       "<Figure size 432x288 with 2 Axes>"
      ]
     },
     "metadata": {
      "needs_background": "light"
     },
     "output_type": "display_data"
    }
   ],
   "source": [
    "fig = plt.figure()\n",
    "ax = fig.add_subplot(111)\n",
    "im = ax.imshow(psf.Data, cmap='jet')\n",
    "plt.colorbar(im)"
   ]
  },
  {
   "cell_type": "markdown",
   "id": "04b555d3",
   "metadata": {},
   "source": [
    "## Modify input field"
   ]
  },
  {
   "cell_type": "code",
   "execution_count": 16,
   "id": "3fc71323",
   "metadata": {},
   "outputs": [],
   "source": [
    "field1 = oss.SystemData.Fields.GetField(1)"
   ]
  },
  {
   "cell_type": "code",
   "execution_count": 17,
   "id": "0a80a2cb",
   "metadata": {},
   "outputs": [],
   "source": [
    "field1.Y = 15"
   ]
  },
  {
   "cell_type": "markdown",
   "id": "47b15eed",
   "metadata": {},
   "source": [
    "## Redo analyses"
   ]
  },
  {
   "cell_type": "code",
   "execution_count": 18,
   "id": "4099f89f",
   "metadata": {},
   "outputs": [],
   "source": [
    "draw3d.Apply()"
   ]
  },
  {
   "cell_type": "code",
   "execution_count": 19,
   "id": "37726415",
   "metadata": {},
   "outputs": [],
   "source": [
    "psf = zp.analyses.psf.huygens_psf(oss, '256x256', '256x256', normalize=True, oncomplete='Sustain')"
   ]
  },
  {
   "cell_type": "code",
   "execution_count": 20,
   "id": "ca84a5fb",
   "metadata": {},
   "outputs": [
    {
     "data": {
      "text/plain": [
       "<matplotlib.colorbar.Colorbar at 0x1deb0d9adc8>"
      ]
     },
     "execution_count": 20,
     "metadata": {},
     "output_type": "execute_result"
    },
    {
     "data": {
      "image/png": "[encoded data removed]",
      "text/plain": [
       "<Figure size 432x288 with 2 Axes>"
      ]
     },
     "metadata": {
      "needs_background": "light"
     },
     "output_type": "display_data"
    }
   ],
   "source": [
    "fig = plt.figure()\n",
    "ax = fig.add_subplot(111)\n",
    "im = ax.imshow(psf.Data, cmap='jet')\n",
    "plt.colorbar(im)"
   ]
  }
 ],
 "metadata": {
  "kernelspec": {
   "display_name": "Python 3 (ipykernel)",
   "language": "python",
   "name": "python3"
  },
  "language_info": {
   "codemirror_mode": {
    "name": "ipython",
    "version": 3
   },
   "file_extension": ".py",
   "mimetype": "text/x-python",
   "name": "python",
   "nbconvert_exporter": "python",
   "pygments_lexer": "ipython3",
   "version": "3.7.5"
  }
 },
 "nbformat": 4,
 "nbformat_minor": 5
}
