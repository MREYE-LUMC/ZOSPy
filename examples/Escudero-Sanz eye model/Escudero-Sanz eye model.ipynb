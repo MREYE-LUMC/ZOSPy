{
 "cells": [
  {
   "cell_type": "markdown",
   "id": "5bec32a3",
   "metadata": {},
   "source": [
    "# Creating the Escudero-Sanz eye model through ZOSPY\n",
    "This example demonstrates how to create and analyze a virtual version of the [eye model described by I. Escudero-Sanz and R. Navarro](https://doi.org/10.1364/JOSAA.16.001881) through ZOSPy."
   ]
  },
  {
   "cell_type": "code",
   "execution_count": 1,
   "id": "44ca847c",
   "metadata": {},
   "outputs": [],
   "source": [
    "import zospy as zp\n",
    "import pandas as pd\n",
    "import matplotlib.pyplot as plt\n",
    "\n",
    "from zospy import solvers\n",
    "from zospy.analyses import OnComplete"
   ]
  },
  {
   "cell_type": "markdown",
   "id": "b292f92c",
   "metadata": {},
   "source": [
    "## Define constants"
   ]
  },
  {
   "cell_type": "code",
   "execution_count": 3,
   "id": "42735faa",
   "metadata": {},
   "outputs": [],
   "source": [
    "wavelength = 543.0"
   ]
  },
  {
   "cell_type": "code",
   "execution_count": 4,
   "id": "e9250b81",
   "metadata": {},
   "outputs": [],
   "source": [
    "refinds = pd.DataFrame(columns=[458, 543, 589.3, 632.8],\n",
    "                       index=['Cornea', 'Aqueous', 'Lens', 'Vitreous'],\n",
    "                       data = [[1.3828, 1.3777, 1.376, 1.3747],\n",
    "                               [1.3445, 1.3391, 1.3374, 1.336],\n",
    "                               [1.4292, 1.4222, 1.42, 1.4183],\n",
    "                               [1.3428, 1.3377, 1.336, 1.3347]])"
   ]
  },
  {
   "cell_type": "code",
   "execution_count": 5,
   "id": "3cee74c5",
   "metadata": {},
   "outputs": [],
   "source": [
    "# Cornea front\n",
    "cf_radius = 7.72\n",
    "cf_conic = -0.26\n",
    "cf_thickness = 0.55\n",
    "\n",
    "# Cornea back\n",
    "cb_radius = 6.50\n",
    "cb_conic = 0\n",
    "cb_thickness = 3.05\n",
    "\n",
    "# Pupil\n",
    "pupil_radius = 1.5\n",
    "\n",
    "# Lens front\n",
    "lf_radius = 10.20\n",
    "lf_conic = -3.1316\n",
    "lf_thickness = 4.00\n",
    "\n",
    "# Lens back\n",
    "lb_radius = -6.00\n",
    "lb_conic = -1.0\n",
    "lb_thickness = 16.3202\n",
    "\n",
    "# Retina\n",
    "ret_radius = -12.00\n",
    "ret_conic = 0\n"
   ]
  },
  {
   "cell_type": "markdown",
   "id": "b09c33ed",
   "metadata": {},
   "source": [
    "## Connect to ZOS"
   ]
  },
  {
   "cell_type": "code",
   "execution_count": 6,
   "id": "f9db3c6a",
   "metadata": {},
   "outputs": [
    {
     "ename": "ValueError",
     "evalue": "Cannot have more than one active ZOS instance",
     "output_type": "error",
     "traceback": [
      "\u001B[1;31m---------------------------------------------------------------------------\u001B[0m",
      "\u001B[1;31mValueError\u001B[0m                                Traceback (most recent call last)",
      "Cell \u001B[1;32mIn[9], line 1\u001B[0m\n\u001B[1;32m----> 1\u001B[0m zos \u001B[38;5;241m=\u001B[39m \u001B[43mzp\u001B[49m\u001B[38;5;241;43m.\u001B[39;49m\u001B[43mZOS\u001B[49m\u001B[43m(\u001B[49m\u001B[43m)\u001B[49m\n\u001B[0;32m      2\u001B[0m zos\u001B[38;5;241m.\u001B[39mwakeup()\n",
      "File \u001B[1;32mD:\\code\\zemax\\zospy\\zospy\\zpcore.py:296\u001B[0m, in \u001B[0;36mZOS.__new__\u001B[1;34m(cls, *args, **kwargs)\u001B[0m\n\u001B[0;32m    291\u001B[0m \u001B[38;5;28;01mdef\u001B[39;00m \u001B[38;5;21m__new__\u001B[39m(\u001B[38;5;28mcls\u001B[39m, \u001B[38;5;241m*\u001B[39margs, \u001B[38;5;241m*\u001B[39m\u001B[38;5;241m*\u001B[39mkwargs):\n\u001B[0;32m    293\u001B[0m     \u001B[38;5;28;01mif\u001B[39;00m \u001B[38;5;28mlen\u001B[39m(\u001B[38;5;28mcls\u001B[39m\u001B[38;5;241m.\u001B[39m_instances) \u001B[38;5;241m>\u001B[39m\u001B[38;5;241m=\u001B[39m \u001B[38;5;241m1\u001B[39m:\n\u001B[0;32m    294\u001B[0m         \u001B[38;5;66;03m# As the number of applications within runtime is limited to 1 by Zemax, it is logical to also limit the\u001B[39;00m\n\u001B[0;32m    295\u001B[0m         \u001B[38;5;66;03m# number of ZOS instances\u001B[39;00m\n\u001B[1;32m--> 296\u001B[0m         \u001B[38;5;28;01mraise\u001B[39;00m \u001B[38;5;167;01mValueError\u001B[39;00m(\u001B[38;5;124m'\u001B[39m\u001B[38;5;124mCannot have more than one active ZOS instance\u001B[39m\u001B[38;5;124m'\u001B[39m)\n\u001B[0;32m    298\u001B[0m     instance \u001B[38;5;241m=\u001B[39m \u001B[38;5;28msuper\u001B[39m(ZOS, \u001B[38;5;28mcls\u001B[39m)\u001B[38;5;241m.\u001B[39m\u001B[38;5;21m__new__\u001B[39m(\u001B[38;5;28mcls\u001B[39m, \u001B[38;5;241m*\u001B[39margs, \u001B[38;5;241m*\u001B[39m\u001B[38;5;241m*\u001B[39mkwargs)\n\u001B[0;32m    300\u001B[0m     \u001B[38;5;28;01mreturn\u001B[39;00m instance\n",
      "\u001B[1;31mValueError\u001B[0m: Cannot have more than one active ZOS instance"
     ]
    }
   ],
   "source": [
    "zos = zp.ZOS()\n",
    "zos.wakeup()"
   ]
  },
  {
   "cell_type": "code",
   "execution_count": 7,
   "id": "3a1d1c97",
   "metadata": {},
   "outputs": [
    {
     "data": {
      "text/plain": "True"
     },
     "execution_count": 7,
     "metadata": {},
     "output_type": "execute_result"
    }
   ],
   "source": [
    "zos.connect_as_extension()"
   ]
  },
  {
   "cell_type": "code",
   "execution_count": 8,
   "id": "54f49da5",
   "metadata": {},
   "outputs": [],
   "source": [
    "oss = zos.get_primary_system()"
   ]
  },
  {
   "cell_type": "markdown",
   "id": "21d6fce5",
   "metadata": {},
   "source": [
    "## Create model"
   ]
  },
  {
   "cell_type": "code",
   "execution_count": 9,
   "id": "e39f9b07",
   "metadata": {},
   "outputs": [
    {
     "data": {
      "text/plain": "True"
     },
     "execution_count": 12,
     "metadata": {},
     "output_type": "execute_result"
    }
   ],
   "source": [
    "oss.new()\n",
    "oss.make_sequential()"
   ]
  },
  {
   "cell_type": "code",
   "execution_count": 13,
   "id": "ca60b8af",
   "metadata": {},
   "outputs": [],
   "source": [
    "# set wavelength\n",
    "wl_1 = oss.SystemData.Wavelengths.GetWavelength(1)\n",
    "wl_1.Wavelength = wavelength/1000  # convert to nanometer\n",
    "\n",
    "# Set aperture type\n",
    "oss.SystemData.Aperture.ApertureType = zp.constants.SystemData.ZemaxApertureType.FloatByStopSize"
   ]
  },
  {
   "cell_type": "code",
   "execution_count": 14,
   "id": "25ed834a",
   "metadata": {},
   "outputs": [
    {
     "data": {
      "text/plain": "<ZOSAPI.Editors.ISolveMaterialModel object at 0x000002858375D700>"
     },
     "execution_count": 11,
     "metadata": {},
     "output_type": "execute_result"
    }
   ],
   "source": [
    "n_surf=0\n",
    "\n",
    "# object\n",
    "r_obj = oss.LDE.GetSurfaceAt(0)\n",
    "r_obj.Comment = 'Object'\n",
    "n_surf+=1\n",
    "\n",
    "# inputbeam (for esthetic reasons)\n",
    "r_ipbeam = oss.LDE.InsertNewSurfaceAt(n_surf)\n",
    "r_ipbeam.Comment = 'InputBeam'\n",
    "r_ipbeam.Thickness = 10\n",
    "n_surf += 1\n",
    "\n",
    "# cornea front\n",
    "cf_surf = oss.LDE.InsertNewSurfaceAt(n_surf)\n",
    "cf_surf.Comment = 'Cornea Front'\n",
    "# Following statement not needed but given as example\n",
    "zp.functions.lde.surface_change_type(cf_surf, zp.constants.Editors.LDE.SurfaceType.Standard)\n",
    "\n",
    "cf_surf.Radius = cf_radius\n",
    "cf_surf.Conic = cf_conic\n",
    "cf_surf.SemiDiameter = 6\n",
    "cf_surf.MechanicalSemiDiameter = 6\n",
    "cf_surf.Thickness = cf_thickness\n",
    "solvers.material_model(cf_surf.MaterialCell, refinds.loc['Cornea', wavelength], 0, 0)\n",
    "n_surf += 1\n",
    "\n",
    "# cornea back\n",
    "cb_surf = oss.LDE.InsertNewSurfaceAt(n_surf)\n",
    "cb_surf.Comment = 'Cornea Back'\n",
    "cb_surf.Radius = cb_radius\n",
    "cb_surf.Conic = cb_conic\n",
    "cb_surf.SemiDiameter = 5\n",
    "cb_surf.MechanicalSemiDiameter = 6\n",
    "cb_surf.Thickness = cb_thickness\n",
    "solvers.material_model(cb_surf.MaterialCell, refinds.loc['Aqueous', wavelength], 0, 0)\n",
    "n_surf += 1\n",
    "\n",
    "# iris/pupil\n",
    "iris_surf = oss.LDE.GetSurfaceAt(n_surf)\n",
    "iris_surf.Comment = 'Iris'\n",
    "iris_surf.SemiDiameter = pupil_radius\n",
    "iris_surf.MechanicalSemiDiameter = 6\n",
    "solvers.material_model(iris_surf.MaterialCell, refinds.loc['Aqueous', wavelength], 0, 0)\n",
    "n_surf += 1\n",
    "\n",
    "# Lens front\n",
    "lf_surf = oss.LDE.InsertNewSurfaceAt(n_surf)\n",
    "lf_surf.Comment = 'Lens Front'\n",
    "lf_surf.Radius = lf_radius\n",
    "lf_surf.Conic = lf_conic\n",
    "lf_surf.SemiDiameter = 4.5\n",
    "lf_surf.MechanicalSemiDiameter = 4.5\n",
    "lf_surf.Thickness = lf_thickness\n",
    "solvers.material_model(lf_surf.MaterialCell, refinds.loc['Lens', wavelength], 0, 0)\n",
    "n_surf += 1\n",
    "\n",
    "# Lens back\n",
    "lb_surf = oss.LDE.InsertNewSurfaceAt(n_surf)\n",
    "lb_surf.Comment = 'Lens Back'\n",
    "lb_surf.Radius = lb_radius\n",
    "lb_surf.Conic = lb_conic\n",
    "lb_surf.SemiDiameter = 4.5\n",
    "lb_surf.MechanicalSemiDiameter = 4.5\n",
    "lb_surf.Thickness = lb_thickness\n",
    "solvers.material_model(lb_surf.MaterialCell, refinds.loc['Vitreous', wavelength], 0, 0)\n",
    "n_surf += 1\n",
    "\n",
    "# Retina\n",
    "ret_surf = oss.LDE.GetSurfaceAt(n_surf)\n",
    "ret_surf.Comment = 'Retina'\n",
    "ret_surf.Radius = ret_radius\n",
    "ret_surf.Conic = ret_conic\n",
    "ret_surf.SemiDiameter = 12\n",
    "solvers.material_model(ret_surf.MaterialCell, refinds.loc['Vitreous', wavelength], 0, 0)"
   ]
  },
  {
   "cell_type": "markdown",
   "id": "75aafdca",
   "metadata": {},
   "source": [
    "## Draw"
   ]
  },
  {
   "cell_type": "code",
   "execution_count": 15,
   "id": "7de0f211",
   "metadata": {},
   "outputs": [],
   "source": [
    "cf_surf.DrawData.DoNotDrawEdgesFromThisSurface = False\n",
    "cb_surf.DrawData.DoNotDrawEdgesFromThisSurface = True\n",
    "iris_surf.DrawData.DoNotDrawEdgesFromThisSurface = True\n",
    "lf_surf.DrawData.DoNotDrawEdgesFromThisSurface = False\n",
    "lb_surf.DrawData.DoNotDrawEdgesFromThisSurface = True"
   ]
  },
  {
   "cell_type": "code",
   "execution_count": 16,
   "id": "f05d94e5",
   "metadata": {},
   "outputs": [],
   "source": [
    "draw3d = zp.analyses.new_analysis(oss, zp.constants.Analysis.AnalysisIDM.Draw3D, settings_first=False)\n",
    "shaded = zp.analyses.new_analysis(oss, zp.constants.Analysis.AnalysisIDM.ShadedModel, settings_first=False)"
   ]
  },
  {
   "cell_type": "markdown",
   "id": "ab1041b9",
   "metadata": {},
   "source": [
    "## Analyze"
   ]
  },
  {
   "cell_type": "code",
   "execution_count": 17,
   "id": "9efcb2ec",
   "metadata": {},
   "outputs": [
    {
     "name": "stderr",
     "output_type": "stream",
     "text": [
      "D:\\code\\zemax\\zospy\\zospy\\analyses\\psf.py:84: FutureWarning: The default dtype for empty Series will be 'object' instead of 'float64' in a future version. Specify a dtype explicitly to silence this warning.\n",
      "  settings = pd.Series(name='Settings')\n"
     ]
    }
   ],
   "source": [
    "psf = zp.analyses.psf.huygens_psf(oss, '256x256', '256x256', normalize=True, oncomplete=OnComplete.Sustain)"
   ]
  },
  {
   "cell_type": "code",
   "execution_count": 18,
   "id": "f63a5f13",
   "metadata": {},
   "outputs": [
    {
     "data": {
      "text/plain": "<matplotlib.colorbar.Colorbar at 0x285837c6f90>"
     },
     "execution_count": 18,
     "metadata": {},
     "output_type": "execute_result"
    },
    {
     "data": {
      "text/plain": "<Figure size 640x480 with 2 Axes>",
      "image/png": "[encoded data removed]"
     },
     "metadata": {},
     "output_type": "display_data"
    }
   ],
   "source": [
    "fig = plt.figure()\n",
    "ax = fig.add_subplot(111)\n",
    "im = ax.imshow(psf.Data, cmap='jet')\n",
    "plt.colorbar(im)"
   ]
  },
  {
   "cell_type": "markdown",
   "id": "04b555d3",
   "metadata": {},
   "source": [
    "## Modify input field"
   ]
  },
  {
   "cell_type": "code",
   "execution_count": 19,
   "id": "3fc71323",
   "metadata": {},
   "outputs": [],
   "source": [
    "field1 = oss.SystemData.Fields.GetField(1)"
   ]
  },
  {
   "cell_type": "code",
   "execution_count": 20,
   "id": "0a80a2cb",
   "metadata": {},
   "outputs": [],
   "source": [
    "field1.Y = 15"
   ]
  },
  {
   "cell_type": "markdown",
   "id": "47b15eed",
   "metadata": {},
   "source": [
    "## Redo analyses"
   ]
  },
  {
   "cell_type": "code",
   "execution_count": 21,
   "id": "4099f89f",
   "metadata": {},
   "outputs": [],
   "source": [
    "draw3d.Apply()"
   ]
  },
  {
   "cell_type": "code",
   "execution_count": 22,
   "id": "37726415",
   "metadata": {},
   "outputs": [
    {
     "name": "stderr",
     "output_type": "stream",
     "text": [
      "D:\\code\\zemax\\zospy\\zospy\\analyses\\psf.py:84: FutureWarning: The default dtype for empty Series will be 'object' instead of 'float64' in a future version. Specify a dtype explicitly to silence this warning.\n",
      "  settings = pd.Series(name='Settings')\n"
     ]
    }
   ],
   "source": [
    "psf = zp.analyses.psf.huygens_psf(oss, '256x256', '256x256', normalize=True, oncomplete=OnComplete.Sustain)"
   ]
  },
  {
   "cell_type": "code",
   "execution_count": 23,
   "id": "ca84a5fb",
   "metadata": {},
   "outputs": [
    {
     "data": {
      "text/plain": "<matplotlib.colorbar.Colorbar at 0x2858153ac90>"
     },
     "execution_count": 23,
     "metadata": {},
     "output_type": "execute_result"
    },
    {
     "data": {
      "text/plain": "<Figure size 640x480 with 2 Axes>",
      "image/png": "[encoded data removed]"
     },
     "metadata": {},
     "output_type": "display_data"
    }
   ],
   "source": [
    "fig = plt.figure()\n",
    "ax = fig.add_subplot(111)\n",
    "im = ax.imshow(psf.Data, cmap='jet')\n",
    "plt.colorbar(im)"
   ]
  },
  {
   "cell_type": "code",
   "execution_count": null,
   "outputs": [],
   "source": [],
   "metadata": {
    "collapsed": false
   }
  }
 ],
 "metadata": {
  "kernelspec": {
   "display_name": "Python 3 (ipykernel)",
   "language": "python",
   "name": "python3"
  },
  "language_info": {
   "codemirror_mode": {
    "name": "ipython",
    "version": 3
   },
   "file_extension": ".py",
   "mimetype": "text/x-python",
   "name": "python",
   "nbconvert_exporter": "python",
   "pygments_lexer": "ipython3",
   "version": "3.7.5"
  }
 },
 "nbformat": 4,
 "nbformat_minor": 5
}
